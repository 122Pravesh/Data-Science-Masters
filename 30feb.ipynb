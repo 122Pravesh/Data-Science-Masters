{
 "cells": [
  {
   "cell_type": "markdown",
   "id": "9f08d40c-003b-4a6a-89e7-713475d5a86b",
   "metadata": {},
   "source": [
    "# Ans No 1"
   ]
  },
  {
   "cell_type": "code",
   "execution_count": 5,
   "id": "cd3e2ca2-2a4b-4df2-b822-5776d08eec23",
   "metadata": {},
   "outputs": [
    {
     "name": "stdin",
     "output_type": "stream",
     "text": [
      "Enter the marks 500\n"
     ]
    },
    {
     "name": "stdout",
     "output_type": "stream",
     "text": [
      "Grade A\n"
     ]
    }
   ],
   "source": [
    "student_marks=int(input(\"Enter the marks\"))\n",
    "if student_marks>90:\n",
    "    print(\"Grade A\")\n",
    "elif student_marks >80 and student_marks<=90:\n",
    "    print(\"Grade B\")\n",
    "elif student_marks >=60 and student_marks<=80:\n",
    "    print(\"Grade C\")\n",
    "else:\n",
    "    print(\"Grade D\")\n",
    "    "
   ]
  },
  {
   "cell_type": "markdown",
   "id": "45ddb343-77f9-45e6-a481-6e3721ce399e",
   "metadata": {},
   "source": [
    "# Ans No 2"
   ]
  },
  {
   "cell_type": "code",
   "execution_count": 10,
   "id": "6cda5d54-49aa-4cba-b1a0-2ca39ce3b969",
   "metadata": {},
   "outputs": [
    {
     "name": "stdin",
     "output_type": "stream",
     "text": [
      "Enter the cost price  10000\n"
     ]
    },
    {
     "name": "stdout",
     "output_type": "stream",
     "text": [
      "The road tax to be paid 500.0\n"
     ]
    }
   ],
   "source": [
    "cost_price=int(input(\"Enter the cost price \"))\n",
    "if cost_price>100000 :\n",
    "    print(f\"The road tax to be paid {cost_price*0.15}\")\n",
    "elif cost_price>50000 and cost_price<= 100000:\n",
    "    print(f\"The road tax to be paid {cost_price*0.10}\")\n",
    "else:\n",
    "    print(f\"The road tax to be paid {cost_price*0.05}\")    "
   ]
  },
  {
   "cell_type": "markdown",
   "id": "dccfd70a-2fb3-45eb-a395-7977451b54a0",
   "metadata": {},
   "source": [
    "# Ans No 3"
   ]
  },
  {
   "cell_type": "code",
   "execution_count": 12,
   "id": "904b90fb-5f38-48cf-8ca1-fdba833c67a0",
   "metadata": {},
   "outputs": [
    {
     "name": "stdin",
     "output_type": "stream",
     "text": [
      "Enter the city eee\n"
     ]
    },
    {
     "name": "stdout",
     "output_type": "stream",
     "text": [
      "Invalid City\n"
     ]
    }
   ],
   "source": [
    "city=input(\"Enter the city\")\n",
    "if city==\"Delhi\":\n",
    "    print(\"Taj mahal\")\n",
    "elif city==\"Agra\":\n",
    "    print(\"Taj Mahal\")\n",
    "elif city==\"Jaipur\":\n",
    "    print(\"Jal Mahal\")\n",
    "else:\n",
    "    print(\"Invalid City\")   "
   ]
  },
  {
   "cell_type": "markdown",
   "id": "fe114850-fd32-40cf-8109-9401e988dbf7",
   "metadata": {},
   "source": [
    "# Ans No 4"
   ]
  },
  {
   "cell_type": "code",
   "execution_count": 16,
   "id": "9a73ae14-8c6b-4c37-b104-88b622ae2b51",
   "metadata": {},
   "outputs": [
    {
     "name": "stdin",
     "output_type": "stream",
     "text": [
      "Enter the no. 100\n"
     ]
    },
    {
     "name": "stdout",
     "output_type": "stream",
     "text": [
      "3\n"
     ]
    }
   ],
   "source": [
    "count=0 \n",
    "number=int(input(\"Enter the no.\"))\n",
    "if number<=10:\n",
    "    print (\" No is less than or equal to 10\")\n",
    "else:\n",
    "    while number>10:\n",
    "        number =number/3\n",
    "        count+=1\n",
    "print(count)        \n",
    "    "
   ]
  },
  {
   "cell_type": "markdown",
   "id": "b2528a75-71b3-4a13-ad59-d5bf7f2dd475",
   "metadata": {},
   "source": [
    "# Ans No 5"
   ]
  },
  {
   "cell_type": "markdown",
   "id": "7783c864-4fe4-44c4-a8be-009bc6ce2627",
   "metadata": {},
   "source": [
    "# Why and when to use while loop give a detailed discription with example "
   ]
  },
  {
   "cell_type": "markdown",
   "id": "a61b7242-9731-486e-a6c6-39138579ce57",
   "metadata": {},
   "source": [
    "### A \"While\" Loop is used to repeat a specific block of code an unknown number of times, until a condition is met. For example, if we want to ask a user for a number between 1 and 10, we don't know how many times the user may enter a larger number, so we keep asking \"while the number is not between 1 and 10\"."
   ]
  },
  {
   "cell_type": "markdown",
   "id": "ecb711ef-50ae-4010-b07d-cf2f69fb76c2",
   "metadata": {},
   "source": [
    "# Ans No 6"
   ]
  },
  {
   "cell_type": "code",
   "execution_count": 1,
   "id": "6939892d-1fe7-4fcf-b69b-82ce75ab28eb",
   "metadata": {},
   "outputs": [
    {
     "name": "stdin",
     "output_type": "stream",
     "text": [
      "Enter number of rows :  6\n"
     ]
    },
    {
     "name": "stdout",
     "output_type": "stream",
     "text": [
      "* \n",
      "* * \n",
      "* * * \n",
      "* * * * \n",
      "* * * * * \n",
      "* * * * * * \n"
     ]
    }
   ],
   "source": [
    "n = int(input('Enter number of rows : '))\n",
    "\n",
    "i = 1\n",
    "while i <= n :\n",
    "    j = 1\n",
    "    while j <= i:\n",
    "        print(\"*\", end = \" \")\n",
    "        j += 1\n",
    "    print()\n",
    "    i += 1\n",
    "        "
   ]
  },
  {
   "cell_type": "code",
   "execution_count": 2,
   "id": "200f1f23-fa6a-49e0-81dd-593fb8e6a0f4",
   "metadata": {},
   "outputs": [
    {
     "name": "stdin",
     "output_type": "stream",
     "text": [
      "Enter number of rows :  6\n"
     ]
    },
    {
     "name": "stdout",
     "output_type": "stream",
     "text": [
      "* * * * * * \n",
      "* * * * * \n",
      "* * * * \n",
      "* * * \n",
      "* * \n",
      "* \n"
     ]
    }
   ],
   "source": [
    "n = int(input('Enter number of rows : '))\n",
    " \n",
    "i = 1\n",
    "while i <= n :\n",
    "    j = n\n",
    "    while j >= i:\n",
    "        print(\"*\", end = \" \")\n",
    "        j -= 1\n",
    "    print()\n",
    "    i += 1"
   ]
  },
  {
   "cell_type": "code",
   "execution_count": 2,
   "id": "371de55d-0e04-4a1f-940f-fbcf01e4c0b2",
   "metadata": {},
   "outputs": [
    {
     "name": "stdin",
     "output_type": "stream",
     "text": [
      "Enter: No of rows:  10\n"
     ]
    },
    {
     "name": "stdout",
     "output_type": "stream",
     "text": [
      "         * \n",
      "        * * \n",
      "       * * * \n",
      "      * * * * \n",
      "     * * * * * \n",
      "    * * * * * * \n",
      "   * * * * * * * \n",
      "  * * * * * * * * \n",
      " * * * * * * * * * \n",
      "* * * * * * * * * * \n"
     ]
    }
   ],
   "source": [
    "num=int(input(\"Enter: No of rows: \"))\n",
    "row=0\n",
    "while row<num:\n",
    "        space=num-row-1\n",
    "        while space>0:\n",
    "            print(end=\" \")\n",
    "            space=space-1\n",
    "        star=row+1\n",
    "        while star>0:\n",
    "            print(\"*\",end=\" \")\n",
    "            star=star-1\n",
    "        row=row+1    \n",
    "        print()    "
   ]
  },
  {
   "cell_type": "code",
   "execution_count": 2,
   "id": "9ff1deb7-e96f-4770-809f-fd14dfd28403",
   "metadata": {},
   "outputs": [
    {
     "name": "stdin",
     "output_type": "stream",
     "text": [
      "Enter: No of rows:  10\n"
     ]
    },
    {
     "name": "stdout",
     "output_type": "stream",
     "text": [
      "                  * \n",
      "                * * \n",
      "              * * * \n",
      "            * * * * \n",
      "          * * * * * \n",
      "        * * * * * * \n",
      "      * * * * * * * \n",
      "    * * * * * * * * \n",
      "  * * * * * * * * * \n",
      "* * * * * * * * * * \n"
     ]
    }
   ],
   "source": [
    "num=int(input(\"Enter: No of rows: \"))\n",
    "row=0\n",
    "while row<num:\n",
    "        space=num-row-1\n",
    "        while space>0:\n",
    "            print(\" \",end=\" \")\n",
    "            space=space-1\n",
    "        star=row+1\n",
    "        while star>0:\n",
    "            print(\"*\",end=\" \")\n",
    "            star=star-1\n",
    "        row=row+1    \n",
    "        print()    "
   ]
  },
  {
   "cell_type": "markdown",
   "id": "7e2aaf9a-d522-4b98-ae9d-219084c6efbb",
   "metadata": {},
   "source": [
    "# Ans No 7"
   ]
  },
  {
   "cell_type": "code",
   "execution_count": 3,
   "id": "2c2513f7-582d-4ad8-8494-f8a5c6694371",
   "metadata": {},
   "outputs": [
    {
     "name": "stdout",
     "output_type": "stream",
     "text": [
      "10\n",
      "9\n",
      "8\n",
      "7\n",
      "6\n",
      "5\n",
      "4\n",
      "3\n",
      "2\n",
      "1\n"
     ]
    }
   ],
   "source": [
    "i = 10\n",
    "while i > 0:\n",
    "    print(i)\n",
    "    i = i - 1"
   ]
  },
  {
   "cell_type": "code",
   "execution_count": null,
   "id": "06dfc303-1e3d-4efa-a43e-c168733e2985",
   "metadata": {},
   "outputs": [],
   "source": [
    "Ans "
   ]
  }
 ],
 "metadata": {
  "kernelspec": {
   "display_name": "Python 3 (ipykernel)",
   "language": "python",
   "name": "python3"
  },
  "language_info": {
   "codemirror_mode": {
    "name": "ipython",
    "version": 3
   },
   "file_extension": ".py",
   "mimetype": "text/x-python",
   "name": "python",
   "nbconvert_exporter": "python",
   "pygments_lexer": "ipython3",
   "version": "3.10.8"
  }
 },
 "nbformat": 4,
 "nbformat_minor": 5
}
