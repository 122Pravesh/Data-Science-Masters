{
 "cells": [
  {
   "cell_type": "markdown",
   "id": "9d5df91d-fa16-4e1a-a8cb-1a5d829ed1a0",
   "metadata": {},
   "source": [
    "### Q1. Explain Class and Object with respect to Object-Oriented Programming. Give a suitable example."
   ]
  },
  {
   "cell_type": "markdown",
   "id": "ef3d18e0-60cf-4e96-a21b-ce3c03831cce",
   "metadata": {},
   "source": [
    "#### Python is an object oriented programming language.Almost everything in Python is an object, with its properties and methods. A Class is like an object constructor, or a \"blueprint\" for creating objects."
   ]
  },
  {
   "cell_type": "markdown",
   "id": "300d40d9-c4f1-47aa-8a70-8bbc975a3167",
   "metadata": {},
   "source": [
    "#### To create a class, use the keyword class:"
   ]
  },
  {
   "cell_type": "markdown",
   "id": "b1b549d5-f657-4ccb-9533-ddac53c86a81",
   "metadata": {},
   "source": [
    "#### ex:"
   ]
  },
  {
   "cell_type": "code",
   "execution_count": 1,
   "id": "ad189400-bbed-49c9-bfdd-4bb8548456c2",
   "metadata": {},
   "outputs": [],
   "source": [
    "class MyClass:\n",
    "  x = 5"
   ]
  },
  {
   "cell_type": "markdown",
   "id": "286a8a92-3e2c-401f-97ea-e7818dbd144e",
   "metadata": {},
   "source": [
    "#### Python is a programming language that focuses on object-oriented programming. In Python, almost everything is an object. We can check if the python is an object using the type(). It is just a collection of variables and Python functions. There are various types of objects in Python such as Lists, dictionaries, files, sets, strings and etc. An object is defined by its class. For example, an integer variable is a member of the integer class. An object is a physical entity. The properties of an object are as follows. State, Identity, and behavior are the three key properties of the object."
   ]
  },
  {
   "cell_type": "code",
   "execution_count": 11,
   "id": "96003124-2dcd-4f1e-b227-45cd990b404d",
   "metadata": {},
   "outputs": [],
   "source": [
    "class IntellipaatClass:\n",
    "    \n",
    "    a = 5\n",
    "def function1(self):\n",
    "    print('Welcome to Intellipaat')"
   ]
  },
  {
   "cell_type": "code",
   "execution_count": 12,
   "id": "9d5089a8-e0a5-4285-b2ce-7f5c873804c4",
   "metadata": {},
   "outputs": [],
   "source": [
    "object1 = IntellipaatClass()"
   ]
  },
  {
   "cell_type": "markdown",
   "id": "def97b86-ae69-4bce-af9e-53d2c3fd1512",
   "metadata": {},
   "source": [
    "### Q2. Name the four pillars of OOPs."
   ]
  },
  {
   "cell_type": "markdown",
   "id": "3653aa93-2ebb-4e09-abf6-fea3d3655ff8",
   "metadata": {},
   "source": [
    "#### Inheritance, Polymorphism, Encapsulation and Abstraction"
   ]
  },
  {
   "cell_type": "markdown",
   "id": "9cd17d04-48ce-4c75-aceb-e8dfaaaf0e06",
   "metadata": {},
   "source": [
    "### Q3. Explain why the __init__() function is used. Give a suitable example."
   ]
  },
  {
   "cell_type": "markdown",
   "id": "c95274f4-2714-4eb9-bf31-8ca93aadf28b",
   "metadata": {},
   "source": [
    "#### There is a method called __init__() for this task. This method is called automatically whenever a new object of a class is created. This type of function is also known as the constructor function. A constructor function is a function that is called every time a new class object is created. Here is an example of a class Car that will clarify the functioning of __init__()"
   ]
  },
  {
   "cell_type": "code",
   "execution_count": 14,
   "id": "dac58f41-8699-4cd9-821d-e51026dc7bda",
   "metadata": {},
   "outputs": [
    {
     "name": "stdout",
     "output_type": "stream",
     "text": [
      "I ran first\n",
      "I ran second\n",
      "Name: Audi R8\n"
     ]
    }
   ],
   "source": [
    "\n",
    "class Car:\n",
    "    def __init__(self, name):\n",
    "        self.name = name\n",
    "        print(\"I ran first\")\n",
    " \n",
    "    def product(self):\n",
    "        print(\"I ran second\")\n",
    "        return (\"Name: \" + self.name)\n",
    " \n",
    " \n",
    "C = Car('Audi R8')\n",
    "print(C.product())"
   ]
  },
  {
   "cell_type": "markdown",
   "id": "300bde5b-9f0b-453e-a152-a37c944401da",
   "metadata": {},
   "source": [
    "### Q4. Why self is used in OOPs?"
   ]
  },
  {
   "cell_type": "markdown",
   "id": "def41faf-16e9-4f97-9388-531c346e899b",
   "metadata": {},
   "source": [
    "#### The self variable is used to represent the instance of the class which is often used in object-oriented programming. It works as a reference to the object. Python uses the self parameter to refer to instance attributes and methods of the class."
   ]
  },
  {
   "cell_type": "markdown",
   "id": "81ab9357-3034-480a-a4d4-64769d00e8bb",
   "metadata": {},
   "source": [
    "### Q5. What is inheritance? Give an example for each type of inheritance."
   ]
  },
  {
   "cell_type": "markdown",
   "id": "f670fb8e-3667-4e0b-a55d-e22a4206c28d",
   "metadata": {},
   "source": [
    "#### Inheritance is a process of obtaining properties and characteristics(variables and methods) of another class. In this hierarchical order, the class which inherits another class is called subclass or child class, and the other class is the parent class."
   ]
  },
  {
   "cell_type": "markdown",
   "id": "d6cfd7b9-e23b-4b7d-8e20-798d0afd54f9",
   "metadata": {},
   "source": [
    "#### There are five types of inheritances:\n",
    "\n",
    "#### Single Inheritance\n",
    "#### Multiple Inheritance\n",
    "#### Multilevel Inheritance\n",
    "#### Hierarchical Inheritance\n",
    "#### Hybrid Inheritance"
   ]
  },
  {
   "cell_type": "markdown",
   "id": "198a98e8-18b6-47e3-8046-c36a24757c8c",
   "metadata": {},
   "source": [
    "#### Single Inheritance --->>"
   ]
  },
  {
   "cell_type": "code",
   "execution_count": 1,
   "id": "063f27a4-956a-41d6-a96b-d5edfcc9a7b8",
   "metadata": {},
   "outputs": [
    {
     "name": "stdout",
     "output_type": "stream",
     "text": [
      "Hey there, you are in the parent class\n",
      "Hey there, you are in the sub class\n",
      "Hey there, you are in the parent class\n",
      "10\n",
      "5\n"
     ]
    }
   ],
   "source": [
    "#parent class\n",
    "class Above:\n",
    "    i = 5\n",
    "    def fun1(self):\n",
    "        print('Hey there, you are in the parent class')\n",
    "\n",
    "#subclass\n",
    "class Below(Above):\n",
    "    i=10\n",
    "    def fun2(self):\n",
    "        print('Hey there, you are in the sub class')\n",
    "\n",
    "temp1=Below()\n",
    "temp2=Above()\n",
    "temp1.fun1()\n",
    "temp1.fun2()\n",
    "temp2.fun1()\n",
    "print(temp1.i)\n",
    "print(temp2.i)\n",
    "#temp2.fun2()"
   ]
  },
  {
   "cell_type": "markdown",
   "id": "ab399645-8867-42b1-a474-f13776b1e632",
   "metadata": {},
   "source": [
    "#### Multiple Inheritance---->>"
   ]
  },
  {
   "cell_type": "code",
   "execution_count": null,
   "id": "cbc1ae29-0a05-491d-be8f-9e36338d8b5d",
   "metadata": {},
   "outputs": [],
   "source": [
    "#parent class 1\n",
    "class A:\n",
    "    demo1=0\n",
    "    def fun1(self):\n",
    "        print(self.demo1)\n",
    "\n",
    "#parent class 2\n",
    "class B:\n",
    "    demo2=0\n",
    "    def fun2(self):\n",
    "        print(self.demo2)\n",
    "\n",
    "#child class\n",
    "class C(A, B):\n",
    "    def fun3(self):\n",
    "        print(“Hey there, you are in the child class”)\n",
    "\n",
    "# Main code\n",
    "c = C()\n",
    "c.demo1 = 10\n",
    "c.demo2 = 5\n",
    "c.fun3()\n",
    "print(“first number is : “,c.demo1)\n",
    "print(“second number is : “,c.demo2)"
   ]
  }
 ],
 "metadata": {
  "kernelspec": {
   "display_name": "Python 3 (ipykernel)",
   "language": "python",
   "name": "python3"
  },
  "language_info": {
   "codemirror_mode": {
    "name": "ipython",
    "version": 3
   },
   "file_extension": ".py",
   "mimetype": "text/x-python",
   "name": "python",
   "nbconvert_exporter": "python",
   "pygments_lexer": "ipython3",
   "version": "3.10.8"
  }
 },
 "nbformat": 4,
 "nbformat_minor": 5
}
