{
 "cells": [
  {
   "cell_type": "markdown",
   "id": "2bd73a1c-82f5-4c22-a552-407f362f8936",
   "metadata": {},
   "source": [
    " # Tuples"
   ]
  },
  {
   "cell_type": "code",
   "execution_count": 2,
   "id": "d3bba155-c0c2-4b83-9d38-c122e6aac0b5",
   "metadata": {},
   "outputs": [],
   "source": [
    "t=()"
   ]
  },
  {
   "cell_type": "code",
   "execution_count": 3,
   "id": "67727ee8-2f91-44f6-babf-09fc1c94748a",
   "metadata": {},
   "outputs": [
    {
     "data": {
      "text/plain": [
       "tuple"
      ]
     },
     "execution_count": 3,
     "metadata": {},
     "output_type": "execute_result"
    }
   ],
   "source": [
    "type(t)"
   ]
  },
  {
   "cell_type": "code",
   "execution_count": 4,
   "id": "71bac7c9-aad0-45be-89db-b5c2be0065e9",
   "metadata": {},
   "outputs": [],
   "source": [
    "l=[1,2,3,\"abc\",45j]"
   ]
  },
  {
   "cell_type": "code",
   "execution_count": 5,
   "id": "2be65b65-b2ac-4c69-b467-fc89a3f601a7",
   "metadata": {},
   "outputs": [
    {
     "data": {
      "text/plain": [
       "list"
      ]
     },
     "execution_count": 5,
     "metadata": {},
     "output_type": "execute_result"
    }
   ],
   "source": [
    "type(l)"
   ]
  },
  {
   "cell_type": "code",
   "execution_count": 6,
   "id": "ccf47bfe-ef92-42a5-a44d-443bd21475a4",
   "metadata": {},
   "outputs": [
    {
     "data": {
      "text/plain": [
       "'abc'"
      ]
     },
     "execution_count": 6,
     "metadata": {},
     "output_type": "execute_result"
    }
   ],
   "source": [
    "l[3]"
   ]
  },
  {
   "cell_type": "code",
   "execution_count": 7,
   "id": "830d79d2-a021-4881-b6b8-9596b22d4abd",
   "metadata": {},
   "outputs": [],
   "source": [
    "i=5j"
   ]
  },
  {
   "cell_type": "code",
   "execution_count": 8,
   "id": "e2712c8f-afdf-47e9-9fd9-6b0b58d5836b",
   "metadata": {},
   "outputs": [
    {
     "data": {
      "text/plain": [
       "complex"
      ]
     },
     "execution_count": 8,
     "metadata": {},
     "output_type": "execute_result"
    }
   ],
   "source": [
    "type(i)"
   ]
  },
  {
   "cell_type": "code",
   "execution_count": 9,
   "id": "04f8541e-2083-407a-a879-e4028bd54c71",
   "metadata": {},
   "outputs": [],
   "source": [
    "t=(1,10,20,57,34,56j,\"Pravesh\",(7+65j),True)"
   ]
  },
  {
   "cell_type": "code",
   "execution_count": 10,
   "id": "211e58de-f232-41b5-96a6-2568f1f95502",
   "metadata": {},
   "outputs": [
    {
     "data": {
      "text/plain": [
       "tuple"
      ]
     },
     "execution_count": 10,
     "metadata": {},
     "output_type": "execute_result"
    }
   ],
   "source": [
    "type(t)"
   ]
  },
  {
   "cell_type": "code",
   "execution_count": 11,
   "id": "2bb94d9c-52d0-4e9d-ba86-4518f6a41e54",
   "metadata": {},
   "outputs": [
    {
     "data": {
      "text/plain": [
       "(1, 10, 20, 57, 34, 56j, 'Pravesh', (7+65j), True)"
      ]
     },
     "execution_count": 11,
     "metadata": {},
     "output_type": "execute_result"
    }
   ],
   "source": [
    "t"
   ]
  },
  {
   "cell_type": "code",
   "execution_count": 12,
   "id": "d7b4a460-dfe6-4885-9891-0aa93943b19e",
   "metadata": {},
   "outputs": [
    {
     "data": {
      "text/plain": [
       "10"
      ]
     },
     "execution_count": 12,
     "metadata": {},
     "output_type": "execute_result"
    }
   ],
   "source": [
    "t[1]"
   ]
  },
  {
   "cell_type": "code",
   "execution_count": 13,
   "id": "f1471e2b-012e-43f8-95be-dd840560ea5a",
   "metadata": {},
   "outputs": [
    {
     "data": {
      "text/plain": [
       "(7+65j)"
      ]
     },
     "execution_count": 13,
     "metadata": {},
     "output_type": "execute_result"
    }
   ],
   "source": [
    "t[7]"
   ]
  },
  {
   "cell_type": "code",
   "execution_count": 14,
   "id": "5ed60145-f920-4c33-9db1-584676a82c13",
   "metadata": {},
   "outputs": [
    {
     "data": {
      "text/plain": [
       "'Pravesh'"
      ]
     },
     "execution_count": 14,
     "metadata": {},
     "output_type": "execute_result"
    }
   ],
   "source": [
    "t[6]"
   ]
  },
  {
   "cell_type": "code",
   "execution_count": 15,
   "id": "ffe8e772-51e5-43a7-bc53-60410d481afe",
   "metadata": {},
   "outputs": [
    {
     "data": {
      "text/plain": [
       "(True, (7+65j), 'Pravesh', 56j, 34, 57, 20, 10, 1)"
      ]
     },
     "execution_count": 15,
     "metadata": {},
     "output_type": "execute_result"
    }
   ],
   "source": [
    "t[::-1]"
   ]
  },
  {
   "cell_type": "code",
   "execution_count": 16,
   "id": "4374b81a-a062-46b3-9c55-5aeb6ca11121",
   "metadata": {},
   "outputs": [],
   "source": [
    "t1=t[::-1]"
   ]
  },
  {
   "cell_type": "code",
   "execution_count": 17,
   "id": "b03e4998-81d2-42ea-a538-4be36d1a0854",
   "metadata": {},
   "outputs": [
    {
     "data": {
      "text/plain": [
       "(True, (7+65j), 'Pravesh', 56j, 34, 57, 20, 10, 1)"
      ]
     },
     "execution_count": 17,
     "metadata": {},
     "output_type": "execute_result"
    }
   ],
   "source": [
    "t1\n"
   ]
  },
  {
   "cell_type": "code",
   "execution_count": 18,
   "id": "ee83fe83-12dc-4945-8109-d78844d20593",
   "metadata": {},
   "outputs": [
    {
     "data": {
      "text/plain": [
       "(1, 10, 20, 57, 34, 56j, 'Pravesh', (7+65j), True)"
      ]
     },
     "execution_count": 18,
     "metadata": {},
     "output_type": "execute_result"
    }
   ],
   "source": [
    "t"
   ]
  },
  {
   "cell_type": "code",
   "execution_count": 19,
   "id": "bff0fc28-9fc8-4f28-8fe2-4d4d5b0b9569",
   "metadata": {},
   "outputs": [
    {
     "data": {
      "text/plain": [
       "(1, 10, 20, 57)"
      ]
     },
     "execution_count": 19,
     "metadata": {},
     "output_type": "execute_result"
    }
   ],
   "source": [
    "t[0:4]"
   ]
  },
  {
   "cell_type": "code",
   "execution_count": 20,
   "id": "35dd5ced-7c69-4b39-b918-a7b3da7779c5",
   "metadata": {},
   "outputs": [
    {
     "data": {
      "text/plain": [
       "(34, 57, 20, 10)"
      ]
     },
     "execution_count": 20,
     "metadata": {},
     "output_type": "execute_result"
    }
   ],
   "source": [
    "t[4:0:-1]"
   ]
  },
  {
   "cell_type": "code",
   "execution_count": 21,
   "id": "bbbf4c0e-a318-4bae-91bf-1881bbd8cfac",
   "metadata": {},
   "outputs": [
    {
     "data": {
      "text/plain": [
       "1"
      ]
     },
     "execution_count": 21,
     "metadata": {},
     "output_type": "execute_result"
    }
   ],
   "source": [
    "l.count(1)"
   ]
  },
  {
   "cell_type": "code",
   "execution_count": 22,
   "id": "10537160-1bb5-4c07-ab00-9ba1529a954d",
   "metadata": {},
   "outputs": [
    {
     "data": {
      "text/plain": [
       "0"
      ]
     },
     "execution_count": 22,
     "metadata": {},
     "output_type": "execute_result"
    }
   ],
   "source": [
    "t.count(4)"
   ]
  },
  {
   "cell_type": "code",
   "execution_count": 23,
   "id": "022a38ec-b075-4235-886f-55f842fcbb68",
   "metadata": {},
   "outputs": [
    {
     "data": {
      "text/plain": [
       "1"
      ]
     },
     "execution_count": 23,
     "metadata": {},
     "output_type": "execute_result"
    }
   ],
   "source": [
    "t.count(\"Pravesh\")"
   ]
  },
  {
   "cell_type": "code",
   "execution_count": 24,
   "id": "ab8508ce-21de-48f8-8da0-71e4806629b6",
   "metadata": {},
   "outputs": [
    {
     "data": {
      "text/plain": [
       "2"
      ]
     },
     "execution_count": 24,
     "metadata": {},
     "output_type": "execute_result"
    }
   ],
   "source": [
    "t.index(20)"
   ]
  },
  {
   "cell_type": "code",
   "execution_count": 25,
   "id": "71ca8a19-aa67-46f3-8685-4f28732f1c98",
   "metadata": {},
   "outputs": [
    {
     "data": {
      "text/plain": [
       "0"
      ]
     },
     "execution_count": 25,
     "metadata": {},
     "output_type": "execute_result"
    }
   ],
   "source": [
    "t1.index(1) ## 0 because system stores true as 1, inside memory"
   ]
  },
  {
   "cell_type": "code",
   "execution_count": 26,
   "id": "d16cd4b4-747c-4acb-8ac9-02998d9c1a9e",
   "metadata": {},
   "outputs": [
    {
     "data": {
      "text/plain": [
       "2"
      ]
     },
     "execution_count": 26,
     "metadata": {},
     "output_type": "execute_result"
    }
   ],
   "source": [
    "t.count(1)"
   ]
  },
  {
   "cell_type": "code",
   "execution_count": 27,
   "id": "18b77b4d-8ee4-4945-bf95-df25da3e4048",
   "metadata": {},
   "outputs": [
    {
     "data": {
      "text/plain": [
       "2"
      ]
     },
     "execution_count": 27,
     "metadata": {},
     "output_type": "execute_result"
    }
   ],
   "source": [
    "t.count(True)"
   ]
  },
  {
   "cell_type": "code",
   "execution_count": 28,
   "id": "c452a5ae-65cc-460a-bae7-effc76e822dd",
   "metadata": {},
   "outputs": [
    {
     "data": {
      "text/plain": [
       "2"
      ]
     },
     "execution_count": 28,
     "metadata": {},
     "output_type": "execute_result"
    }
   ],
   "source": [
    "t1.count(True)"
   ]
  },
  {
   "cell_type": "code",
   "execution_count": 29,
   "id": "c311e43f-3128-4958-a825-90fee76151ed",
   "metadata": {},
   "outputs": [
    {
     "ename": "AttributeError",
     "evalue": "'tuple' object has no attribute 'upper'",
     "output_type": "error",
     "traceback": [
      "\u001b[0;31m---------------------------------------------------------------------------\u001b[0m",
      "\u001b[0;31mAttributeError\u001b[0m                            Traceback (most recent call last)",
      "Cell \u001b[0;32mIn[29], line 1\u001b[0m\n\u001b[0;32m----> 1\u001b[0m \u001b[43mt1\u001b[49m\u001b[38;5;241;43m.\u001b[39;49m\u001b[43mupper\u001b[49m()\n",
      "\u001b[0;31mAttributeError\u001b[0m: 'tuple' object has no attribute 'upper'"
     ]
    }
   ],
   "source": [
    "t1.upper()"
   ]
  },
  {
   "cell_type": "code",
   "execution_count": 30,
   "id": "fb0128a6-166f-4f36-8926-99be019c3b1e",
   "metadata": {},
   "outputs": [
    {
     "data": {
      "text/plain": [
       "(True, (7+65j), 'Pravesh', 56j, 34, 57, 20, 10, 1)"
      ]
     },
     "execution_count": 30,
     "metadata": {},
     "output_type": "execute_result"
    }
   ],
   "source": [
    "t1"
   ]
  },
  {
   "cell_type": "code",
   "execution_count": 31,
   "id": "0d048c90-9d7d-49f2-aab3-45dfc2a4fbb5",
   "metadata": {},
   "outputs": [
    {
     "data": {
      "text/plain": [
       "[1, 2, 3, 'abc', 45j]"
      ]
     },
     "execution_count": 31,
     "metadata": {},
     "output_type": "execute_result"
    }
   ],
   "source": [
    "l"
   ]
  },
  {
   "cell_type": "code",
   "execution_count": 32,
   "id": "cb72507c-3413-4579-8607-d44924159f7c",
   "metadata": {},
   "outputs": [
    {
     "data": {
      "text/plain": [
       "True"
      ]
     },
     "execution_count": 32,
     "metadata": {},
     "output_type": "execute_result"
    }
   ],
   "source": [
    "t1[0]"
   ]
  },
  {
   "cell_type": "code",
   "execution_count": 33,
   "id": "c84210d8-c3ed-4928-9005-cca7ba0ae016",
   "metadata": {},
   "outputs": [
    {
     "data": {
      "text/plain": [
       "1"
      ]
     },
     "execution_count": 33,
     "metadata": {},
     "output_type": "execute_result"
    }
   ],
   "source": [
    "l[0]"
   ]
  },
  {
   "cell_type": "code",
   "execution_count": 34,
   "id": "86a45372-48dc-4987-9520-9492e39ab641",
   "metadata": {},
   "outputs": [
    {
     "ename": "TypeError",
     "evalue": "'tuple' object does not support item assignment",
     "output_type": "error",
     "traceback": [
      "\u001b[0;31m---------------------------------------------------------------------------\u001b[0m",
      "\u001b[0;31mTypeError\u001b[0m                                 Traceback (most recent call last)",
      "Cell \u001b[0;32mIn[34], line 1\u001b[0m\n\u001b[0;32m----> 1\u001b[0m \u001b[43mt1\u001b[49m\u001b[43m[\u001b[49m\u001b[38;5;241;43m0\u001b[39;49m\u001b[43m]\u001b[49m\u001b[38;5;241m=\u001b[39m\u001b[38;5;124m\"\u001b[39m\u001b[38;5;124mPravesh\u001b[39m\u001b[38;5;124m\"\u001b[39m  \u001b[38;5;66;03m## tuples are immutable\u001b[39;00m\n",
      "\u001b[0;31mTypeError\u001b[0m: 'tuple' object does not support item assignment"
     ]
    }
   ],
   "source": [
    "t1[0]=\"Pravesh\"  ## tuples are immutable"
   ]
  },
  {
   "cell_type": "code",
   "execution_count": null,
   "id": "4d06d4bc-93ea-451b-8d16-ec98a25c941c",
   "metadata": {},
   "outputs": [],
   "source": [
    "l[0]=\"Yadav\"  ## list are mutable\n",
    "l"
   ]
  },
  {
   "cell_type": "code",
   "execution_count": 35,
   "id": "d26cdd5a-3106-4721-984c-5a3a3507b8c0",
   "metadata": {},
   "outputs": [
    {
     "ename": "AttributeError",
     "evalue": "'int' object has no attribute 'upper'",
     "output_type": "error",
     "traceback": [
      "\u001b[0;31m---------------------------------------------------------------------------\u001b[0m",
      "\u001b[0;31mAttributeError\u001b[0m                            Traceback (most recent call last)",
      "Cell \u001b[0;32mIn[35], line 1\u001b[0m\n\u001b[0;32m----> 1\u001b[0m \u001b[43ml\u001b[49m\u001b[43m[\u001b[49m\u001b[38;5;241;43m0\u001b[39;49m\u001b[43m]\u001b[49m\u001b[38;5;241;43m.\u001b[39;49m\u001b[43mupper\u001b[49m()\n",
      "\u001b[0;31mAttributeError\u001b[0m: 'int' object has no attribute 'upper'"
     ]
    }
   ],
   "source": [
    "l[0].upper()"
   ]
  },
  {
   "cell_type": "code",
   "execution_count": 36,
   "id": "77b58b6c-130a-4f7a-b5a3-e7c6af90344a",
   "metadata": {},
   "outputs": [
    {
     "ename": "AttributeError",
     "evalue": "'list' object has no attribute 'upper'",
     "output_type": "error",
     "traceback": [
      "\u001b[0;31m---------------------------------------------------------------------------\u001b[0m",
      "\u001b[0;31mAttributeError\u001b[0m                            Traceback (most recent call last)",
      "Cell \u001b[0;32mIn[36], line 1\u001b[0m\n\u001b[0;32m----> 1\u001b[0m \u001b[43ml\u001b[49m\u001b[38;5;241;43m.\u001b[39;49m\u001b[43mupper\u001b[49m()\n",
      "\u001b[0;31mAttributeError\u001b[0m: 'list' object has no attribute 'upper'"
     ]
    }
   ],
   "source": [
    "l.upper()"
   ]
  },
  {
   "cell_type": "code",
   "execution_count": null,
   "id": "f9c9e9ae-ee4c-4726-ab76-d541b59dbe9b",
   "metadata": {},
   "outputs": [],
   "source": [
    "str=\"Pravesh kumar\""
   ]
  },
  {
   "cell_type": "code",
   "execution_count": 37,
   "id": "bfc4a435-9f21-4263-ad98-0d4897a21e94",
   "metadata": {},
   "outputs": [
    {
     "ename": "TypeError",
     "evalue": "'type' object is not subscriptable",
     "output_type": "error",
     "traceback": [
      "\u001b[0;31m---------------------------------------------------------------------------\u001b[0m",
      "\u001b[0;31mTypeError\u001b[0m                                 Traceback (most recent call last)",
      "Cell \u001b[0;32mIn[37], line 1\u001b[0m\n\u001b[0;32m----> 1\u001b[0m \u001b[38;5;28;43mstr\u001b[39;49m\u001b[43m[\u001b[49m\u001b[38;5;241;43m3\u001b[39;49m\u001b[43m]\u001b[49m\n",
      "\u001b[0;31mTypeError\u001b[0m: 'type' object is not subscriptable"
     ]
    }
   ],
   "source": [
    "str[3]"
   ]
  },
  {
   "cell_type": "code",
   "execution_count": 38,
   "id": "5b07be11-1071-45a8-a98b-8f93def7adcf",
   "metadata": {},
   "outputs": [
    {
     "ename": "TypeError",
     "evalue": "'type' object does not support item assignment",
     "output_type": "error",
     "traceback": [
      "\u001b[0;31m---------------------------------------------------------------------------\u001b[0m",
      "\u001b[0;31mTypeError\u001b[0m                                 Traceback (most recent call last)",
      "Cell \u001b[0;32mIn[38], line 1\u001b[0m\n\u001b[0;32m----> 1\u001b[0m \u001b[38;5;28;43mstr\u001b[39;49m\u001b[43m[\u001b[49m\u001b[38;5;241;43m3\u001b[39;49m\u001b[43m]\u001b[49m\u001b[38;5;241m=\u001b[39m\u001b[38;5;241m2\u001b[39m   \u001b[38;5;66;03m## strings are immutable\u001b[39;00m\n",
      "\u001b[0;31mTypeError\u001b[0m: 'type' object does not support item assignment"
     ]
    }
   ],
   "source": [
    "str[3]=2   ## strings are immutable"
   ]
  },
  {
   "cell_type": "code",
   "execution_count": null,
   "id": "52ef8b06-5d76-4439-be45-0ea842eb9b83",
   "metadata": {},
   "outputs": [],
   "source": [
    "t1"
   ]
  },
  {
   "cell_type": "code",
   "execution_count": 39,
   "id": "b05738a0-2510-4c6e-b29e-c23c9dec9bd7",
   "metadata": {},
   "outputs": [
    {
     "name": "stdout",
     "output_type": "stream",
     "text": [
      "True <class 'bool'>\n",
      "(7+65j) <class 'complex'>\n",
      "Pravesh <class 'str'>\n",
      "56j <class 'complex'>\n",
      "34 <class 'int'>\n",
      "57 <class 'int'>\n",
      "20 <class 'int'>\n",
      "10 <class 'int'>\n",
      "1 <class 'int'>\n"
     ]
    }
   ],
   "source": [
    "for i in t1:\n",
    "    print(i,type(i))"
   ]
  },
  {
   "cell_type": "code",
   "execution_count": 40,
   "id": "5af98482-b87b-4b83-ac9f-8a19b55187da",
   "metadata": {},
   "outputs": [],
   "source": [
    "t2=(1,2,3,4,5)"
   ]
  },
  {
   "cell_type": "code",
   "execution_count": 41,
   "id": "9f7fbd1a-a385-4166-9605-29be2f55460a",
   "metadata": {},
   "outputs": [
    {
     "data": {
      "text/plain": [
       "(1, 2, 3, 4, 5)"
      ]
     },
     "execution_count": 41,
     "metadata": {},
     "output_type": "execute_result"
    }
   ],
   "source": [
    "t2"
   ]
  },
  {
   "cell_type": "code",
   "execution_count": 42,
   "id": "ed6865b7-f5ef-48b5-b676-fbd1af49e6f9",
   "metadata": {},
   "outputs": [
    {
     "data": {
      "text/plain": [
       "(1, 2, 3, 4, 5, 1, 2, 3, 4, 5, 1, 2, 3, 4, 5)"
      ]
     },
     "execution_count": 42,
     "metadata": {},
     "output_type": "execute_result"
    }
   ],
   "source": [
    "t2*3"
   ]
  },
  {
   "cell_type": "code",
   "execution_count": 43,
   "id": "d39b8559-0a3f-42fe-b8da-dd1cc7434b7b",
   "metadata": {},
   "outputs": [],
   "source": [
    "l=[1,2,3,\"pra\"]"
   ]
  },
  {
   "cell_type": "code",
   "execution_count": 44,
   "id": "686af57d-cc1e-4ae8-b053-f8053784866b",
   "metadata": {},
   "outputs": [
    {
     "data": {
      "text/plain": [
       "[1, 2, 3, 'pra', 1, 2, 3, 'pra', 1, 2, 3, 'pra']"
      ]
     },
     "execution_count": 44,
     "metadata": {},
     "output_type": "execute_result"
    }
   ],
   "source": [
    "l*3"
   ]
  },
  {
   "cell_type": "code",
   "execution_count": 45,
   "id": "323e9461-3883-4328-80fa-a66c2ca0b044",
   "metadata": {},
   "outputs": [
    {
     "data": {
      "text/plain": [
       "5"
      ]
     },
     "execution_count": 45,
     "metadata": {},
     "output_type": "execute_result"
    }
   ],
   "source": [
    "max(t2)"
   ]
  },
  {
   "cell_type": "code",
   "execution_count": 46,
   "id": "8665f5e2-f743-4c24-a05d-fc14420d0596",
   "metadata": {},
   "outputs": [
    {
     "data": {
      "text/plain": [
       "1"
      ]
     },
     "execution_count": 46,
     "metadata": {},
     "output_type": "execute_result"
    }
   ],
   "source": [
    "min(t2)"
   ]
  },
  {
   "cell_type": "code",
   "execution_count": 47,
   "id": "31445b63-d16e-42f6-8456-5214f6b1d505",
   "metadata": {},
   "outputs": [
    {
     "data": {
      "text/plain": [
       "(1, 2, 3, 4, 5)"
      ]
     },
     "execution_count": 47,
     "metadata": {},
     "output_type": "execute_result"
    }
   ],
   "source": [
    "t2"
   ]
  },
  {
   "cell_type": "code",
   "execution_count": 48,
   "id": "842704f0-b5c1-4d45-8839-ecb1b75638af",
   "metadata": {},
   "outputs": [],
   "source": [
    "t1=(1,23,47,13)"
   ]
  },
  {
   "cell_type": "code",
   "execution_count": 49,
   "id": "c46d68d4-10c7-44c3-880d-e5cf14fddd13",
   "metadata": {},
   "outputs": [
    {
     "ename": "TypeError",
     "evalue": "can't multiply sequence by non-int of type 'tuple'",
     "output_type": "error",
     "traceback": [
      "\u001b[0;31m---------------------------------------------------------------------------\u001b[0m",
      "\u001b[0;31mTypeError\u001b[0m                                 Traceback (most recent call last)",
      "Cell \u001b[0;32mIn[49], line 1\u001b[0m\n\u001b[0;32m----> 1\u001b[0m t3\u001b[38;5;241m=\u001b[39m\u001b[43mt1\u001b[49m\u001b[38;5;241;43m*\u001b[39;49m\u001b[43mt2\u001b[49m\n",
      "\u001b[0;31mTypeError\u001b[0m: can't multiply sequence by non-int of type 'tuple'"
     ]
    }
   ],
   "source": [
    "t3=t1*t2"
   ]
  },
  {
   "cell_type": "code",
   "execution_count": 50,
   "id": "8a928caf-4149-4ac9-98ae-be2e3fa2e598",
   "metadata": {},
   "outputs": [],
   "source": [
    "l=[1,2,\"e\"]\n",
    "b=[1,56,34,78,\"we\"]"
   ]
  },
  {
   "cell_type": "code",
   "execution_count": 51,
   "id": "130f1296-34c7-4d29-aa83-919edb38086a",
   "metadata": {},
   "outputs": [],
   "source": [
    "c=l,b"
   ]
  },
  {
   "cell_type": "code",
   "execution_count": 52,
   "id": "f809d03a-17b8-4fbf-80d4-e131f6e05e46",
   "metadata": {},
   "outputs": [
    {
     "data": {
      "text/plain": [
       "([1, 2, 'e'], [1, 56, 34, 78, 'we'])"
      ]
     },
     "execution_count": 52,
     "metadata": {},
     "output_type": "execute_result"
    }
   ],
   "source": [
    "c"
   ]
  },
  {
   "cell_type": "code",
   "execution_count": 53,
   "id": "ba1718e5-07d3-4cd7-8b6d-a40f125b1e49",
   "metadata": {},
   "outputs": [],
   "source": [
    "t3=(t1,t2)"
   ]
  },
  {
   "cell_type": "code",
   "execution_count": 54,
   "id": "ee98e7d1-2c49-4e1a-8533-c624af55ec20",
   "metadata": {},
   "outputs": [
    {
     "data": {
      "text/plain": [
       "((1, 23, 47, 13), (1, 2, 3, 4, 5))"
      ]
     },
     "execution_count": 54,
     "metadata": {},
     "output_type": "execute_result"
    }
   ],
   "source": [
    "t3\n"
   ]
  },
  {
   "cell_type": "code",
   "execution_count": 55,
   "id": "7a9cf1d5-9eb9-48f4-9ee4-fe282e569fe4",
   "metadata": {},
   "outputs": [],
   "source": [
    "t4=((1,45,34,23),[12,45,56,67,78,7])"
   ]
  },
  {
   "cell_type": "code",
   "execution_count": 56,
   "id": "c2fa1935-5b67-4956-92a9-9727b129f20e",
   "metadata": {},
   "outputs": [
    {
     "data": {
      "text/plain": [
       "((1, 45, 34, 23), [12, 45, 56, 67, 78, 7])"
      ]
     },
     "execution_count": 56,
     "metadata": {},
     "output_type": "execute_result"
    }
   ],
   "source": [
    "t4"
   ]
  },
  {
   "cell_type": "code",
   "execution_count": 57,
   "id": "9072323e-c029-4946-9ba9-9bc14a5f03e8",
   "metadata": {},
   "outputs": [],
   "source": [
    "t5=([12,23,34,],[1,3,4567,\"hj\",])"
   ]
  },
  {
   "cell_type": "code",
   "execution_count": 58,
   "id": "f76c5fb2-3525-41e7-8fa9-84be154bc5f0",
   "metadata": {},
   "outputs": [
    {
     "data": {
      "text/plain": [
       "([12, 23, 34], [1, 3, 4567, 'hj'])"
      ]
     },
     "execution_count": 58,
     "metadata": {},
     "output_type": "execute_result"
    }
   ],
   "source": [
    "t5"
   ]
  },
  {
   "cell_type": "code",
   "execution_count": 59,
   "id": "d584944c-675b-4c0e-b116-ae8dad7b0575",
   "metadata": {},
   "outputs": [
    {
     "data": {
      "text/plain": [
       "[1, 2, 'e']"
      ]
     },
     "execution_count": 59,
     "metadata": {},
     "output_type": "execute_result"
    }
   ],
   "source": [
    "l"
   ]
  },
  {
   "cell_type": "code",
   "execution_count": 60,
   "id": "e9976eec-4c37-46a4-999d-ac04f408c0d5",
   "metadata": {},
   "outputs": [],
   "source": [
    "del l"
   ]
  },
  {
   "cell_type": "code",
   "execution_count": 61,
   "id": "c3755876-3d79-4ac9-88af-085ba2b37923",
   "metadata": {},
   "outputs": [
    {
     "ename": "NameError",
     "evalue": "name 'l' is not defined",
     "output_type": "error",
     "traceback": [
      "\u001b[0;31m---------------------------------------------------------------------------\u001b[0m",
      "\u001b[0;31mNameError\u001b[0m                                 Traceback (most recent call last)",
      "Cell \u001b[0;32mIn[61], line 1\u001b[0m\n\u001b[0;32m----> 1\u001b[0m \u001b[43ml\u001b[49m\n",
      "\u001b[0;31mNameError\u001b[0m: name 'l' is not defined"
     ]
    }
   ],
   "source": [
    "l"
   ]
  },
  {
   "cell_type": "code",
   "execution_count": 62,
   "id": "76b31c0d-1495-4578-b2a3-984818e18129",
   "metadata": {},
   "outputs": [],
   "source": [
    "del t5"
   ]
  },
  {
   "cell_type": "code",
   "execution_count": 63,
   "id": "25d63437-ae76-406c-9b50-ff2aa26ab214",
   "metadata": {},
   "outputs": [
    {
     "ename": "NameError",
     "evalue": "name 't5' is not defined",
     "output_type": "error",
     "traceback": [
      "\u001b[0;31m---------------------------------------------------------------------------\u001b[0m",
      "\u001b[0;31mNameError\u001b[0m                                 Traceback (most recent call last)",
      "Cell \u001b[0;32mIn[63], line 1\u001b[0m\n\u001b[0;32m----> 1\u001b[0m \u001b[43mt5\u001b[49m\n",
      "\u001b[0;31mNameError\u001b[0m: name 't5' is not defined"
     ]
    }
   ],
   "source": [
    "t5"
   ]
  },
  {
   "cell_type": "code",
   "execution_count": null,
   "id": "ec692fa9-e902-498a-a24b-f3da4c0c19b9",
   "metadata": {},
   "outputs": [],
   "source": [
    "t1"
   ]
  },
  {
   "cell_type": "code",
   "execution_count": 64,
   "id": "308fba1d-8587-4b09-a11e-f97e22be927a",
   "metadata": {},
   "outputs": [
    {
     "data": {
      "text/plain": [
       "4"
      ]
     },
     "execution_count": 64,
     "metadata": {},
     "output_type": "execute_result"
    }
   ],
   "source": [
    "len(t1)"
   ]
  },
  {
   "cell_type": "code",
   "execution_count": 65,
   "id": "8b31f734-cb15-48de-a469-03fdf1b1e8a4",
   "metadata": {},
   "outputs": [
    {
     "data": {
      "text/plain": [
       "True"
      ]
     },
     "execution_count": 65,
     "metadata": {},
     "output_type": "execute_result"
    }
   ],
   "source": [
    "23 in t1"
   ]
  },
  {
   "cell_type": "code",
   "execution_count": 66,
   "id": "f7adac08-c871-45d8-9b50-f7de36e6ab12",
   "metadata": {},
   "outputs": [
    {
     "data": {
      "text/plain": [
       "False"
      ]
     },
     "execution_count": 66,
     "metadata": {},
     "output_type": "execute_result"
    }
   ],
   "source": [
    "\"a\" in t1"
   ]
  },
  {
   "cell_type": "code",
   "execution_count": 67,
   "id": "da4345f3-42ed-43c4-b813-f56209ae98c7",
   "metadata": {},
   "outputs": [
    {
     "data": {
      "text/plain": [
       "True"
      ]
     },
     "execution_count": 67,
     "metadata": {},
     "output_type": "execute_result"
    }
   ],
   "source": [
    "\"we\"in b"
   ]
  },
  {
   "cell_type": "code",
   "execution_count": 68,
   "id": "d302b331-f851-412e-89d3-863868768322",
   "metadata": {},
   "outputs": [
    {
     "name": "stdout",
     "output_type": "stream",
     "text": [
      "Yes\n"
     ]
    }
   ],
   "source": [
    "if 1 in t1:\n",
    "    \n",
    "     print(\"Yes\")"
   ]
  },
  {
   "cell_type": "markdown",
   "id": "7c319081-6fdd-4025-bc76-b5b50b5b262b",
   "metadata": {},
   "source": [
    "# Set"
   ]
  },
  {
   "cell_type": "code",
   "execution_count": 69,
   "id": "5f7eb5fc-7850-42a9-9eb1-1684b7435bdb",
   "metadata": {},
   "outputs": [],
   "source": [
    "s={}"
   ]
  },
  {
   "cell_type": "code",
   "execution_count": 70,
   "id": "9a96d2ef-e2b7-4b68-8c7b-aa9aa3157b2c",
   "metadata": {},
   "outputs": [
    {
     "data": {
      "text/plain": [
       "dict"
      ]
     },
     "execution_count": 70,
     "metadata": {},
     "output_type": "execute_result"
    }
   ],
   "source": [
    "type(s)"
   ]
  },
  {
   "cell_type": "code",
   "execution_count": 71,
   "id": "76090350-6a7c-4fe9-9807-544f9596012b",
   "metadata": {},
   "outputs": [],
   "source": [
    "s={1,2,\"as\"}"
   ]
  },
  {
   "cell_type": "code",
   "execution_count": 72,
   "id": "e97c144c-4ea1-4a2b-aed5-9500b8b4f930",
   "metadata": {},
   "outputs": [
    {
     "data": {
      "text/plain": [
       "set"
      ]
     },
     "execution_count": 72,
     "metadata": {},
     "output_type": "execute_result"
    }
   ],
   "source": [
    "type(s)"
   ]
  },
  {
   "cell_type": "code",
   "execution_count": 73,
   "id": "0d636e6b-d73b-47a5-ab97-e08b10187bbc",
   "metadata": {},
   "outputs": [],
   "source": [
    "s={1,1,12,1,3,9,3,453,6778,4444,4444}   ## set always try to store unique data inside no repetative element will be there."
   ]
  },
  {
   "cell_type": "code",
   "execution_count": 74,
   "id": "2b4b5697-e8e7-4e59-9a33-bac5c94f3b20",
   "metadata": {},
   "outputs": [
    {
     "data": {
      "text/plain": [
       "{1, 3, 9, 12, 453, 4444, 6778}"
      ]
     },
     "execution_count": 74,
     "metadata": {},
     "output_type": "execute_result"
    }
   ],
   "source": [
    "s"
   ]
  },
  {
   "cell_type": "code",
   "execution_count": 75,
   "id": "03ef2f82-08af-4d28-b5c4-98453e3bc02e",
   "metadata": {},
   "outputs": [
    {
     "data": {
      "text/plain": [
       "[1, 3, 453, 4444, 9, 6778, 12]"
      ]
     },
     "execution_count": 75,
     "metadata": {},
     "output_type": "execute_result"
    }
   ],
   "source": [
    "list(s)"
   ]
  },
  {
   "cell_type": "code",
   "execution_count": 76,
   "id": "11086018-f4ea-444b-8982-daf5c897f1b8",
   "metadata": {},
   "outputs": [
    {
     "data": {
      "text/plain": [
       "{1, 3, 9, 12, 453, 4444, 6778}"
      ]
     },
     "execution_count": 76,
     "metadata": {},
     "output_type": "execute_result"
    }
   ],
   "source": [
    "s"
   ]
  },
  {
   "cell_type": "code",
   "execution_count": 77,
   "id": "a1a3de61-657f-4e70-a771-348a5ecff9d8",
   "metadata": {},
   "outputs": [
    {
     "data": {
      "text/plain": [
       "(1, 3, 453, 4444, 9, 6778, 12)"
      ]
     },
     "execution_count": 77,
     "metadata": {},
     "output_type": "execute_result"
    }
   ],
   "source": [
    "tuple(s)"
   ]
  },
  {
   "cell_type": "code",
   "execution_count": 78,
   "id": "f1a095ca-4534-4fb1-a448-3d4ab2371ac3",
   "metadata": {},
   "outputs": [],
   "source": [
    "l=[1,23,51,11,12]"
   ]
  },
  {
   "cell_type": "code",
   "execution_count": 79,
   "id": "60f464d4-b897-4ff1-a857-d13aa0417406",
   "metadata": {},
   "outputs": [
    {
     "data": {
      "text/plain": [
       "{1, 11, 12, 23, 51}"
      ]
     },
     "execution_count": 79,
     "metadata": {},
     "output_type": "execute_result"
    }
   ],
   "source": [
    "set(l)"
   ]
  },
  {
   "cell_type": "code",
   "execution_count": 80,
   "id": "979ab10e-1adf-418f-b031-2c7e48b12641",
   "metadata": {},
   "outputs": [
    {
     "ename": "TypeError",
     "evalue": "unhashable type: 'list'",
     "output_type": "error",
     "traceback": [
      "\u001b[0;31m---------------------------------------------------------------------------\u001b[0m",
      "\u001b[0;31mTypeError\u001b[0m                                 Traceback (most recent call last)",
      "Cell \u001b[0;32mIn[80], line 1\u001b[0m\n\u001b[0;32m----> 1\u001b[0m s5\u001b[38;5;241m=\u001b[39m{\u001b[38;5;241m1\u001b[39m,\u001b[38;5;241m34\u001b[39m,\u001b[38;5;241m45\u001b[39m,\u001b[38;5;241m3354\u001b[39m,[\u001b[38;5;241m12\u001b[39m,\u001b[38;5;241m34\u001b[39m,\u001b[38;5;241m45\u001b[39m,\u001b[38;5;241m56\u001b[39m]}    \u001b[38;5;66;03m## we can't store list inside set bc lists are mutable.\u001b[39;00m\n",
      "\u001b[0;31mTypeError\u001b[0m: unhashable type: 'list'"
     ]
    }
   ],
   "source": [
    "s5={1,34,45,3354,[12,34,45,56]}    ## we can't store list inside set bc lists are mutable."
   ]
  },
  {
   "cell_type": "code",
   "execution_count": null,
   "id": "33324978-c6e9-420c-8b54-f42479a6e5d5",
   "metadata": {},
   "outputs": [],
   "source": [
    "s6={1,2,5,56,6787,7,(12,1233567)}  ## we can store tuples inside set bc tuples are immutable.means cant be changed."
   ]
  },
  {
   "cell_type": "code",
   "execution_count": 81,
   "id": "53d7ef9c-f079-4489-b4e4-2f12e3d02276",
   "metadata": {},
   "outputs": [],
   "source": [
    "s7={\"Pravesh\",\"pravesh\"}  ## bc strings are immutable."
   ]
  },
  {
   "cell_type": "code",
   "execution_count": 82,
   "id": "096459c9-4c98-4933-96d5-473c8e501531",
   "metadata": {},
   "outputs": [
    {
     "data": {
      "text/plain": [
       "{'Pravesh', 'pravesh'}"
      ]
     },
     "execution_count": 82,
     "metadata": {},
     "output_type": "execute_result"
    }
   ],
   "source": [
    "s7  ## it will print both bc python is case sensitive"
   ]
  },
  {
   "cell_type": "code",
   "execution_count": 83,
   "id": "7852b5a0-103f-402d-9bf7-76c49d585cf5",
   "metadata": {},
   "outputs": [],
   "source": [
    "s8={\"pravesh\",\"pravesh\"}"
   ]
  },
  {
   "cell_type": "code",
   "execution_count": 84,
   "id": "c74b7219-e065-45ac-8c47-afadaea0cdd7",
   "metadata": {},
   "outputs": [
    {
     "data": {
      "text/plain": [
       "{'pravesh'}"
      ]
     },
     "execution_count": 84,
     "metadata": {},
     "output_type": "execute_result"
    }
   ],
   "source": [
    "s8"
   ]
  },
  {
   "cell_type": "code",
   "execution_count": 85,
   "id": "48ba47a9-d8e4-4ae4-9eba-c30427231a8c",
   "metadata": {},
   "outputs": [
    {
     "ename": "TypeError",
     "evalue": "'set' object is not subscriptable",
     "output_type": "error",
     "traceback": [
      "\u001b[0;31m---------------------------------------------------------------------------\u001b[0m",
      "\u001b[0;31mTypeError\u001b[0m                                 Traceback (most recent call last)",
      "Cell \u001b[0;32mIn[85], line 1\u001b[0m\n\u001b[0;32m----> 1\u001b[0m \u001b[43ms7\u001b[49m\u001b[43m[\u001b[49m\u001b[38;5;241;43m0\u001b[39;49m\u001b[43m]\u001b[49m\n",
      "\u001b[0;31mTypeError\u001b[0m: 'set' object is not subscriptable"
     ]
    }
   ],
   "source": [
    "s7[0]"
   ]
  },
  {
   "cell_type": "code",
   "execution_count": 86,
   "id": "e38c0ec0-d832-48d7-a5a3-f3065bd12257",
   "metadata": {},
   "outputs": [
    {
     "ename": "TypeError",
     "evalue": "'set' object is not subscriptable",
     "output_type": "error",
     "traceback": [
      "\u001b[0;31m---------------------------------------------------------------------------\u001b[0m",
      "\u001b[0;31mTypeError\u001b[0m                                 Traceback (most recent call last)",
      "Cell \u001b[0;32mIn[86], line 1\u001b[0m\n\u001b[0;32m----> 1\u001b[0m \u001b[43ms7\u001b[49m\u001b[43m[\u001b[49m\u001b[43m:\u001b[49m\u001b[43m:\u001b[49m\u001b[38;5;241;43m-\u001b[39;49m\u001b[38;5;241;43m1\u001b[39;49m\u001b[43m]\u001b[49m\n",
      "\u001b[0;31mTypeError\u001b[0m: 'set' object is not subscriptable"
     ]
    }
   ],
   "source": [
    "s7[::-1]"
   ]
  },
  {
   "cell_type": "code",
   "execution_count": null,
   "id": "558cef02-d91c-4b45-b845-baf1608f3d3c",
   "metadata": {},
   "outputs": [],
   "source": [
    "ll=list(s7)"
   ]
  },
  {
   "cell_type": "code",
   "execution_count": 87,
   "id": "25dd1e9c-a226-4796-884e-cf4a3ec5292a",
   "metadata": {},
   "outputs": [
    {
     "name": "stdout",
     "output_type": "stream",
     "text": [
      "total 488\n",
      "drwxr-xr-x 3 jovyan  4096 Feb 17 03:49  \u001b[0m\u001b[01;34mAssignments\u001b[0m/\n",
      "-rw-r--r-- 1 jovyan 20285 Feb 10 15:43 'Day1 Data_science_masters.ipynb'\n",
      "-rw-r--r-- 1 jovyan 18041 Feb 11 02:37 'Day1 -Data Science MAsters.ipynb'\n",
      "-rw-r--r-- 1 jovyan 21920 Feb 11 02:29 'Day2- Data science.ipynb'\n",
      "-rw-r--r-- 1 jovyan 26548 Feb 11 02:37 'Day 2 Python Condition and Loops .ipynb'\n",
      "-rw-r--r-- 1 jovyan 60043 Feb 11 03:09 'Day 3- Python Operators and Lists (1) (1).ipynb'\n",
      "-rw-r--r-- 1 jovyan 60463 Feb 14 13:31 'Day 3- Python Operators and Lists (1).ipynb'\n",
      "-rw-r--r-- 1 jovyan 71149 Feb 13 04:55  Day4.ipynb\n",
      "-rw-r--r-- 1 jovyan 37928 Feb 22 03:21 'Dict Eng.ipynb'\n",
      "-rw-r--r-- 1 jovyan 43999 Feb 12 15:27  Expressions,_Operators,_and_Precedence.ipynb\n",
      "-rw-r--r-- 1 jovyan  3151 Feb 10 07:52  sample-code.ipynb\n",
      "-rw-r--r-- 1 jovyan 37188 Feb 11 02:39  String_manipulation_and_methods.ipynb\n",
      "-rw-r--r-- 1 jovyan 70852 Feb 24 16:41  Untitled.ipynb\n"
     ]
    }
   ],
   "source": [
    "ll"
   ]
  },
  {
   "cell_type": "code",
   "execution_count": 88,
   "id": "ecace872-a1f2-49c9-8d21-230ec1417a31",
   "metadata": {},
   "outputs": [
    {
     "name": "stdout",
     "output_type": "stream",
     "text": [
      "ls: cannot access '[0]': No such file or directory\n"
     ]
    }
   ],
   "source": [
    "ll[0]"
   ]
  },
  {
   "cell_type": "code",
   "execution_count": 89,
   "id": "a8e13bf8-27a8-4970-aa4a-58abb3f2c6cc",
   "metadata": {},
   "outputs": [
    {
     "name": "stdout",
     "output_type": "stream",
     "text": [
      "pravesh\n",
      "Pravesh\n"
     ]
    }
   ],
   "source": [
    "for i in s7:\n",
    "    print(i)"
   ]
  },
  {
   "cell_type": "code",
   "execution_count": 90,
   "id": "3764472e-2149-4c98-ba9c-7e103fa624e3",
   "metadata": {},
   "outputs": [],
   "source": [
    "s7.add(4)"
   ]
  },
  {
   "cell_type": "code",
   "execution_count": 91,
   "id": "6b379602-b6dc-469f-a8e4-780f42841089",
   "metadata": {},
   "outputs": [
    {
     "data": {
      "text/plain": [
       "{4, 'Pravesh', 'pravesh'}"
      ]
     },
     "execution_count": 91,
     "metadata": {},
     "output_type": "execute_result"
    }
   ],
   "source": [
    "s7"
   ]
  },
  {
   "cell_type": "code",
   "execution_count": 92,
   "id": "1321fd3d-c610-4f4a-a1b2-e38bf463164c",
   "metadata": {},
   "outputs": [],
   "source": [
    "s7.add(4)  ##  again it will not add bc in the set its already available "
   ]
  },
  {
   "cell_type": "code",
   "execution_count": 93,
   "id": "70388d2c-8019-4088-9357-f64c73462cc4",
   "metadata": {},
   "outputs": [
    {
     "data": {
      "text/plain": [
       "{4, 'Pravesh', 'pravesh'}"
      ]
     },
     "execution_count": 93,
     "metadata": {},
     "output_type": "execute_result"
    }
   ],
   "source": [
    "s7"
   ]
  },
  {
   "cell_type": "code",
   "execution_count": 94,
   "id": "3a099084-5ed7-4562-be72-107fb3ee098c",
   "metadata": {},
   "outputs": [
    {
     "data": {
      "text/plain": [
       "3"
      ]
     },
     "execution_count": 94,
     "metadata": {},
     "output_type": "execute_result"
    }
   ],
   "source": [
    "len(s7)"
   ]
  },
  {
   "cell_type": "code",
   "execution_count": 95,
   "id": "09b34cfc-8358-4992-86fd-8dc3995d6726",
   "metadata": {},
   "outputs": [
    {
     "data": {
      "text/plain": [
       "'pravesh'"
      ]
     },
     "execution_count": 95,
     "metadata": {},
     "output_type": "execute_result"
    }
   ],
   "source": [
    "s7.pop()"
   ]
  },
  {
   "cell_type": "code",
   "execution_count": 96,
   "id": "ae013fcf-e56e-406c-9588-d82cb2bf8e1e",
   "metadata": {},
   "outputs": [
    {
     "data": {
      "text/plain": [
       "{4, 'Pravesh'}"
      ]
     },
     "execution_count": 96,
     "metadata": {},
     "output_type": "execute_result"
    }
   ],
   "source": [
    "s7"
   ]
  },
  {
   "cell_type": "code",
   "execution_count": 97,
   "id": "c16c187f-19e9-4029-b194-258c2ca030de",
   "metadata": {},
   "outputs": [
    {
     "data": {
      "text/plain": [
       "'Pravesh'"
      ]
     },
     "execution_count": 97,
     "metadata": {},
     "output_type": "execute_result"
    }
   ],
   "source": [
    "s7.pop()"
   ]
  },
  {
   "cell_type": "code",
   "execution_count": 98,
   "id": "cc6b4d17-4f4d-4367-8978-e9517226b4df",
   "metadata": {},
   "outputs": [
    {
     "data": {
      "text/plain": [
       "{4}"
      ]
     },
     "execution_count": 98,
     "metadata": {},
     "output_type": "execute_result"
    }
   ],
   "source": [
    "s7"
   ]
  },
  {
   "cell_type": "code",
   "execution_count": 99,
   "id": "e8388244-6bc4-4801-992b-8a298ff30703",
   "metadata": {},
   "outputs": [],
   "source": [
    "s7.clear() ## Remove all elements from this set"
   ]
  },
  {
   "cell_type": "code",
   "execution_count": 100,
   "id": "5818be70-bb50-45e0-9291-a3204434a379",
   "metadata": {},
   "outputs": [
    {
     "data": {
      "text/plain": [
       "set()"
      ]
     },
     "execution_count": 100,
     "metadata": {},
     "output_type": "execute_result"
    }
   ],
   "source": [
    "s7"
   ]
  },
  {
   "cell_type": "code",
   "execution_count": 101,
   "id": "b3ba9d74-155d-4cef-ad89-8baf05e67454",
   "metadata": {},
   "outputs": [],
   "source": [
    "s8={1,2,3,4}\n",
    "s9={1,2,3,5}"
   ]
  },
  {
   "cell_type": "code",
   "execution_count": 102,
   "id": "e82fde85-70bd-416a-ab6e-76f2ecfb7f54",
   "metadata": {},
   "outputs": [
    {
     "data": {
      "text/plain": [
       "{4}"
      ]
     },
     "execution_count": 102,
     "metadata": {},
     "output_type": "execute_result"
    }
   ],
   "source": [
    "s8.difference(s9)"
   ]
  },
  {
   "cell_type": "code",
   "execution_count": 103,
   "id": "58419fab-4480-4f8f-a901-1626c911456a",
   "metadata": {},
   "outputs": [
    {
     "data": {
      "text/plain": [
       "{5}"
      ]
     },
     "execution_count": 103,
     "metadata": {},
     "output_type": "execute_result"
    }
   ],
   "source": [
    "s9.difference(s8)"
   ]
  },
  {
   "cell_type": "markdown",
   "id": "83e0b88b-b844-4487-bced-bd06ed0ade82",
   "metadata": {},
   "source": [
    "# Dictionary"
   ]
  },
  {
   "cell_type": "code",
   "execution_count": 104,
   "id": "357c3702-dd21-47d1-9686-2e197920d058",
   "metadata": {},
   "outputs": [],
   "source": [
    "d1={\"Name\":\"Pravesh\",\"Gmail\":\"subh858@gmail.com\",\"Number\":7523918293} ## we keep values here in the form of key value pair."
   ]
  },
  {
   "cell_type": "code",
   "execution_count": 105,
   "id": "9156a2f7-a3da-4d9e-9ea1-c88210e10fbe",
   "metadata": {},
   "outputs": [
    {
     "data": {
      "text/plain": [
       "dict"
      ]
     },
     "execution_count": 105,
     "metadata": {},
     "output_type": "execute_result"
    }
   ],
   "source": [
    "d={}\n",
    "type(d)"
   ]
  },
  {
   "cell_type": "code",
   "execution_count": 106,
   "id": "5ced34e2-ace8-430e-a46d-8686f6de1194",
   "metadata": {},
   "outputs": [
    {
     "data": {
      "text/plain": [
       "dict"
      ]
     },
     "execution_count": 106,
     "metadata": {},
     "output_type": "execute_result"
    }
   ],
   "source": [
    "type(d1)"
   ]
  },
  {
   "cell_type": "code",
   "execution_count": 107,
   "id": "fff092d6-d8b2-4ec8-b3a6-d5f13d610870",
   "metadata": {},
   "outputs": [
    {
     "data": {
      "text/plain": [
       "{'Name': 'Pravesh', 'Gmail': 'subh858@gmail.com', 'Number': 7523918293}"
      ]
     },
     "execution_count": 107,
     "metadata": {},
     "output_type": "execute_result"
    }
   ],
   "source": [
    "d1"
   ]
  },
  {
   "cell_type": "code",
   "execution_count": 108,
   "id": "40454dfc-9018-4e31-bcd7-297095ce6bee",
   "metadata": {},
   "outputs": [],
   "source": [
    "d2={\"Name\":\"Pravesh\",\"Name\":\"Kumar\"}   ## Pravesh is updated with kumar."
   ]
  },
  {
   "cell_type": "code",
   "execution_count": 109,
   "id": "e618cc87-0639-4be0-9de0-d2e98f1642ea",
   "metadata": {},
   "outputs": [
    {
     "data": {
      "text/plain": [
       "{'Name': 'Kumar'}"
      ]
     },
     "execution_count": 109,
     "metadata": {},
     "output_type": "execute_result"
    }
   ],
   "source": [
    "d2"
   ]
  },
  {
   "cell_type": "code",
   "execution_count": 110,
   "id": "15560b71-0582-41ba-af82-65b56323d677",
   "metadata": {},
   "outputs": [],
   "source": [
    "d3={1222:\"Pravesh\"} ## Key can be a numeric value also. "
   ]
  },
  {
   "cell_type": "code",
   "execution_count": 111,
   "id": "9eec0ff7-d37c-492d-94eb-625933476b25",
   "metadata": {},
   "outputs": [
    {
     "data": {
      "text/plain": [
       "{1222: 'Pravesh'}"
      ]
     },
     "execution_count": 111,
     "metadata": {},
     "output_type": "execute_result"
    }
   ],
   "source": [
    "d3"
   ]
  },
  {
   "cell_type": "code",
   "execution_count": 112,
   "id": "2c012b3c-3159-4a15-87e2-894b4bbe353c",
   "metadata": {},
   "outputs": [],
   "source": [
    "d4={12.12:\"Pravesh\"}  ## key can be a floating point also."
   ]
  },
  {
   "cell_type": "code",
   "execution_count": 113,
   "id": "3242ccf2-a87c-45f1-aed8-f93328ce57c6",
   "metadata": {},
   "outputs": [
    {
     "data": {
      "text/plain": [
       "{12.12: 'Pravesh'}"
      ]
     },
     "execution_count": 113,
     "metadata": {},
     "output_type": "execute_result"
    }
   ],
   "source": [
    "d4"
   ]
  },
  {
   "cell_type": "code",
   "execution_count": 114,
   "id": "cbb568dd-a0f9-4538-9d42-52e1970d7e86",
   "metadata": {},
   "outputs": [],
   "source": [
    "d5={True:\"Pravesh\"} ## key can be a boolean value also."
   ]
  },
  {
   "cell_type": "code",
   "execution_count": 115,
   "id": "41902154-bba0-4a60-894f-ecec8d67680a",
   "metadata": {},
   "outputs": [
    {
     "data": {
      "text/plain": [
       "{True: 'Pravesh'}"
      ]
     },
     "execution_count": 115,
     "metadata": {},
     "output_type": "execute_result"
    }
   ],
   "source": [
    "d5"
   ]
  },
  {
   "cell_type": "code",
   "execution_count": 116,
   "id": "8dead624-8a94-43d7-9295-fc426ff0b9ea",
   "metadata": {},
   "outputs": [
    {
     "ename": "SyntaxError",
     "evalue": "incomplete input (2736533843.py, line 1)",
     "output_type": "error",
     "traceback": [
      "\u001b[0;36m  Cell \u001b[0;32mIn[116], line 1\u001b[0;36m\u001b[0m\n\u001b[0;31m    d6={#:\"Pravesh\"}  ## key cant be a special character.\u001b[0m\n\u001b[0m                                                         ^\u001b[0m\n\u001b[0;31mSyntaxError\u001b[0m\u001b[0;31m:\u001b[0m incomplete input\n"
     ]
    }
   ],
   "source": [
    "d6={#:\"Pravesh\"}  ## key cant be a special character."
   ]
  },
  {
   "cell_type": "code",
   "execution_count": 117,
   "id": "57d32a9c-97f4-4d52-8d4c-4a4653732c14",
   "metadata": {},
   "outputs": [
    {
     "ename": "SyntaxError",
     "evalue": "invalid syntax (2417218743.py, line 1)",
     "output_type": "error",
     "traceback": [
      "\u001b[0;36m  Cell \u001b[0;32mIn[117], line 1\u001b[0;36m\u001b[0m\n\u001b[0;31m    d7={@:\"Pravesh\"}\u001b[0m\n\u001b[0m        ^\u001b[0m\n\u001b[0;31mSyntaxError\u001b[0m\u001b[0;31m:\u001b[0m invalid syntax\n"
     ]
    }
   ],
   "source": [
    "d7={@:\"Pravesh\"}"
   ]
  },
  {
   "cell_type": "code",
   "execution_count": 118,
   "id": "0850e6bd-70ec-46d8-9ddf-1f81ec8e1cc5",
   "metadata": {},
   "outputs": [],
   "source": [
    "d8={\"@\":\"Pravesh\"}"
   ]
  },
  {
   "cell_type": "code",
   "execution_count": 119,
   "id": "115ceb01-cb19-4689-8804-c3518f2b1261",
   "metadata": {},
   "outputs": [
    {
     "data": {
      "text/plain": [
       "{'@': 'Pravesh'}"
      ]
     },
     "execution_count": 119,
     "metadata": {},
     "output_type": "execute_result"
    }
   ],
   "source": [
    "d8"
   ]
  },
  {
   "cell_type": "code",
   "execution_count": 120,
   "id": "b4e970f8-4bf2-487a-a6cb-7a4b0d976dbf",
   "metadata": {},
   "outputs": [
    {
     "ename": "TypeError",
     "evalue": "unhashable type: 'list'",
     "output_type": "error",
     "traceback": [
      "\u001b[0;31m---------------------------------------------------------------------------\u001b[0m",
      "\u001b[0;31mTypeError\u001b[0m                                 Traceback (most recent call last)",
      "Cell \u001b[0;32mIn[120], line 1\u001b[0m\n\u001b[0;32m----> 1\u001b[0m d9\u001b[38;5;241m=\u001b[39m{[\u001b[38;5;241m1\u001b[39m,\u001b[38;5;241m2\u001b[39m,\u001b[38;5;241m3\u001b[39m]:\u001b[38;5;124m\"\u001b[39m\u001b[38;5;124mPravesh\u001b[39m\u001b[38;5;124m\"\u001b[39m}    \u001b[38;5;66;03m## list cant be used as a key.\u001b[39;00m\n",
      "\u001b[0;31mTypeError\u001b[0m: unhashable type: 'list'"
     ]
    }
   ],
   "source": [
    "d9={[1,2,3]:\"Pravesh\"}    ## list cant be used as a key."
   ]
  },
  {
   "cell_type": "code",
   "execution_count": null,
   "id": "b8505b10-422b-4249-a182-ec0e9030950b",
   "metadata": {},
   "outputs": [],
   "source": [
    "d10={(1,12):\"Pravesh\",}"
   ]
  },
  {
   "cell_type": "code",
   "execution_count": 121,
   "id": "ddda8070-c748-4ee6-b97c-539527c4bd51",
   "metadata": {},
   "outputs": [
    {
     "ename": "NameError",
     "evalue": "name 'd10' is not defined",
     "output_type": "error",
     "traceback": [
      "\u001b[0;31m---------------------------------------------------------------------------\u001b[0m",
      "\u001b[0;31mNameError\u001b[0m                                 Traceback (most recent call last)",
      "Cell \u001b[0;32mIn[121], line 1\u001b[0m\n\u001b[0;32m----> 1\u001b[0m \u001b[43md10\u001b[49m\n",
      "\u001b[0;31mNameError\u001b[0m: name 'd10' is not defined"
     ]
    }
   ],
   "source": [
    "d10"
   ]
  },
  {
   "cell_type": "code",
   "execution_count": 122,
   "id": "239ef967-ed2a-4184-aaaa-7f6c35cabbff",
   "metadata": {},
   "outputs": [],
   "source": [
    "d11={(1,23,12):\"Pravesh\"} ## set can be used as a key."
   ]
  },
  {
   "cell_type": "code",
   "execution_count": 123,
   "id": "a723b4ec-2e99-4d8f-af07-eee227da74f2",
   "metadata": {},
   "outputs": [
    {
     "data": {
      "text/plain": [
       "{(1, 23, 12): 'Pravesh'}"
      ]
     },
     "execution_count": 123,
     "metadata": {},
     "output_type": "execute_result"
    }
   ],
   "source": [
    "d11"
   ]
  },
  {
   "cell_type": "code",
   "execution_count": 124,
   "id": "114b194e-2752-40be-90c2-40f01070a506",
   "metadata": {},
   "outputs": [
    {
     "ename": "TypeError",
     "evalue": "unhashable type: 'dict'",
     "output_type": "error",
     "traceback": [
      "\u001b[0;31m---------------------------------------------------------------------------\u001b[0m",
      "\u001b[0;31mTypeError\u001b[0m                                 Traceback (most recent call last)",
      "Cell \u001b[0;32mIn[124], line 1\u001b[0m\n\u001b[0;32m----> 1\u001b[0m d12\u001b[38;5;241m=\u001b[39m{{\u001b[38;5;124m\"\u001b[39m\u001b[38;5;124mKey\u001b[39m\u001b[38;5;124m\"\u001b[39m:\u001b[38;5;241m123\u001b[39m}:\u001b[38;5;241m12345\u001b[39m} \u001b[38;5;66;03m##Dictionary cant be used as key.\u001b[39;00m\n",
      "\u001b[0;31mTypeError\u001b[0m: unhashable type: 'dict'"
     ]
    }
   ],
   "source": [
    "d12={{\"Key\":123}:12345} ##Dictionary cant be used as key."
   ]
  },
  {
   "cell_type": "code",
   "execution_count": 125,
   "id": "68e166fc-394b-4553-ac44-f2b5c7ef7153",
   "metadata": {},
   "outputs": [],
   "source": [
    "d13={\"key\":[\"Om\",\"Hai\",\"Jeewan\",\"Hamaara\"]} ## Value can be a list also."
   ]
  },
  {
   "cell_type": "code",
   "execution_count": 126,
   "id": "6e069a23-6948-45e1-a925-b79b83daa71e",
   "metadata": {},
   "outputs": [
    {
     "data": {
      "text/plain": [
       "{'key': ['Om', 'Hai', 'Jeewan', 'Hamaara']}"
      ]
     },
     "execution_count": 126,
     "metadata": {},
     "output_type": "execute_result"
    }
   ],
   "source": [
    "d13"
   ]
  },
  {
   "cell_type": "code",
   "execution_count": 127,
   "id": "07a9bc4d-ad57-4a0b-ae86-df7d3c614303",
   "metadata": {},
   "outputs": [],
   "source": [
    "d14={\"Key\":(\"Om\",\"Palanhaar\",\"Hai\")}  ## Value can be tuple also."
   ]
  },
  {
   "cell_type": "code",
   "execution_count": 128,
   "id": "db086e42-ea71-425e-b5ff-6641da7a985c",
   "metadata": {},
   "outputs": [
    {
     "data": {
      "text/plain": [
       "{'Key': ('Om', 'Palanhaar', 'Hai')}"
      ]
     },
     "execution_count": 128,
     "metadata": {},
     "output_type": "execute_result"
    }
   ],
   "source": [
    "d14"
   ]
  },
  {
   "cell_type": "code",
   "execution_count": 129,
   "id": "d2f89df4-423f-4533-8a95-c1a313c0b407",
   "metadata": {},
   "outputs": [],
   "source": [
    "d15={\"Key\":{\"Om\",\"Hai\",\"KartaVidhaata\"}} ## Value can be a set also."
   ]
  },
  {
   "cell_type": "code",
   "execution_count": 130,
   "id": "1649adcb-52ee-41c2-961b-076d96361589",
   "metadata": {},
   "outputs": [
    {
     "data": {
      "text/plain": [
       "{'Key': {'Hai', 'KartaVidhaata', 'Om'}}"
      ]
     },
     "execution_count": 130,
     "metadata": {},
     "output_type": "execute_result"
    }
   ],
   "source": [
    "d15"
   ]
  },
  {
   "cell_type": "code",
   "execution_count": 272,
   "id": "3b635488-aad3-43fd-b010-76741fdef376",
   "metadata": {},
   "outputs": [],
   "source": [
    "d16={\"Key\":{\"Name\":\"Pravesh\",\"Class\":\"DSM\"}}  ## Value can be a Dictionary also."
   ]
  },
  {
   "cell_type": "code",
   "execution_count": 132,
   "id": "3cda172c-4e52-49a2-9f21-b8edc5de6c35",
   "metadata": {},
   "outputs": [
    {
     "data": {
      "text/plain": [
       "{'Key': {'Name': 'Pravesh', 'Class': 'DSM'}}"
      ]
     },
     "execution_count": 132,
     "metadata": {},
     "output_type": "execute_result"
    }
   ],
   "source": [
    "d16 ## Nested Dictionary---> Nested Dictionary."
   ]
  },
  {
   "cell_type": "code",
   "execution_count": 133,
   "id": "4768a445-0973-4209-bcb1-5405c7448f87",
   "metadata": {},
   "outputs": [],
   "source": [
    "d17={\"Batch Name\":[\"Data Science Masters\",\"Web Dev\",\"JDS\"],\"start date\":(28,14,21),\"Mentors Name\":{\"Krish Naik\",\"Shudhanshu\",\"Anurag\",\"Hitesh\"}}"
   ]
  },
  {
   "cell_type": "code",
   "execution_count": 134,
   "id": "081042ed-857d-4f81-8be7-e9a28f7312b5",
   "metadata": {},
   "outputs": [
    {
     "data": {
      "text/plain": [
       "{'Batch Name': ['Data Science Masters', 'Web Dev', 'JDS'],\n",
       " 'start date': (28, 14, 21),\n",
       " 'Mentors Name': {'Anurag', 'Hitesh', 'Krish Naik', 'Shudhanshu'}}"
      ]
     },
     "execution_count": 134,
     "metadata": {},
     "output_type": "execute_result"
    }
   ],
   "source": [
    "d17"
   ]
  },
  {
   "cell_type": "code",
   "execution_count": 135,
   "id": "749af76d-e9cb-4374-968d-c39283d6a01e",
   "metadata": {},
   "outputs": [],
   "source": [
    "d17[\"Timing\"]=(12,11,10) ## Instead of giving new key if i give existing key then the key will be updated by letest data."
   ]
  },
  {
   "cell_type": "code",
   "execution_count": 136,
   "id": "814daa1c-f8b0-400f-976a-1f29dd747b52",
   "metadata": {},
   "outputs": [
    {
     "data": {
      "text/plain": [
       "{'Batch Name': ['Data Science Masters', 'Web Dev', 'JDS'],\n",
       " 'start date': (28, 14, 21),\n",
       " 'Mentors Name': {'Anurag', 'Hitesh', 'Krish Naik', 'Shudhanshu'},\n",
       " 'Timing': (12, 11, 10)}"
      ]
     },
     "execution_count": 136,
     "metadata": {},
     "output_type": "execute_result"
    }
   ],
   "source": [
    "d17"
   ]
  },
  {
   "cell_type": "code",
   "execution_count": 137,
   "id": "a6ea71f2-24b7-40f4-a2ad-310cd684e9f7",
   "metadata": {},
   "outputs": [
    {
     "data": {
      "text/plain": [
       "['Data Science Masters', 'Web Dev', 'JDS']"
      ]
     },
     "execution_count": 137,
     "metadata": {},
     "output_type": "execute_result"
    }
   ],
   "source": [
    "d17[\"Batch Name\"]"
   ]
  },
  {
   "cell_type": "code",
   "execution_count": 138,
   "id": "3e2e17c9-0003-4b5e-92b5-6f41216a5418",
   "metadata": {},
   "outputs": [
    {
     "data": {
      "text/plain": [
       "(12, 11, 10)"
      ]
     },
     "execution_count": 138,
     "metadata": {},
     "output_type": "execute_result"
    }
   ],
   "source": [
    "d17[\"Timing\"]"
   ]
  },
  {
   "cell_type": "code",
   "execution_count": 139,
   "id": "0b380408-67db-4277-8573-e7dff9c5844d",
   "metadata": {},
   "outputs": [
    {
     "data": {
      "text/plain": [
       "tuple"
      ]
     },
     "execution_count": 139,
     "metadata": {},
     "output_type": "execute_result"
    }
   ],
   "source": [
    "type(d17[\"Timing\"])"
   ]
  },
  {
   "cell_type": "code",
   "execution_count": 140,
   "id": "68ad871a-43ef-44cc-89ae-139def74afad",
   "metadata": {},
   "outputs": [
    {
     "data": {
      "text/plain": [
       "dict"
      ]
     },
     "execution_count": 140,
     "metadata": {},
     "output_type": "execute_result"
    }
   ],
   "source": [
    "type(d17)"
   ]
  },
  {
   "cell_type": "code",
   "execution_count": 141,
   "id": "191f98ea-5e83-466b-8054-5548d39a5c2d",
   "metadata": {},
   "outputs": [
    {
     "data": {
      "text/plain": [
       "str"
      ]
     },
     "execution_count": 141,
     "metadata": {},
     "output_type": "execute_result"
    }
   ],
   "source": [
    "type(\"Timing\")"
   ]
  },
  {
   "cell_type": "code",
   "execution_count": 142,
   "id": "d3015a37-52c3-4989-9011-c176ab2fbbfb",
   "metadata": {},
   "outputs": [
    {
     "data": {
      "text/plain": [
       "tuple"
      ]
     },
     "execution_count": 142,
     "metadata": {},
     "output_type": "execute_result"
    }
   ],
   "source": [
    "type(d17[\"start date\"])"
   ]
  },
  {
   "cell_type": "code",
   "execution_count": 143,
   "id": "dae50377-2035-4a61-a908-c76076d0a7e6",
   "metadata": {},
   "outputs": [],
   "source": [
    "d17[\"name\"]=\"Pravesh\""
   ]
  },
  {
   "cell_type": "code",
   "execution_count": 144,
   "id": "d6b3492c-8f2b-4670-b40d-bbb3d859cb70",
   "metadata": {},
   "outputs": [
    {
     "ename": "KeyError",
     "evalue": "'Key'",
     "output_type": "error",
     "traceback": [
      "\u001b[0;31m---------------------------------------------------------------------------\u001b[0m",
      "\u001b[0;31mKeyError\u001b[0m                                  Traceback (most recent call last)",
      "Cell \u001b[0;32mIn[144], line 1\u001b[0m\n\u001b[0;32m----> 1\u001b[0m \u001b[43md17\u001b[49m\u001b[43m[\u001b[49m\u001b[38;5;124;43m\"\u001b[39;49m\u001b[38;5;124;43mKey\u001b[39;49m\u001b[38;5;124;43m\"\u001b[39;49m\u001b[43m]\u001b[49m\n",
      "\u001b[0;31mKeyError\u001b[0m: 'Key'"
     ]
    }
   ],
   "source": [
    "d17[\"Key\"]"
   ]
  },
  {
   "cell_type": "code",
   "execution_count": 145,
   "id": "04ad7619-1968-4bf2-8ada-dc7c4d9411cb",
   "metadata": {},
   "outputs": [
    {
     "data": {
      "text/plain": [
       "{'Name': 'Pravesh', 'Class': 'DSM'}"
      ]
     },
     "execution_count": 145,
     "metadata": {},
     "output_type": "execute_result"
    }
   ],
   "source": [
    "d16[\"Key\"]"
   ]
  },
  {
   "cell_type": "code",
   "execution_count": 146,
   "id": "0eeb7c36-a8c4-4460-b0d6-3e53bd6179b4",
   "metadata": {},
   "outputs": [
    {
     "ename": "AttributeError",
     "evalue": "'tuple' object has no attribute 'upper'",
     "output_type": "error",
     "traceback": [
      "\u001b[0;31m---------------------------------------------------------------------------\u001b[0m",
      "\u001b[0;31mAttributeError\u001b[0m                            Traceback (most recent call last)",
      "Cell \u001b[0;32mIn[146], line 1\u001b[0m\n\u001b[0;32m----> 1\u001b[0m \u001b[43md17\u001b[49m\u001b[43m[\u001b[49m\u001b[38;5;124;43m\"\u001b[39;49m\u001b[38;5;124;43mTiming\u001b[39;49m\u001b[38;5;124;43m\"\u001b[39;49m\u001b[43m]\u001b[49m\u001b[38;5;241;43m.\u001b[39;49m\u001b[43mupper\u001b[49m()\n",
      "\u001b[0;31mAttributeError\u001b[0m: 'tuple' object has no attribute 'upper'"
     ]
    }
   ],
   "source": [
    "d17[\"Timing\"].upper()"
   ]
  },
  {
   "cell_type": "code",
   "execution_count": 147,
   "id": "7ce42fb9-a357-4bd9-9548-d0bf5fc53d2b",
   "metadata": {},
   "outputs": [
    {
     "ename": "AttributeError",
     "evalue": "'list' object has no attribute 'upper'",
     "output_type": "error",
     "traceback": [
      "\u001b[0;31m---------------------------------------------------------------------------\u001b[0m",
      "\u001b[0;31mAttributeError\u001b[0m                            Traceback (most recent call last)",
      "Cell \u001b[0;32mIn[147], line 1\u001b[0m\n\u001b[0;32m----> 1\u001b[0m \u001b[43md17\u001b[49m\u001b[43m[\u001b[49m\u001b[38;5;124;43m\"\u001b[39;49m\u001b[38;5;124;43mBatch Name\u001b[39;49m\u001b[38;5;124;43m\"\u001b[39;49m\u001b[43m]\u001b[49m\u001b[38;5;241;43m.\u001b[39;49m\u001b[43mupper\u001b[49m()\n",
      "\u001b[0;31mAttributeError\u001b[0m: 'list' object has no attribute 'upper'"
     ]
    }
   ],
   "source": [
    "d17[\"Batch Name\"].upper()"
   ]
  },
  {
   "cell_type": "code",
   "execution_count": 148,
   "id": "71222763-cfa3-4877-857e-e99460861d74",
   "metadata": {},
   "outputs": [
    {
     "data": {
      "text/plain": [
       "'PRAVESH'"
      ]
     },
     "execution_count": 148,
     "metadata": {},
     "output_type": "execute_result"
    }
   ],
   "source": [
    "d17[\"name\"].upper()"
   ]
  },
  {
   "cell_type": "code",
   "execution_count": 149,
   "id": "34752d67-9d0d-4a35-ba98-d35ced5e58b1",
   "metadata": {},
   "outputs": [
    {
     "data": {
      "text/plain": [
       "{'Key': {'Name': 'Pravesh', 'Class': 'DSM'}}"
      ]
     },
     "execution_count": 149,
     "metadata": {},
     "output_type": "execute_result"
    }
   ],
   "source": [
    "d16"
   ]
  },
  {
   "cell_type": "code",
   "execution_count": 150,
   "id": "984ddc13-ca0a-4e35-a20b-393796ad7b75",
   "metadata": {},
   "outputs": [
    {
     "data": {
      "text/plain": [
       "{'Name': 'Pravesh', 'Class': 'DSM'}"
      ]
     },
     "execution_count": 150,
     "metadata": {},
     "output_type": "execute_result"
    }
   ],
   "source": [
    "d16[\"Key\"]"
   ]
  },
  {
   "cell_type": "code",
   "execution_count": 151,
   "id": "97145444-e976-4d7d-9418-f2197d70e017",
   "metadata": {},
   "outputs": [
    {
     "data": {
      "text/plain": [
       "dict"
      ]
     },
     "execution_count": 151,
     "metadata": {},
     "output_type": "execute_result"
    }
   ],
   "source": [
    "type(d16[\"Key\"])"
   ]
  },
  {
   "cell_type": "code",
   "execution_count": 152,
   "id": "125828f5-60be-40a3-a9bf-8f29bb0cfcc0",
   "metadata": {},
   "outputs": [
    {
     "data": {
      "text/plain": [
       "'DSM'"
      ]
     },
     "execution_count": 152,
     "metadata": {},
     "output_type": "execute_result"
    }
   ],
   "source": [
    "d16[\"Key\"][\"Class\"]    ## in case of nested dictionary in this way we can extract information."
   ]
  },
  {
   "cell_type": "code",
   "execution_count": 153,
   "id": "7d7696a1-2723-4a95-8fba-b9a313ef0d06",
   "metadata": {},
   "outputs": [],
   "source": [
    "d16[\"Key1\"]=\"PRAVESH\""
   ]
  },
  {
   "cell_type": "code",
   "execution_count": 154,
   "id": "60c599bf-3d28-4aa7-a05a-b51353991f84",
   "metadata": {},
   "outputs": [
    {
     "data": {
      "text/plain": [
       "{'Key': {'Name': 'Pravesh', 'Class': 'DSM'}, 'Key1': 'PRAVESH'}"
      ]
     },
     "execution_count": 154,
     "metadata": {},
     "output_type": "execute_result"
    }
   ],
   "source": [
    "d16"
   ]
  },
  {
   "cell_type": "code",
   "execution_count": 155,
   "id": "a753e123-a7f3-4f69-8e6e-92ea6a1c7f78",
   "metadata": {},
   "outputs": [],
   "source": [
    "del d16[\"Key1\"]"
   ]
  },
  {
   "cell_type": "code",
   "execution_count": 156,
   "id": "fc209545-fdec-4afc-a2cb-9f74500bcdb5",
   "metadata": {},
   "outputs": [
    {
     "data": {
      "text/plain": [
       "{'Key': {'Name': 'Pravesh', 'Class': 'DSM'}}"
      ]
     },
     "execution_count": 156,
     "metadata": {},
     "output_type": "execute_result"
    }
   ],
   "source": [
    "d16"
   ]
  },
  {
   "cell_type": "code",
   "execution_count": 157,
   "id": "6c2e1c13-5bad-4cfb-bf0c-afb31800f649",
   "metadata": {},
   "outputs": [],
   "source": [
    "d15.clear()"
   ]
  },
  {
   "cell_type": "code",
   "execution_count": 158,
   "id": "9088956f-04b5-40eb-8f2d-65ca67ae5750",
   "metadata": {},
   "outputs": [
    {
     "data": {
      "text/plain": [
       "{}"
      ]
     },
     "execution_count": 158,
     "metadata": {},
     "output_type": "execute_result"
    }
   ],
   "source": [
    "d15"
   ]
  },
  {
   "cell_type": "code",
   "execution_count": 159,
   "id": "5ecca419-8060-4067-b8d4-40963bb63e11",
   "metadata": {},
   "outputs": [
    {
     "data": {
      "text/plain": [
       "0"
      ]
     },
     "execution_count": 159,
     "metadata": {},
     "output_type": "execute_result"
    }
   ],
   "source": [
    "len(d15)"
   ]
  },
  {
   "cell_type": "code",
   "execution_count": 160,
   "id": "40077b74-bd01-487f-8587-cbcf5306fe88",
   "metadata": {},
   "outputs": [
    {
     "data": {
      "text/plain": [
       "1"
      ]
     },
     "execution_count": 160,
     "metadata": {},
     "output_type": "execute_result"
    }
   ],
   "source": [
    "len(d16)"
   ]
  },
  {
   "cell_type": "code",
   "execution_count": 161,
   "id": "082f5e00-c75c-44be-8951-1c1ae388588b",
   "metadata": {},
   "outputs": [
    {
     "data": {
      "text/plain": [
       "{'Key': {'Name': 'Pravesh', 'Class': 'DSM'}}"
      ]
     },
     "execution_count": 161,
     "metadata": {},
     "output_type": "execute_result"
    }
   ],
   "source": [
    "d16"
   ]
  },
  {
   "cell_type": "code",
   "execution_count": 162,
   "id": "b3dac787-fcb8-431b-be4d-a98f8430282c",
   "metadata": {},
   "outputs": [
    {
     "data": {
      "text/plain": [
       "{'Batch Name': ['Data Science Masters', 'Web Dev', 'JDS'],\n",
       " 'start date': (28, 14, 21),\n",
       " 'Mentors Name': {'Anurag', 'Hitesh', 'Krish Naik', 'Shudhanshu'},\n",
       " 'Timing': (12, 11, 10),\n",
       " 'name': 'Pravesh'}"
      ]
     },
     "execution_count": 162,
     "metadata": {},
     "output_type": "execute_result"
    }
   ],
   "source": [
    "d17"
   ]
  },
  {
   "cell_type": "code",
   "execution_count": 163,
   "id": "1a6facad-5841-404c-85c7-f6f607456921",
   "metadata": {},
   "outputs": [
    {
     "data": {
      "text/plain": [
       "5"
      ]
     },
     "execution_count": 163,
     "metadata": {},
     "output_type": "execute_result"
    }
   ],
   "source": [
    "len(d17)"
   ]
  },
  {
   "cell_type": "code",
   "execution_count": 164,
   "id": "74c65ef5-6024-455a-8e37-404d6a4d1845",
   "metadata": {},
   "outputs": [
    {
     "data": {
      "text/plain": [
       "dict_keys(['Batch Name', 'start date', 'Mentors Name', 'Timing', 'name'])"
      ]
     },
     "execution_count": 164,
     "metadata": {},
     "output_type": "execute_result"
    }
   ],
   "source": [
    "d17.keys()"
   ]
  },
  {
   "cell_type": "code",
   "execution_count": 165,
   "id": "90565988-486e-42ff-8ed2-8b4c8f6e9898",
   "metadata": {},
   "outputs": [
    {
     "data": {
      "text/plain": [
       "dict_values([['Data Science Masters', 'Web Dev', 'JDS'], (28, 14, 21), {'Anurag', 'Krish Naik', 'Shudhanshu', 'Hitesh'}, (12, 11, 10), 'Pravesh'])"
      ]
     },
     "execution_count": 165,
     "metadata": {},
     "output_type": "execute_result"
    }
   ],
   "source": [
    "d17.values()"
   ]
  },
  {
   "cell_type": "code",
   "execution_count": 166,
   "id": "c4e4a210-d009-4675-a088-68f25265a01d",
   "metadata": {},
   "outputs": [
    {
     "data": {
      "text/plain": [
       "['Batch Name', 'start date', 'Mentors Name', 'Timing', 'name']"
      ]
     },
     "execution_count": 166,
     "metadata": {},
     "output_type": "execute_result"
    }
   ],
   "source": [
    "list(d17.keys())"
   ]
  },
  {
   "cell_type": "code",
   "execution_count": 167,
   "id": "039f76d0-8794-4e5c-bc9d-9eca5e386ec7",
   "metadata": {},
   "outputs": [
    {
     "data": {
      "text/plain": [
       "[['Data Science Masters', 'Web Dev', 'JDS'],\n",
       " (28, 14, 21),\n",
       " {'Anurag', 'Hitesh', 'Krish Naik', 'Shudhanshu'},\n",
       " (12, 11, 10),\n",
       " 'Pravesh']"
      ]
     },
     "execution_count": 167,
     "metadata": {},
     "output_type": "execute_result"
    }
   ],
   "source": [
    "list(d17.values())"
   ]
  },
  {
   "cell_type": "code",
   "execution_count": 168,
   "id": "5b2c9c6e-a705-4954-9c32-c986342854e6",
   "metadata": {},
   "outputs": [
    {
     "data": {
      "text/plain": [
       "dict_items([('Batch Name', ['Data Science Masters', 'Web Dev', 'JDS']), ('start date', (28, 14, 21)), ('Mentors Name', {'Anurag', 'Krish Naik', 'Shudhanshu', 'Hitesh'}), ('Timing', (12, 11, 10)), ('name', 'Pravesh')])"
      ]
     },
     "execution_count": 168,
     "metadata": {},
     "output_type": "execute_result"
    }
   ],
   "source": [
    "d17.items() ## Here we are trying to extract key and value pairs both as tuples in a list."
   ]
  },
  {
   "cell_type": "code",
   "execution_count": 169,
   "id": "e0a659bd-b78f-48e7-b1c0-f5437b0fcfc4",
   "metadata": {},
   "outputs": [
    {
     "data": {
      "text/plain": [
       "[('Batch Name', ['Data Science Masters', 'Web Dev', 'JDS']),\n",
       " ('start date', (28, 14, 21)),\n",
       " ('Mentors Name', {'Anurag', 'Hitesh', 'Krish Naik', 'Shudhanshu'}),\n",
       " ('Timing', (12, 11, 10)),\n",
       " ('name', 'Pravesh')]"
      ]
     },
     "execution_count": 169,
     "metadata": {},
     "output_type": "execute_result"
    }
   ],
   "source": [
    "list(d17.items())"
   ]
  },
  {
   "cell_type": "code",
   "execution_count": 170,
   "id": "71300ecb-9522-4364-9e80-fa9431545065",
   "metadata": {},
   "outputs": [
    {
     "data": {
      "text/plain": [
       "{'Key': ('Om', 'Palanhaar', 'Hai')}"
      ]
     },
     "execution_count": 170,
     "metadata": {},
     "output_type": "execute_result"
    }
   ],
   "source": [
    "d14"
   ]
  },
  {
   "cell_type": "code",
   "execution_count": 171,
   "id": "c836b49f-0934-4525-81fa-d2600b36fe2e",
   "metadata": {},
   "outputs": [
    {
     "data": {
      "text/plain": [
       "{'Batch Name': ['Data Science Masters', 'Web Dev', 'JDS'],\n",
       " 'start date': (28, 14, 21),\n",
       " 'Mentors Name': {'Anurag', 'Hitesh', 'Krish Naik', 'Shudhanshu'},\n",
       " 'Timing': (12, 11, 10),\n",
       " 'name': 'Pravesh'}"
      ]
     },
     "execution_count": 171,
     "metadata": {},
     "output_type": "execute_result"
    }
   ],
   "source": [
    "d17.copy() "
   ]
  },
  {
   "cell_type": "code",
   "execution_count": 172,
   "id": "beaeac88-a32f-4d63-a0b3-73cb2dffad12",
   "metadata": {},
   "outputs": [],
   "source": [
    "d18=d17.copy() ## Here copy of d17 is created at separate place and assigned to d18 , here changes in d17 will not affect to d18"
   ]
  },
  {
   "cell_type": "code",
   "execution_count": 173,
   "id": "9c7f4e97-3332-41c8-82cb-cce8b9b8b439",
   "metadata": {},
   "outputs": [],
   "source": [
    "d19=d17   ## Here d16 and d17 is pointing to same memory."
   ]
  },
  {
   "cell_type": "code",
   "execution_count": 174,
   "id": "5df22059-c25c-42d4-aadc-4ce393254edc",
   "metadata": {},
   "outputs": [
    {
     "data": {
      "text/plain": [
       "{'Batch Name': ['Data Science Masters', 'Web Dev', 'JDS'],\n",
       " 'start date': (28, 14, 21),\n",
       " 'Mentors Name': {'Anurag', 'Hitesh', 'Krish Naik', 'Shudhanshu'},\n",
       " 'Timing': (12, 11, 10),\n",
       " 'name': 'Pravesh'}"
      ]
     },
     "execution_count": 174,
     "metadata": {},
     "output_type": "execute_result"
    }
   ],
   "source": [
    "d18"
   ]
  },
  {
   "cell_type": "code",
   "execution_count": 175,
   "id": "0b786cc6-e1a0-4348-b0b6-c73faba87f9a",
   "metadata": {},
   "outputs": [],
   "source": [
    "del d17[\"name\"]"
   ]
  },
  {
   "cell_type": "code",
   "execution_count": 176,
   "id": "be8eaa4f-c3d3-49c0-b768-9b2ba2dedf78",
   "metadata": {},
   "outputs": [
    {
     "data": {
      "text/plain": [
       "{'Batch Name': ['Data Science Masters', 'Web Dev', 'JDS'],\n",
       " 'start date': (28, 14, 21),\n",
       " 'Mentors Name': {'Anurag', 'Hitesh', 'Krish Naik', 'Shudhanshu'},\n",
       " 'Timing': (12, 11, 10)}"
      ]
     },
     "execution_count": 176,
     "metadata": {},
     "output_type": "execute_result"
    }
   ],
   "source": [
    "d17"
   ]
  },
  {
   "cell_type": "code",
   "execution_count": 177,
   "id": "e8959cb7-c344-49c8-807b-00e241c44d9d",
   "metadata": {},
   "outputs": [
    {
     "data": {
      "text/plain": [
       "{'Batch Name': ['Data Science Masters', 'Web Dev', 'JDS'],\n",
       " 'start date': (28, 14, 21),\n",
       " 'Mentors Name': {'Anurag', 'Hitesh', 'Krish Naik', 'Shudhanshu'},\n",
       " 'Timing': (12, 11, 10),\n",
       " 'name': 'Pravesh'}"
      ]
     },
     "execution_count": 177,
     "metadata": {},
     "output_type": "execute_result"
    }
   ],
   "source": [
    "d18"
   ]
  },
  {
   "cell_type": "code",
   "execution_count": 178,
   "id": "c976ca70-e8ab-49cc-94af-55c0732a05f6",
   "metadata": {},
   "outputs": [
    {
     "data": {
      "text/plain": [
       "{'Batch Name': ['Data Science Masters', 'Web Dev', 'JDS'],\n",
       " 'start date': (28, 14, 21),\n",
       " 'Mentors Name': {'Anurag', 'Hitesh', 'Krish Naik', 'Shudhanshu'},\n",
       " 'Timing': (12, 11, 10)}"
      ]
     },
     "execution_count": 178,
     "metadata": {},
     "output_type": "execute_result"
    }
   ],
   "source": [
    "d19"
   ]
  },
  {
   "cell_type": "code",
   "execution_count": 179,
   "id": "17f78405-42ad-4a82-82a0-bb7a86d11491",
   "metadata": {},
   "outputs": [],
   "source": [
    "ll=[\"sg\",1,11,23,3]"
   ]
  },
  {
   "cell_type": "code",
   "execution_count": 180,
   "id": "7a81511b-1066-4d3d-a6b6-729f1a77854c",
   "metadata": {},
   "outputs": [
    {
     "data": {
      "text/plain": [
       "3"
      ]
     },
     "execution_count": 180,
     "metadata": {},
     "output_type": "execute_result"
    }
   ],
   "source": [
    "ll.pop()"
   ]
  },
  {
   "cell_type": "code",
   "execution_count": 186,
   "id": "994e4e5f-7d37-4792-ad9c-3fb5c8847c97",
   "metadata": {},
   "outputs": [
    {
     "data": {
      "text/plain": [
       "{'Batch Name': ['Data Science Masters', 'Web Dev', 'JDS'],\n",
       " 'start date': (28, 14, 21),\n",
       " 'Mentors Name': {'Anurag', 'Hitesh', 'Krish Naik', 'Shudhanshu'}}"
      ]
     },
     "execution_count": 186,
     "metadata": {},
     "output_type": "execute_result"
    }
   ],
   "source": [
    "d17"
   ]
  },
  {
   "cell_type": "code",
   "execution_count": 182,
   "id": "1fb6fd80-5296-4f99-9489-d2a5c1ab951f",
   "metadata": {},
   "outputs": [
    {
     "ename": "TypeError",
     "evalue": "pop expected at least 1 argument, got 0",
     "output_type": "error",
     "traceback": [
      "\u001b[0;31m---------------------------------------------------------------------------\u001b[0m",
      "\u001b[0;31mTypeError\u001b[0m                                 Traceback (most recent call last)",
      "Cell \u001b[0;32mIn[182], line 1\u001b[0m\n\u001b[0;32m----> 1\u001b[0m \u001b[43md17\u001b[49m\u001b[38;5;241;43m.\u001b[39;49m\u001b[43mpop\u001b[49m\u001b[43m(\u001b[49m\u001b[43m)\u001b[49m\n",
      "\u001b[0;31mTypeError\u001b[0m: pop expected at least 1 argument, got 0"
     ]
    }
   ],
   "source": [
    "d17.pop()"
   ]
  },
  {
   "cell_type": "code",
   "execution_count": 183,
   "id": "2b941caf-3053-4137-b6aa-a31818a1c0c8",
   "metadata": {},
   "outputs": [
    {
     "data": {
      "text/plain": [
       "(12, 11, 10)"
      ]
     },
     "execution_count": 183,
     "metadata": {},
     "output_type": "execute_result"
    }
   ],
   "source": [
    "d17.pop('Timing')"
   ]
  },
  {
   "cell_type": "code",
   "execution_count": 187,
   "id": "3b68351a-1b0d-4c74-a07b-8c8537b2e56e",
   "metadata": {},
   "outputs": [
    {
     "data": {
      "text/plain": [
       "{'Batch Name': ['Data Science Masters', 'Web Dev', 'JDS'],\n",
       " 'start date': (28, 14, 21),\n",
       " 'Mentors Name': {'Anurag', 'Hitesh', 'Krish Naik', 'Shudhanshu'}}"
      ]
     },
     "execution_count": 187,
     "metadata": {},
     "output_type": "execute_result"
    }
   ],
   "source": [
    "d17  # D.pop(k[,d]) -> v, remove specified key and return the corresponding value.\n"
   ]
  },
  {
   "cell_type": "code",
   "execution_count": 188,
   "id": "a6a28f2b-43c0-4cc6-9cd2-876b69ec1b5f",
   "metadata": {},
   "outputs": [
    {
     "data": {
      "text/plain": [
       "{}"
      ]
     },
     "execution_count": 188,
     "metadata": {},
     "output_type": "execute_result"
    }
   ],
   "source": [
    "d"
   ]
  },
  {
   "cell_type": "code",
   "execution_count": 189,
   "id": "352294f3-b946-4b6d-a42f-47b3970b8772",
   "metadata": {},
   "outputs": [
    {
     "data": {
      "text/plain": [
       "{1: ('Pravesh', 'Kumar', 'Arya'),\n",
       " 2: ('Pravesh', 'Kumar', 'Arya'),\n",
       " 3: ('Pravesh', 'Kumar', 'Arya')}"
      ]
     },
     "execution_count": 189,
     "metadata": {},
     "output_type": "execute_result"
    }
   ],
   "source": [
    "d17.fromkeys((1,2,3),(\"Pravesh\",\"Kumar\",\"Arya\"))"
   ]
  },
  {
   "cell_type": "code",
   "execution_count": 191,
   "id": "93714b73-481f-4625-9829-bdae5adcc74f",
   "metadata": {},
   "outputs": [
    {
     "data": {
      "text/plain": [
       "{'name': 'vishal', 1: 'vishal'}"
      ]
     },
     "execution_count": 191,
     "metadata": {},
     "output_type": "execute_result"
    }
   ],
   "source": [
    "d.fromkeys({\"name\":\"Pravesh\",1:\"pky\"},\"vishal\")"
   ]
  },
  {
   "cell_type": "code",
   "execution_count": 193,
   "id": "e1f58b13-d87f-4ef9-b93d-24fe03a75e9b",
   "metadata": {},
   "outputs": [],
   "source": [
    "d20={\"Key1\":\"Value1\",\"Key2\":\"Value2\"}\n",
    "d21={\"Key3\":\"Value3\",\"Key4\":\"Value4\"}"
   ]
  },
  {
   "cell_type": "code",
   "execution_count": 194,
   "id": "5a7c4bb0-5958-4de7-9e81-832b58c56981",
   "metadata": {},
   "outputs": [
    {
     "data": {
      "text/plain": [
       "({'Key1': 'Value1', 'Key2': 'Value2'}, {'Key3': 'Value3', 'Key4': 'Value4'})"
      ]
     },
     "execution_count": 194,
     "metadata": {},
     "output_type": "execute_result"
    }
   ],
   "source": [
    "(d20,d21)"
   ]
  },
  {
   "cell_type": "code",
   "execution_count": 195,
   "id": "c5073a6b-6693-4e2f-88e5-2f7605e0fdbb",
   "metadata": {},
   "outputs": [],
   "source": [
    "d20.update(d21)"
   ]
  },
  {
   "cell_type": "code",
   "execution_count": 196,
   "id": "bb607a4a-418b-4407-8027-80ee82859f89",
   "metadata": {},
   "outputs": [
    {
     "data": {
      "text/plain": [
       "{'Key1': 'Value1', 'Key2': 'Value2', 'Key3': 'Value3', 'Key4': 'Value4'}"
      ]
     },
     "execution_count": 196,
     "metadata": {},
     "output_type": "execute_result"
    }
   ],
   "source": [
    "d20"
   ]
  },
  {
   "cell_type": "code",
   "execution_count": 197,
   "id": "cc5b0b15-3850-4baa-9d2d-bc769fea1f83",
   "metadata": {},
   "outputs": [
    {
     "data": {
      "text/plain": [
       "{'Key3': 'Value3', 'Key4': 'Value4'}"
      ]
     },
     "execution_count": 197,
     "metadata": {},
     "output_type": "execute_result"
    }
   ],
   "source": [
    "d21"
   ]
  },
  {
   "cell_type": "code",
   "execution_count": 198,
   "id": "11812966-d3b2-4e79-b8dd-104b7568d589",
   "metadata": {},
   "outputs": [
    {
     "data": {
      "text/plain": [
       "'Value1'"
      ]
     },
     "execution_count": 198,
     "metadata": {},
     "output_type": "execute_result"
    }
   ],
   "source": [
    "d20.get(\"Key1\") ## get never gives any error."
   ]
  },
  {
   "cell_type": "code",
   "execution_count": 199,
   "id": "ba9e953f-ddda-411c-b976-27401a64fb5e",
   "metadata": {},
   "outputs": [
    {
     "data": {
      "text/plain": [
       "{'Key1': 'Value1', 'Key2': 'Value2', 'Key3': 'Value3', 'Key4': 'Value4'}"
      ]
     },
     "execution_count": 199,
     "metadata": {},
     "output_type": "execute_result"
    }
   ],
   "source": [
    "d20"
   ]
  },
  {
   "cell_type": "code",
   "execution_count": 200,
   "id": "e53bb17c-0920-40af-bd80-ddd3bccf6fa2",
   "metadata": {},
   "outputs": [],
   "source": [
    "d20.get(\"Mo\") ## get never gives any error even if you give a key which is even dont exist."
   ]
  },
  {
   "cell_type": "code",
   "execution_count": 202,
   "id": "08207b56-9626-431d-86fc-dae83adc3741",
   "metadata": {},
   "outputs": [
    {
     "data": {
      "text/plain": [
       "'Value3'"
      ]
     },
     "execution_count": 202,
     "metadata": {},
     "output_type": "execute_result"
    }
   ],
   "source": [
    "d21.get(\"Key3\")"
   ]
  },
  {
   "cell_type": "markdown",
   "id": "ffb88dbe-8928-444f-8a6f-e3643c36ad5a",
   "metadata": {},
   "source": [
    "## Dictionary Comprehension #### Running a for loop and creating a dictionary"
   ]
  },
  {
   "cell_type": "code",
   "execution_count": 219,
   "id": "078a8fc7-8f82-4578-bc81-17a25844fd55",
   "metadata": {},
   "outputs": [
    {
     "data": {
      "text/plain": [
       "{1: 1, 2: 4, 3: 9, 4: 16, 5: 25, 6: 36, 7: 49, 8: 64, 9: 81, 10: 100}"
      ]
     },
     "execution_count": 219,
     "metadata": {},
     "output_type": "execute_result"
    }
   ],
   "source": [
    "{i: i*i for i in range(1,11)}"
   ]
  },
  {
   "cell_type": "code",
   "execution_count": 211,
   "id": "04cee4d9-f524-4c85-a842-622e3493181a",
   "metadata": {},
   "outputs": [
    {
     "data": {
      "text/plain": [
       "[1, 2, 3, 4, 5, 6, 7, 8, 9, 10]"
      ]
     },
     "execution_count": 211,
     "metadata": {},
     "output_type": "execute_result"
    }
   ],
   "source": [
    "list(range(1,11))"
   ]
  },
  {
   "cell_type": "code",
   "execution_count": 213,
   "id": "b896d9a8-3207-4bab-8fc3-1763ce747ecd",
   "metadata": {},
   "outputs": [
    {
     "data": {
      "text/plain": [
       "{1: 4, 2: 5, 3: 6, 4: 7, 5: 8, 6: 9, 7: 10, 8: 11, 9: 12, 10: 13}"
      ]
     },
     "execution_count": 213,
     "metadata": {},
     "output_type": "execute_result"
    }
   ],
   "source": [
    "{i: i+3 for i in range(1,11)}"
   ]
  },
  {
   "cell_type": "code",
   "execution_count": 223,
   "id": "9ac09c71-ddc2-422f-8c23-ddba548415fc",
   "metadata": {},
   "outputs": [],
   "source": [
    "import math\n",
    "d22={i:math.log10(i) for i in range(1,11)}"
   ]
  },
  {
   "cell_type": "code",
   "execution_count": 221,
   "id": "1eb76f05-9af1-46fe-912e-7b2ebb8bd9a7",
   "metadata": {},
   "outputs": [
    {
     "data": {
      "text/plain": [
       "{'Batch Name': ['Data Science Masters', 'Web Dev', 'JDS'],\n",
       " 'start date': (28, 14, 21),\n",
       " 'Mentors Name': {'Anurag', 'Hitesh', 'Krish Naik', 'Shudhanshu'}}"
      ]
     },
     "execution_count": 221,
     "metadata": {},
     "output_type": "execute_result"
    }
   ],
   "source": [
    "d17"
   ]
  },
  {
   "cell_type": "code",
   "execution_count": 222,
   "id": "661fd696-1798-48b1-95cd-b940e97fb717",
   "metadata": {},
   "outputs": [
    {
     "data": {
      "text/plain": [
       "True"
      ]
     },
     "execution_count": 222,
     "metadata": {},
     "output_type": "execute_result"
    }
   ],
   "source": [
    "\"Batch Name\" in d17"
   ]
  },
  {
   "cell_type": "code",
   "execution_count": 225,
   "id": "6808a61d-d3f9-4a0a-b334-dc2ca7544356",
   "metadata": {},
   "outputs": [],
   "source": [
    "d22={i:math.log10(i) for i in range(1,11)}"
   ]
  },
  {
   "cell_type": "code",
   "execution_count": 226,
   "id": "5adfc737-36c4-4ad2-9747-6d47fca86d90",
   "metadata": {},
   "outputs": [
    {
     "data": {
      "text/plain": [
       "{1: 0.0,\n",
       " 2: 0.3010299956639812,\n",
       " 3: 0.47712125471966244,\n",
       " 4: 0.6020599913279624,\n",
       " 5: 0.6989700043360189,\n",
       " 6: 0.7781512503836436,\n",
       " 7: 0.8450980400142568,\n",
       " 8: 0.9030899869919435,\n",
       " 9: 0.9542425094393249,\n",
       " 10: 1.0}"
      ]
     },
     "execution_count": 226,
     "metadata": {},
     "output_type": "execute_result"
    }
   ],
   "source": [
    "d22"
   ]
  },
  {
   "cell_type": "code",
   "execution_count": 227,
   "id": "24740a19-8c80-4fa3-b2ff-03702377edbb",
   "metadata": {},
   "outputs": [
    {
     "data": {
      "text/plain": [
       "dict_keys([1, 2, 3, 4, 5, 6, 7, 8, 9, 10])"
      ]
     },
     "execution_count": 227,
     "metadata": {},
     "output_type": "execute_result"
    }
   ],
   "source": [
    "d22.keys()"
   ]
  },
  {
   "cell_type": "code",
   "execution_count": 230,
   "id": "d61718d9-ac62-4111-be27-a177c3816844",
   "metadata": {},
   "outputs": [
    {
     "name": "stdout",
     "output_type": "stream",
     "text": [
      "0.3010299956639812\n",
      "0.6020599913279624\n",
      "0.7781512503836436\n",
      "0.9030899869919435\n",
      "1.0\n"
     ]
    }
   ],
   "source": [
    "for i in d22.keys():\n",
    "    if i%2==0:\n",
    "        print(d22[i])"
   ]
  },
  {
   "cell_type": "markdown",
   "id": "08003758-6942-44b9-9ef3-26eb0f029107",
   "metadata": {},
   "source": [
    "# Quiz"
   ]
  },
  {
   "cell_type": "code",
   "execution_count": 231,
   "id": "4e515b28-6ee4-442f-b386-1710856bb975",
   "metadata": {},
   "outputs": [
    {
     "name": "stdout",
     "output_type": "stream",
     "text": [
      "400\n",
      "(200, 300, 400)\n"
     ]
    }
   ],
   "source": [
    "atuple = (100, 200, 300, 400, 500)\n",
    "\n",
    "print(atuple[-2])\n",
    "\n",
    "print(atuple[-4:-1])"
   ]
  },
  {
   "cell_type": "code",
   "execution_count": 241,
   "id": "a937d5dd-e652-44d6-948e-10616063c314",
   "metadata": {},
   "outputs": [
    {
     "name": "stdout",
     "output_type": "stream",
     "text": [
      "(100, 100)\n"
     ]
    }
   ],
   "source": [
    "atuple = (100,)\n",
    "\n",
    "print(atuple*2)"
   ]
  },
  {
   "cell_type": "code",
   "execution_count": 243,
   "id": "e4525cac-88d7-42ab-a7f6-259286d1bf8e",
   "metadata": {},
   "outputs": [
    {
     "data": {
      "text/plain": [
       "True"
      ]
     },
     "execution_count": 243,
     "metadata": {},
     "output_type": "execute_result"
    }
   ],
   "source": [
    "dict1 = {\"key1\":1, \"key2\":2}\n",
    "\n",
    "dict2 = {\"key2\":2, \"key1\":1}\n",
    "\n",
    "dict1 == dict2"
   ]
  },
  {
   "cell_type": "code",
   "execution_count": 244,
   "id": "7d2524ad-3398-49b6-97d1-e5edaf7e1743",
   "metadata": {},
   "outputs": [
    {
     "name": "stdout",
     "output_type": "stream",
     "text": [
      "True\n"
     ]
    }
   ],
   "source": [
    "dict1 = {\"key1\":1, \"key2\":2}\n",
    "\n",
    "dict2 = {\"key2\":2, \"key1\":1}\n",
    "\n",
    "print(dict1 == dict2)"
   ]
  },
  {
   "cell_type": "code",
   "execution_count": 245,
   "id": "3b557636-315c-4d6f-bcdc-6f869b0b48d7",
   "metadata": {},
   "outputs": [
    {
     "ename": "NameError",
     "evalue": "name 'set1' is not defined",
     "output_type": "error",
     "traceback": [
      "\u001b[0;31m---------------------------------------------------------------------------\u001b[0m",
      "\u001b[0;31mNameError\u001b[0m                                 Traceback (most recent call last)",
      "Cell \u001b[0;32mIn[245], line 1\u001b[0m\n\u001b[0;32m----> 1\u001b[0m set2 \u001b[38;5;241m=\u001b[39m \u001b[43mset1\u001b[49m\u001b[38;5;241m.\u001b[39mcopy()\n\u001b[1;32m      3\u001b[0m \u001b[38;5;66;03m## set2 = set(set1)\u001b[39;00m\n\u001b[1;32m      4\u001b[0m \u001b[38;5;66;03m##set2.update(set1)\u001b[39;00m\n\u001b[1;32m      5\u001b[0m \n\u001b[1;32m      6\u001b[0m \u001b[38;5;66;03m##set2 = set1\u001b[39;00m\n",
      "\u001b[0;31mNameError\u001b[0m: name 'set1' is not defined"
     ]
    }
   ],
   "source": [
    "set2 = set1.copy()\n",
    "\n",
    "## set2 = set(set1)\n",
    "##set2.update(set1)\n",
    "\n",
    "##set2 = set1"
   ]
  },
  {
   "cell_type": "code",
   "execution_count": 264,
   "id": "a70cb28d-1e4e-49ad-ab90-35616c677313",
   "metadata": {},
   "outputs": [],
   "source": [
    "set1={1,2,\"as\"}\n",
    "set2={1,1111,\"Pravesh\"}"
   ]
  },
  {
   "cell_type": "code",
   "execution_count": 248,
   "id": "ac2563bd-d664-49ba-a9c0-ee2014351f7d",
   "metadata": {},
   "outputs": [],
   "source": [
    "set2 = set1.copy()"
   ]
  },
  {
   "cell_type": "code",
   "execution_count": 249,
   "id": "9b27af5d-99c5-43eb-bbbd-eef14cdcac2a",
   "metadata": {},
   "outputs": [
    {
     "data": {
      "text/plain": [
       "{1, 2, 'as'}"
      ]
     },
     "execution_count": 249,
     "metadata": {},
     "output_type": "execute_result"
    }
   ],
   "source": [
    "set2"
   ]
  },
  {
   "cell_type": "code",
   "execution_count": 250,
   "id": "58aa66cf-e36b-47b4-a2a3-5907d6208193",
   "metadata": {},
   "outputs": [
    {
     "data": {
      "text/plain": [
       "{1, 2, 'as'}"
      ]
     },
     "execution_count": 250,
     "metadata": {},
     "output_type": "execute_result"
    }
   ],
   "source": [
    "set1"
   ]
  },
  {
   "cell_type": "code",
   "execution_count": 253,
   "id": "38cb314f-5250-4bbc-b6e0-738f7e1aa8c3",
   "metadata": {},
   "outputs": [],
   "source": [
    "set2 = set(set1)\n",
    "\n"
   ]
  },
  {
   "cell_type": "code",
   "execution_count": 254,
   "id": "989b48f5-b1dd-4f0d-8005-c43ff2207b1d",
   "metadata": {},
   "outputs": [
    {
     "data": {
      "text/plain": [
       "{1, 2, 'as'}"
      ]
     },
     "execution_count": 254,
     "metadata": {},
     "output_type": "execute_result"
    }
   ],
   "source": [
    "set2"
   ]
  },
  {
   "cell_type": "code",
   "execution_count": 257,
   "id": "f3db319d-da2b-4faa-b44d-177e67301468",
   "metadata": {},
   "outputs": [],
   "source": [
    "set2.update(set1)"
   ]
  },
  {
   "cell_type": "code",
   "execution_count": 258,
   "id": "6897dff6-17f4-4c38-8363-870d6e4ceb87",
   "metadata": {},
   "outputs": [
    {
     "data": {
      "text/plain": [
       "{1, 1111, 2, 'Pravesh', 'as'}"
      ]
     },
     "execution_count": 258,
     "metadata": {},
     "output_type": "execute_result"
    }
   ],
   "source": [
    "set2"
   ]
  },
  {
   "cell_type": "code",
   "execution_count": 265,
   "id": "cdd2d190-ca07-49e4-9c69-024828617ca0",
   "metadata": {},
   "outputs": [],
   "source": [
    "set2=set1"
   ]
  },
  {
   "cell_type": "code",
   "execution_count": 266,
   "id": "ece302c0-144d-4756-9aec-24695b1f697a",
   "metadata": {},
   "outputs": [
    {
     "data": {
      "text/plain": [
       "{1, 2, 'as'}"
      ]
     },
     "execution_count": 266,
     "metadata": {},
     "output_type": "execute_result"
    }
   ],
   "source": [
    "set2"
   ]
  },
  {
   "cell_type": "code",
   "execution_count": 267,
   "id": "de704f33-186c-4f86-94db-737f7b8fb654",
   "metadata": {},
   "outputs": [
    {
     "name": "stdout",
     "output_type": "stream",
     "text": [
      "{'Blue', 'Pink'}\n"
     ]
    }
   ],
   "source": [
    "set1 = {\"Yellow\", \"Orange\", \"Black\"}\n",
    "\n",
    "set2 = {\"Orange\", \"Blue\", \"Pink\"}\n",
    "\n",
    "set3 = set2.difference(set1)\n",
    "\n",
    "print(set3)"
   ]
  },
  {
   "cell_type": "code",
   "execution_count": 270,
   "id": "51edb241-0a0f-4c69-91de-96c6c97d7c2f",
   "metadata": {},
   "outputs": [
    {
     "data": {
      "text/plain": [
       "tuple"
      ]
     },
     "execution_count": 270,
     "metadata": {},
     "output_type": "execute_result"
    }
   ],
   "source": [
    "atuple = (\"Ora\",1)\n",
    "type(atuple)"
   ]
  },
  {
   "cell_type": "code",
   "execution_count": 271,
   "id": "104efda3-06a7-48e0-b1d3-d42f896a90b0",
   "metadata": {},
   "outputs": [
    {
     "data": {
      "text/plain": [
       "str"
      ]
     },
     "execution_count": 271,
     "metadata": {},
     "output_type": "execute_result"
    }
   ],
   "source": [
    "atuple = (\"Orange\")\n",
    "\n",
    "type(atuple)"
   ]
  },
  {
   "cell_type": "code",
   "execution_count": null,
   "id": "1fdb39c5-beac-49da-8c77-7ad332e2d819",
   "metadata": {},
   "outputs": [],
   "source": []
  }
 ],
 "metadata": {
  "kernelspec": {
   "display_name": "Python 3 (ipykernel)",
   "language": "python",
   "name": "python3"
  },
  "language_info": {
   "codemirror_mode": {
    "name": "ipython",
    "version": 3
   },
   "file_extension": ".py",
   "mimetype": "text/x-python",
   "name": "python",
   "nbconvert_exporter": "python",
   "pygments_lexer": "ipython3",
   "version": "3.10.8"
  }
 },
 "nbformat": 4,
 "nbformat_minor": 5
}
