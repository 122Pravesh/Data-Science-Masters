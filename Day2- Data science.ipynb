{
 "cells": [
  {
   "cell_type": "code",
   "execution_count": 1,
   "id": "f99c3f04-5415-43ac-adbe-82ada8eaf8e4",
   "metadata": {},
   "outputs": [],
   "source": [
    "a=10"
   ]
  },
  {
   "cell_type": "code",
   "execution_count": 2,
   "id": "85fc74d1-6ccd-4a17-9904-aba77c7f2bd2",
   "metadata": {},
   "outputs": [
    {
     "data": {
      "text/plain": [
       "10"
      ]
     },
     "execution_count": 2,
     "metadata": {},
     "output_type": "execute_result"
    }
   ],
   "source": [
    "a"
   ]
  },
  {
   "cell_type": "code",
   "execution_count": 3,
   "id": "a81be1ff-228c-4d20-915d-4d61ed2127bc",
   "metadata": {},
   "outputs": [
    {
     "name": "stdout",
     "output_type": "stream",
     "text": [
      "hello world\n"
     ]
    }
   ],
   "source": [
    "print(\"hello world\")"
   ]
  },
  {
   "cell_type": "code",
   "execution_count": 7,
   "id": "bdbf04be-81b7-4e3c-ac42-a0d454e3c761",
   "metadata": {},
   "outputs": [
    {
     "name": "stdout",
     "output_type": "stream",
     "text": [
      "1 23\n"
     ]
    }
   ],
   "source": [
    "print(123)"
   ]
  },
  {
   "cell_type": "code",
   "execution_count": 5,
   "id": "26dd77a3-781f-484a-a618-74a45165ba95",
   "metadata": {},
   "outputs": [
    {
     "name": "stdout",
     "output_type": "stream",
     "text": [
      "my age is: 32\n"
     ]
    }
   ],
   "source": [
    "age=32\n",
    "print(\"my age is:\",age)"
   ]
  },
  {
   "cell_type": "code",
   "execution_count": 6,
   "id": "4c18b884-0463-4243-b71f-05d69204d19a",
   "metadata": {},
   "outputs": [
    {
     "name": "stdout",
     "output_type": "stream",
     "text": [
      "my age is:32\n"
     ]
    }
   ],
   "source": [
    "### f string used for formatting purpose\n",
    "print(f\"my age is:{age}\")"
   ]
  },
  {
   "cell_type": "code",
   "execution_count": 11,
   "id": "fd18cb38-736a-4b36-992c-a7b242feebf9",
   "metadata": {},
   "outputs": [
    {
     "name": "stdout",
     "output_type": "stream",
     "text": [
      "My name is krish and age is 32\n"
     ]
    }
   ],
   "source": [
    "## format() \n",
    "name=\"krish\"\n",
    "age=32\n",
    "print(\"My name is {} and age is {}\".format(name,age))"
   ]
  },
  {
   "cell_type": "code",
   "execution_count": 12,
   "id": "880973ec-0ccb-4927-ab63-8ece241e1641",
   "metadata": {},
   "outputs": [
    {
     "name": "stdout",
     "output_type": "stream",
     "text": [
      "My name is 32 and age is krish\n"
     ]
    }
   ],
   "source": [
    "print(\"My name is {} and age is {}\".format(age,name))"
   ]
  },
  {
   "cell_type": "code",
   "execution_count": 13,
   "id": "4c1e0009-6212-4ad0-bb2d-4c5a0c323fce",
   "metadata": {},
   "outputs": [
    {
     "name": "stdout",
     "output_type": "stream",
     "text": [
      "My name is krish and age is 32\n"
     ]
    }
   ],
   "source": [
    "### place holder \n",
    "print(\"My name is {firstname} and age is {firstage}\".format(firstname=name,firstage=age))"
   ]
  },
  {
   "cell_type": "code",
   "execution_count": 15,
   "id": "1d333e97-35b4-4d14-a3a5-b7b16401fa65",
   "metadata": {},
   "outputs": [
    {
     "name": "stdout",
     "output_type": "stream",
     "text": [
      "my age is 32 and i have completed: my degree of BE with the name of Pravesh Kumar \n"
     ]
    }
   ],
   "source": [
    "name=\"Pravesh Kumar\"\n",
    "age=32\n",
    "degree=\"BE\"\n",
    "print(f\"my age is {age} and i have completed: my degree of {degree} with the name of {name} \")"
   ]
  },
  {
   "cell_type": "code",
   "execution_count": 17,
   "id": "d2daf613-b791-4310-a1ef-143902316fe3",
   "metadata": {},
   "outputs": [
    {
     "name": "stdout",
     "output_type": "stream",
     "text": [
      "my age is 32 and i have completed: my degree BE with the name of Pravesh Kumar\n"
     ]
    }
   ],
   "source": [
    "print(\"my age is {} and i have completed: my degree {} with the name of {}\".format(age,degree,name))"
   ]
  },
  {
   "cell_type": "markdown",
   "id": "52e1ff8c-c6de-4f1a-b11a-c873945eabb6",
   "metadata": {},
   "source": [
    "## Control Flow\n",
    "### Decision making statments"
   ]
  },
  {
   "cell_type": "code",
   "execution_count": 31,
   "id": "68b69fe9-622e-4f0a-a9e2-0827f3fbcdf3",
   "metadata": {},
   "outputs": [
    {
     "name": "stdout",
     "output_type": "stream",
     "text": [
      "you are eligible to vote\n"
     ]
    }
   ],
   "source": [
    "# IF stmnt\n",
    "age=24\n",
    "if age>= 18:\n",
    "    print(\"you are eligible to vote\")"
   ]
  },
  {
   "cell_type": "code",
   "execution_count": 20,
   "id": "3a5d4d71-4df1-401b-ba01-6e70a4b37205",
   "metadata": {},
   "outputs": [
    {
     "name": "stdin",
     "output_type": "stream",
     "text": [
      " Pravesh Yadav\n"
     ]
    },
    {
     "data": {
      "text/plain": [
       "'Pravesh Yadav'"
      ]
     },
     "execution_count": 20,
     "metadata": {},
     "output_type": "execute_result"
    }
   ],
   "source": [
    "input()"
   ]
  },
  {
   "cell_type": "code",
   "execution_count": 22,
   "id": "8b86a30a-3145-4e53-b575-0b53edc9cd99",
   "metadata": {},
   "outputs": [
    {
     "name": "stdin",
     "output_type": "stream",
     "text": [
      "Enter the name Engineer\n"
     ]
    },
    {
     "data": {
      "text/plain": [
       "'Engineer'"
      ]
     },
     "execution_count": 22,
     "metadata": {},
     "output_type": "execute_result"
    }
   ],
   "source": [
    "name = input(\"Enter the name\")\n",
    "name"
   ]
  },
  {
   "cell_type": "code",
   "execution_count": 23,
   "id": "8e17aab0-3a21-4830-a6c6-4736971c4808",
   "metadata": {},
   "outputs": [
    {
     "data": {
      "text/plain": [
       "'Engineer'"
      ]
     },
     "execution_count": 23,
     "metadata": {},
     "output_type": "execute_result"
    }
   ],
   "source": [
    "name"
   ]
  },
  {
   "cell_type": "code",
   "execution_count": 11,
   "id": "b549333e-5ebf-43aa-94a2-15bda9ab23c2",
   "metadata": {},
   "outputs": [
    {
     "name": "stdin",
     "output_type": "stream",
     "text": [
      "Enter your age 3\n"
     ]
    }
   ],
   "source": [
    "age=int(input(\"Enter your age\"))"
   ]
  },
  {
   "cell_type": "code",
   "execution_count": 25,
   "id": "dbde9ff3-1217-4fbd-b16e-04116f837062",
   "metadata": {},
   "outputs": [
    {
     "data": {
      "text/plain": [
       "32"
      ]
     },
     "execution_count": 25,
     "metadata": {},
     "output_type": "execute_result"
    }
   ],
   "source": [
    "age\n"
   ]
  },
  {
   "cell_type": "code",
   "execution_count": 30,
   "id": "3d14402a-3d68-41fc-ae8a-841c4f7fa765",
   "metadata": {},
   "outputs": [
    {
     "name": "stdin",
     "output_type": "stream",
     "text": [
      "Enter your age: 55\n"
     ]
    }
   ],
   "source": [
    "## Task\n",
    "## Take a input of age\n",
    "## chevk weather age>=18 and age <=45\n",
    "## display a message you are young blood\n",
    "age =int(input(\"Enter your age:\"))\n",
    "if age>=18 and age<=45:\n",
    "    print(\"you are young blood\")"
   ]
  },
  {
   "cell_type": "markdown",
   "id": "25f9e6b3-2321-4f84-ba2a-c0b0987eecdb",
   "metadata": {},
   "source": [
    "## if else statments\n"
   ]
  },
  {
   "cell_type": "code",
   "execution_count": 33,
   "id": "7055a027-73e0-4053-a688-ca271d9b1758",
   "metadata": {},
   "outputs": [
    {
     "name": "stdin",
     "output_type": "stream",
     "text": [
      "Enter your age: 55\n"
     ]
    },
    {
     "name": "stdout",
     "output_type": "stream",
     "text": [
      "your application is rejected\n"
     ]
    }
   ],
   "source": [
    "## Task\n",
    "## Take a input of age\n",
    "## chevk weather age>=18 and age <=45\n",
    "## display a message you are young blood\n",
    "age =int(input(\"Enter your age:\"))\n",
    "if age>=18 and age<=45:\n",
    "    print(\"you are young blood\")\n",
    "else:\n",
    "    print('your application is rejected')"
   ]
  },
  {
   "cell_type": "code",
   "execution_count": null,
   "id": "c14d19b3-40aa-4b85-8848-b8f23efe2b1e",
   "metadata": {},
   "outputs": [],
   "source": [
    "## mall - input the product price\n",
    "## product >1000rs 20% off\n",
    "## product <=1000rs 30% off\n",
    "### print the poroduct price"
   ]
  },
  {
   "cell_type": "code",
   "execution_count": 36,
   "id": "5635c6f5-1fa1-413d-801f-e5d7589a84dc",
   "metadata": {},
   "outputs": [
    {
     "name": "stdin",
     "output_type": "stream",
     "text": [
      "Enter the product price 5000\n"
     ]
    },
    {
     "name": "stdout",
     "output_type": "stream",
     "text": [
      "product price is :4000.0\n"
     ]
    }
   ],
   "source": [
    "product_price= int(input(\"Enter the product price\"))\n",
    "if product_price>1000 :\n",
    "    print(\"product price is :{}\".format(product_price*0.8))\n",
    "else:\n",
    "    print(\"the price of product is :{}\".format(product_price*0.7))  "
   ]
  },
  {
   "cell_type": "code",
   "execution_count": null,
   "id": "1b8402a9-7a8a-4d5e-b942-1cea3011a54e",
   "metadata": {},
   "outputs": [],
   "source": [
    "## mall - input the product price\n",
    "## product >3000rs 20% off\n",
    "## product >=2000rs and <=3000 30% off\n",
    "## product 0 and <=2000 40% off\n",
    "### print the poroduct price"
   ]
  },
  {
   "cell_type": "code",
   "execution_count": 8,
   "id": "251cae2f-0d5d-4766-8d0e-0b9b6d6e0904",
   "metadata": {},
   "outputs": [
    {
     "name": "stdin",
     "output_type": "stream",
     "text": [
      "Enter the product price 1\n"
     ]
    },
    {
     "name": "stdout",
     "output_type": "stream",
     "text": [
      "the price of product is :0.7\n"
     ]
    }
   ],
   "source": [
    "product_price= int(input(\"Enter the product price\"))\n",
    "if product_price>3000 :\n",
    "    print(\"product price is :{}\".format(product_price*0.8))\n",
    "elif product_price>=2000 and product_price<=3000:\n",
    "    print(\"product price is :{}\".format(product_price*0.7))\n",
    "else:\n",
    "    print(\"the price of product is :{}\".format(product_price*0.7))  "
   ]
  },
  {
   "cell_type": "code",
   "execution_count": null,
   "id": "d78e083a-d0f8-4668-a635-d362402e94a7",
   "metadata": {},
   "outputs": [],
   "source": [
    "## mall - input the product price\n",
    "## product >3000rs 20% off\n",
    "## product price == 4000 you get a trip to go delhi\n",
    "## product >=2000rs and <=3000 30% off\n",
    "## price== 2999 you will get additional gift\n",
    "## product 100rs and <=2000 40% off\n",
    "### print the poroduct price"
   ]
  },
  {
   "cell_type": "code",
   "execution_count": 10,
   "id": "a3384c23-9999-4d55-8741-b8bc4d57731e",
   "metadata": {},
   "outputs": [
    {
     "name": "stdin",
     "output_type": "stream",
     "text": [
      "Enter the product price 2\n"
     ]
    },
    {
     "name": "stdout",
     "output_type": "stream",
     "text": [
      "lets take a tea\n"
     ]
    }
   ],
   "source": [
    "product_price=int(input(\"Enter the product price\"))\n",
    "if product_price>3000:\n",
    "    if product_price== 4000:\n",
    "        print(\"Congratulations you got a trip to delhi\")\n",
    "    print(f\"the price of the product is{product_price*0.8}\")\n",
    "elif product_price>=2000 and product_price<=3000:\n",
    "    ## nested if - if inside if\n",
    "    if product_price==2999:\n",
    "        print(\"congratulations you get an additional gift\")\n",
    "    print(f\"the product price is {product_price*0.7}\")\n",
    "elif product_price>100 and product_price<2000:\n",
    "    print(f\"the price of product is{product_price*0.6}\")\n",
    "else:\n",
    "    print(\"lets take a tea\")"
   ]
  },
  {
   "cell_type": "markdown",
   "id": "f16d905a-cc31-4078-81ef-5368fdaf3a7d",
   "metadata": {},
   "source": [
    "# Single Statement\n",
    "val=int(input(\"Enter the number\"))\n",
    "if(val<=999):print(\"value is less than equal to 999\")\n",
    "else:\n",
    "    print(\"Go home\")\n",
    "    "
   ]
  },
  {
   "cell_type": "markdown",
   "id": "8fc56bb4-d9cb-4526-95a2-7342ba23e632",
   "metadata": {},
   "source": [
    "## loops statements\n",
    "1. while loop\n",
    "2. for\n",
    "3. nested loops\n",
    "4. loop controls(break,continue,pass)"
   ]
  },
  {
   "cell_type": "code",
   "execution_count": 19,
   "id": "cb2b1f27-f22f-4b62-be64-c894713ba19e",
   "metadata": {},
   "outputs": [
    {
     "name": "stdout",
     "output_type": "stream",
     "text": [
      "26\n",
      "27\n",
      "28\n",
      "29\n",
      "30\n",
      "31\n",
      "32\n",
      "33\n",
      "34\n",
      "35\n",
      "36\n",
      "37\n",
      "38\n",
      "39\n",
      "40\n",
      "41\n",
      "42\n",
      "43\n",
      "44\n",
      "45\n",
      "46\n",
      "47\n",
      "48\n",
      "49\n",
      "50\n",
      "51\n",
      "52\n",
      "53\n",
      "54\n",
      "55\n",
      "56\n",
      "57\n",
      "58\n",
      "59\n",
      "60\n",
      "61\n",
      "its time for retirment\n"
     ]
    }
   ],
   "source": [
    "# while loop while-else\n",
    "joining_age=25\n",
    "while joining_age<=60:\n",
    "    joining_age=joining_age+1\n",
    "    print(joining_age)\n",
    "else:\n",
    "    print(\"its time for retirment\")"
   ]
  },
  {
   "cell_type": "code",
   "execution_count": 29,
   "id": "fa96ad6d-bef3-4b3a-be1c-659222ec7d9a",
   "metadata": {},
   "outputs": [
    {
     "name": "stdout",
     "output_type": "stream",
     "text": [
      "1000\n",
      "900\n",
      "800\n",
      "700\n",
      "600\n",
      "500\n",
      "400\n",
      "300\n",
      "200\n",
      "100\n",
      "Put more money \n"
     ]
    }
   ],
   "source": [
    "## ATM machine with 1000 rs\n",
    "total_amount=1000\n",
    "while total_amount!=0:\n",
    "    print(total_amount)\n",
    "    total_amount=total_amount-100\n",
    "else:\n",
    "    print(\"Put more money \")"
   ]
  },
  {
   "cell_type": "markdown",
   "id": "17e5a4c5-c153-4cb7-8992-86f580c602e3",
   "metadata": {},
   "source": [
    "## for loops"
   ]
  },
  {
   "cell_type": "code",
   "execution_count": 3,
   "id": "a9205c25-2351-4e7d-90cd-f63d9541c4be",
   "metadata": {},
   "outputs": [],
   "source": [
    "st=[\"Krish\",1,2,3,4,\"apple\",\"Banana\"] ## list "
   ]
  },
  {
   "cell_type": "code",
   "execution_count": 4,
   "id": "7e529c5a-5398-4c2e-a4ac-53f9ab27d549",
   "metadata": {},
   "outputs": [
    {
     "data": {
      "text/plain": [
       "list"
      ]
     },
     "execution_count": 4,
     "metadata": {},
     "output_type": "execute_result"
    }
   ],
   "source": [
    "type(st)"
   ]
  },
  {
   "cell_type": "code",
   "execution_count": 5,
   "id": "a36da679-7f9a-4a47-bfff-ef532ccdd72c",
   "metadata": {},
   "outputs": [
    {
     "data": {
      "text/plain": [
       "['Krish', 1, 2, 3, 4, 'apple', 'Banana']"
      ]
     },
     "execution_count": 5,
     "metadata": {},
     "output_type": "execute_result"
    }
   ],
   "source": [
    "st"
   ]
  },
  {
   "cell_type": "code",
   "execution_count": 7,
   "id": "5dc88a99-43ee-474e-9ed9-4f4fc2aba3a2",
   "metadata": {},
   "outputs": [
    {
     "name": "stdout",
     "output_type": "stream",
     "text": [
      "Krish\n",
      "1\n",
      "2\n",
      "3\n",
      "4\n",
      "apple\n",
      "Banana\n"
     ]
    }
   ],
   "source": [
    "for x in st:\n",
    "    print(x)"
   ]
  },
  {
   "cell_type": "code",
   "execution_count": 11,
   "id": "d8efecf3-8f0f-4264-878a-26077aca2fd7",
   "metadata": {},
   "outputs": [],
   "source": [
    "fruit_list=[\"Mango\",\"Cherry\",\"Apple\",\"Papaya\",\"Banana\"] ## basket of fruits"
   ]
  },
  {
   "cell_type": "code",
   "execution_count": 15,
   "id": "ee2b29ba-a799-48df-880e-5b198c2afca3",
   "metadata": {},
   "outputs": [
    {
     "name": "stdout",
     "output_type": "stream",
     "text": [
      "Mango Cherry The fruit is cherry\n",
      "Apple Papaya Banana "
     ]
    }
   ],
   "source": [
    "for a in fruit_list:\n",
    "    print(a,end=' ')\n",
    "    if a==\"Cherry\":\n",
    "        print(\"The fruit is cherry\")"
   ]
  },
  {
   "cell_type": "code",
   "execution_count": 1,
   "id": "e7ddd317-858f-4e41-8178-fbe5ed4fc30e",
   "metadata": {},
   "outputs": [
    {
     "name": "stdout",
     "output_type": "stream",
     "text": [
      "M\n",
      "a\n",
      "n\n",
      "g\n",
      "o\n"
     ]
    }
   ],
   "source": [
    "fruit='Mango'\n",
    "for x in fruit:    ## String is collection of element\n",
    "    print(x)"
   ]
  },
  {
   "cell_type": "code",
   "execution_count": 2,
   "id": "5bbebcc0-1b0c-44c8-bfb4-c701aac89cbd",
   "metadata": {},
   "outputs": [
    {
     "data": {
      "text/plain": [
       "'n'"
      ]
     },
     "execution_count": 2,
     "metadata": {},
     "output_type": "execute_result"
    }
   ],
   "source": [
    "fruit[2]"
   ]
  },
  {
   "cell_type": "code",
   "execution_count": 6,
   "id": "4d9d1fab-c798-43dd-9c32-705fc4e11303",
   "metadata": {},
   "outputs": [
    {
     "name": "stdout",
     "output_type": "stream",
     "text": [
      "1\n",
      "2\n",
      "3\n",
      "4\n",
      "5\n",
      "6\n",
      "7\n",
      "8\n",
      "9\n"
     ]
    }
   ],
   "source": [
    "for i in range(1, 10):    ### range \n",
    "    print(i)"
   ]
  },
  {
   "cell_type": "code",
   "execution_count": 5,
   "id": "bc2d301c-32c7-42db-bbbd-144ac1460512",
   "metadata": {},
   "outputs": [
    {
     "name": "stdout",
     "output_type": "stream",
     "text": [
      "1\n",
      "4\n",
      "7\n",
      "10\n",
      "13\n"
     ]
    }
   ],
   "source": [
    "for i in range(1,16,3):   ### 3rd parameter is step size.\n",
    "    print(i)"
   ]
  },
  {
   "cell_type": "code",
   "execution_count": 7,
   "id": "0d42adeb-b7ac-4e8c-aff1-a009e28e34f7",
   "metadata": {},
   "outputs": [
    {
     "name": "stdout",
     "output_type": "stream",
     "text": [
      "*\n",
      "**\n",
      "***\n",
      "****\n",
      "*****\n",
      "******\n",
      "*******\n"
     ]
    }
   ],
   "source": [
    "### Nested loops\n",
    "n=7\n",
    "for i in range(0,n):\n",
    "    ##print(end=\" \")\n",
    "    for j in range(0,i+1):\n",
    "        print(\"*\",end=\"\")\n",
    "    print(\"\\r\")   \n",
    "         "
   ]
  },
  {
   "cell_type": "code",
   "execution_count": null,
   "id": "a0ae9857-037f-49e9-8f5f-ca24d4941115",
   "metadata": {},
   "outputs": [],
   "source": []
  },
  {
   "cell_type": "code",
   "execution_count": 13,
   "id": "3d6e3853-0c0a-4b82-8d7f-21c45913a09c",
   "metadata": {},
   "outputs": [
    {
     "name": "stdout",
     "output_type": "stream",
     "text": [
      "*\n",
      "***\n",
      "*****\n",
      "*******\n",
      "*********\n",
      "***********\n",
      "*************\n"
     ]
    }
   ],
   "source": [
    "### Nested loops\n",
    "n=7\n",
    "for i in range(0,n):\n",
    "    ##print(end=\" \")\n",
    "    for j in range(0,2*i+1):\n",
    "        print(\"*\",end=\"\")\n",
    "    print(\"\\r\")   \n",
    "         "
   ]
  },
  {
   "cell_type": "code",
   "execution_count": null,
   "id": "1698eab9-7153-40b1-836b-db042a959bf9",
   "metadata": {},
   "outputs": [],
   "source": [
    "## loop controls\n",
    "## Break and Continue\n"
   ]
  },
  {
   "cell_type": "code",
   "execution_count": 2,
   "id": "4e9498b3-c0aa-43fd-8aec-7e8182255352",
   "metadata": {},
   "outputs": [],
   "source": [
    "fruit_list=[\"Mango\",\"Cherry\",\"Apple\",\"Papaya\",\"Banana\"] ## basket of fruits"
   ]
  },
  {
   "cell_type": "code",
   "execution_count": 3,
   "id": "06859ed6-2e26-4b97-86c2-dea736c76093",
   "metadata": {},
   "outputs": [
    {
     "name": "stdout",
     "output_type": "stream",
     "text": [
      "Mango\n",
      "Cherry\n",
      "The fruit is apple\n"
     ]
    }
   ],
   "source": [
    "## break- stop the loop\n",
    "for i in fruit_list:\n",
    "    if i==\"Apple\":\n",
    "        print(\"The fruit is apple\")\n",
    "        break\n",
    "    print(i)"
   ]
  },
  {
   "cell_type": "code",
   "execution_count": 4,
   "id": "c488e761-6dcc-4675-a13c-6695b41fae6b",
   "metadata": {},
   "outputs": [
    {
     "name": "stdout",
     "output_type": "stream",
     "text": [
      "Mango\n",
      "Cherry\n",
      "The fruit is apple\n",
      "Apple\n",
      "Papaya\n",
      "Banana\n"
     ]
    }
   ],
   "source": [
    "## pass- \n",
    "for i in fruit_list:\n",
    "    if i==\"Apple\":\n",
    "        print(\"The fruit is apple\")\n",
    "        pass\n",
    "    print(i)"
   ]
  },
  {
   "cell_type": "code",
   "execution_count": 6,
   "id": "60273dca-46ee-4b26-a8ee-2eee72a6ed19",
   "metadata": {},
   "outputs": [
    {
     "name": "stdout",
     "output_type": "stream",
     "text": [
      "Mango\n",
      "Cherry\n",
      "the fruit is apple\n",
      "Papaya\n",
      "Banana\n"
     ]
    }
   ],
   "source": [
    "## continue- skip the loop\n",
    "for i in fruit_list:\n",
    "    if i==\"Apple\":\n",
    "        print(\"the fruit is apple\")\n",
    "        continue\n",
    "    print(i)    "
   ]
  },
  {
   "cell_type": "code",
   "execution_count": null,
   "id": "d0efacb9-d915-4006-9f93-106f78d6797f",
   "metadata": {},
   "outputs": [],
   "source": []
  }
 ],
 "metadata": {
  "kernelspec": {
   "display_name": "Python 3 (ipykernel)",
   "language": "python",
   "name": "python3"
  },
  "language_info": {
   "codemirror_mode": {
    "name": "ipython",
    "version": 3
   },
   "file_extension": ".py",
   "mimetype": "text/x-python",
   "name": "python",
   "nbconvert_exporter": "python",
   "pygments_lexer": "ipython3",
   "version": "3.10.8"
  }
 },
 "nbformat": 4,
 "nbformat_minor": 5
}
