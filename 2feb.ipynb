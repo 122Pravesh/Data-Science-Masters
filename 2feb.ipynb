{
 "cells": [
  {
   "cell_type": "markdown",
   "id": "30765c2c-e87c-4156-b7b0-67dd57ad334a",
   "metadata": {},
   "source": [
    "## Q1. What are the characteristics of the tuples? Is tuple immutable?"
   ]
  },
  {
   "cell_type": "markdown",
   "id": "c4eeecb7-cff3-4815-b081-c8f3915e166e",
   "metadata": {},
   "source": [
    "####  Tuples are immutable. Hence they are primarily used to store data that doesn't change frequently. Any operation can store data in a tuple when you don't want it to change. \n",
    "#### Tuples are great to use if you want the data in your collection to be read-only, never to change, and always remain the same and constant.\n"
   ]
  },
  {
   "cell_type": "markdown",
   "id": "fbe59889-ad79-4c9d-8a1b-7d20cd6f6474",
   "metadata": {},
   "source": [
    "## Q2. What are the two tuple methods in python? Give an example of each method. Give a reason why tuples have only two in-built methods as compared to Lists."
   ]
  },
  {
   "cell_type": "markdown",
   "id": "7d48124a-3cd0-4c47-b239-813235083719",
   "metadata": {},
   "source": [
    "#### There are only two tuple methods count() and index() that a tuple object can call.tuples are immutable, you cannot change their content so it have only 2 methods."
   ]
  },
  {
   "cell_type": "markdown",
   "id": "54eb2b24-534b-4aed-93ec-0c056b85e5de",
   "metadata": {},
   "source": [
    "## Which collection datatypes in python do not allow duplicate items? Write a code using a set to remove duplicates from the given list.\n",
    "List = [1, 1, 1, 2, 1, 3, 1, 4, 2, 1, 2, 2, 2, 3, 2, 4, 3, 1, 3, 2, 3, 3, 3, 4, 4, 1, 4, 2, 4, 3, 4, 4]"
   ]
  },
  {
   "cell_type": "markdown",
   "id": "027acbf3-7056-42b9-ad7f-c29d75aa434b",
   "metadata": {},
   "source": [
    "#### set did'nt allow duplicates"
   ]
  },
  {
   "cell_type": "code",
   "execution_count": 4,
   "id": "f6bc08ad-bf57-44f7-8a85-01063dac895b",
   "metadata": {},
   "outputs": [
    {
     "data": {
      "text/plain": [
       "{1, 2, 3, 4}"
      ]
     },
     "execution_count": 4,
     "metadata": {},
     "output_type": "execute_result"
    }
   ],
   "source": [
    "List = [1, 1, 1, 2, 1, 3, 1, 4, 2, 1, 2, 2, 2, 3, 2, 4, 3, 1, 3, 2, 3, 3, 3, 4, 4, 1, 4, 2, 4, 3, 4, 4]\n",
    "set(List)"
   ]
  },
  {
   "cell_type": "markdown",
   "id": "b6f81057-e20f-4e69-b539-6ca0a7bba921",
   "metadata": {},
   "source": [
    "## Q4. Explain the difference between the union() and update() methods for a set. Give an example of each method."
   ]
  },
  {
   "cell_type": "markdown",
   "id": "7dafbec3-5e1f-421f-9729-25e1e35c9a1b",
   "metadata": {},
   "source": [
    "#### update() adds all missing elements to the set on which it is called whereas set. union() creates a new set. "
   ]
  },
  {
   "cell_type": "code",
   "execution_count": 12,
   "id": "fe4a66e2-90ba-4dfb-acdc-88d299cd423b",
   "metadata": {},
   "outputs": [],
   "source": [
    "s = {1, 2, 3}\n",
    "ss={66,44,33}\n"
   ]
  },
  {
   "cell_type": "code",
   "execution_count": 11,
   "id": "b378260b-813a-4c7a-a2a3-a61c06bfe738",
   "metadata": {},
   "outputs": [
    {
     "data": {
      "text/plain": [
       "{1, 2, 3, 33, 44, 66}"
      ]
     },
     "execution_count": 11,
     "metadata": {},
     "output_type": "execute_result"
    }
   ],
   "source": [
    "s.update(ss)\n",
    "s"
   ]
  },
  {
   "cell_type": "code",
   "execution_count": 14,
   "id": "53a7b101-a1c8-4758-b369-a247f92b26bb",
   "metadata": {},
   "outputs": [
    {
     "data": {
      "text/plain": [
       "{1, 2, 3, 33, 44, 66}"
      ]
     },
     "execution_count": 14,
     "metadata": {},
     "output_type": "execute_result"
    }
   ],
   "source": [
    "s.union(ss)\n"
   ]
  },
  {
   "cell_type": "code",
   "execution_count": 15,
   "id": "08004db0-0b87-4776-9856-00bb5c66905a",
   "metadata": {},
   "outputs": [
    {
     "data": {
      "text/plain": [
       "{1, 2, 3}"
      ]
     },
     "execution_count": 15,
     "metadata": {},
     "output_type": "execute_result"
    }
   ],
   "source": [
    "s"
   ]
  },
  {
   "cell_type": "markdown",
   "id": "d8d496f5-7727-4dd2-9f6b-a077bb524125",
   "metadata": {},
   "source": [
    "## Q5. What is a dictionary? Give an example. Also, state whether a dictionary is ordered or unordered."
   ]
  },
  {
   "cell_type": "markdown",
   "id": "1f922242-2966-480b-95d3-fb39b0674317",
   "metadata": {},
   "source": [
    "####  Dictionaries are used to store data values in key:value pairs. A dictionary is a collection which is ordered*, changeable and do not allow duplicates. As of Python version 3.7, dictionaries are ordered."
   ]
  },
  {
   "cell_type": "markdown",
   "id": "510fdfc0-54f7-40fc-89dd-e3d7fe60a0cc",
   "metadata": {},
   "source": [
    "#### e.g --->   Dictiuonary ={\"Pravesh\":\"Yadav\"}"
   ]
  },
  {
   "cell_type": "markdown",
   "id": "3c20db9e-d2e7-4c67-86bc-6c787d0ad65f",
   "metadata": {},
   "source": [
    "## Q6. Can we create a nested dictionary? If so, please give an example by creating a simple one-level nested dictionary."
   ]
  },
  {
   "cell_type": "markdown",
   "id": "20fe453b-fe70-4023-828e-68b286c905c6",
   "metadata": {},
   "source": [
    "#### yes we can create.\n",
    "#### e.g---->    d16={\"Key\":{\"Name\":\"Pravesh\",\"Class\":\"DSM\"}} "
   ]
  },
  {
   "cell_type": "markdown",
   "id": "c7765e37-df90-4278-9e8c-6689217efb3a",
   "metadata": {},
   "source": [
    "## Using setdefault() method, create key named topics in the given dictionary and also add the value of\n",
    "## the key as this list ['Python', 'Machine Learning’, 'Deep Learning']\n",
    "## dict1 = {'language' : 'Python', 'course': 'Data Science Masters'}"
   ]
  },
  {
   "cell_type": "code",
   "execution_count": 24,
   "id": "c0a81e67-247f-4306-ac0a-9055a6fb2463",
   "metadata": {},
   "outputs": [
    {
     "data": {
      "text/plain": [
       "['Python', 'Machine Learning', 'Deep Learning']"
      ]
     },
     "execution_count": 24,
     "metadata": {},
     "output_type": "execute_result"
    }
   ],
   "source": [
    "dict1 = {'language' : 'Python', 'course': 'Data Science Masters'}\n",
    "dict1.setdefault('topics',[\"Python\", \"Machine Learning\", \"Deep Learning\"])"
   ]
  },
  {
   "cell_type": "code",
   "execution_count": 25,
   "id": "11225044-5b21-4150-857f-0b53fd71c292",
   "metadata": {},
   "outputs": [
    {
     "data": {
      "text/plain": [
       "{'language': 'Python',\n",
       " 'course': 'Data Science Masters',\n",
       " 'topics': ['Python', 'Machine Learning', 'Deep Learning']}"
      ]
     },
     "execution_count": 25,
     "metadata": {},
     "output_type": "execute_result"
    }
   ],
   "source": [
    "dict1"
   ]
  },
  {
   "cell_type": "markdown",
   "id": "1a427cb6-d173-481c-8f0c-4149032553f7",
   "metadata": {},
   "source": [
    "## Q8. What are the three view objects in dictionaries? Use the three in-built methods in python to display these three view objects for the given dictionary.    \n",
    "### dict1 = {'Sport': 'Cricket' , 'Teams': ['India', 'Australia', 'England', 'South Africa', 'Sri Lanka', 'New Zealand']}"
   ]
  },
  {
   "cell_type": "code",
   "execution_count": null,
   "id": "ab192f2a-21a4-41fc-828f-828f2e1c5afd",
   "metadata": {},
   "outputs": [],
   "source": []
  },
  {
   "cell_type": "code",
   "execution_count": 27,
   "id": "bcb5bfb9-5b0f-42ed-9782-c64fd60cd106",
   "metadata": {},
   "outputs": [
    {
     "data": {
      "text/plain": [
       "dict_keys(['Sport', 'Teams'])"
      ]
     },
     "execution_count": 27,
     "metadata": {},
     "output_type": "execute_result"
    }
   ],
   "source": [
    "#### The main view objects of dictionary in python are keys, values and items\n",
    "dict1 = {'Sport': 'Cricket' , 'Teams': ['India', 'Australia', 'England', 'South Africa', 'Sri Lanka', 'New Zealand']}\n",
    "dict1.keys()"
   ]
  },
  {
   "cell_type": "code",
   "execution_count": 31,
   "id": "2bc03fe5-9b98-427d-9de1-f2842d0c4965",
   "metadata": {},
   "outputs": [
    {
     "data": {
      "text/plain": [
       "dict_values(['Cricket', ['India', 'Australia', 'England', 'South Africa', 'Sri Lanka', 'New Zealand']])"
      ]
     },
     "execution_count": 31,
     "metadata": {},
     "output_type": "execute_result"
    }
   ],
   "source": [
    "dict1.values()"
   ]
  },
  {
   "cell_type": "code",
   "execution_count": 32,
   "id": "f173a855-8265-4b6f-986f-3f16e0ed8d81",
   "metadata": {},
   "outputs": [
    {
     "data": {
      "text/plain": [
       "dict_items([('Sport', 'Cricket'), ('Teams', ['India', 'Australia', 'England', 'South Africa', 'Sri Lanka', 'New Zealand'])])"
      ]
     },
     "execution_count": 32,
     "metadata": {},
     "output_type": "execute_result"
    }
   ],
   "source": [
    "dict1.items()"
   ]
  },
  {
   "cell_type": "code",
   "execution_count": null,
   "id": "6dc25299-3ba0-4bbc-b5de-cd8b95734f29",
   "metadata": {},
   "outputs": [],
   "source": []
  }
 ],
 "metadata": {
  "kernelspec": {
   "display_name": "Python 3 (ipykernel)",
   "language": "python",
   "name": "python3"
  },
  "language_info": {
   "codemirror_mode": {
    "name": "ipython",
    "version": 3
   },
   "file_extension": ".py",
   "mimetype": "text/x-python",
   "name": "python",
   "nbconvert_exporter": "python",
   "pygments_lexer": "ipython3",
   "version": "3.10.8"
  }
 },
 "nbformat": 4,
 "nbformat_minor": 5
}
