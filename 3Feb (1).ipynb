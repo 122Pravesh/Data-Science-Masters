{
 "cells": [
  {
   "cell_type": "markdown",
   "id": "37e407aa-139a-4d78-95f3-50ebc304cc28",
   "metadata": {},
   "source": [
    "## Q1. Which keyword is used to create a function? Create a function to return a list of odd numbers in the range of 1 to 25."
   ]
  },
  {
   "cell_type": "markdown",
   "id": "a03ada45-e99c-47c7-a75c-e6398301295b",
   "metadata": {},
   "source": [
    "#### The def keyword is used to create, (or define) a function."
   ]
  },
  {
   "cell_type": "code",
   "execution_count": 5,
   "id": "3ee8980f-b31d-4478-a47b-f6260092b7da",
   "metadata": {},
   "outputs": [],
   "source": [
    "def test():\n",
    "    ## n=int(input(\"Enter the range \"))\n",
    "    l=[]\n",
    "    for i in range(1,26):\n",
    "        if (i%2)!=0:\n",
    "            l.append(i)\n",
    "    return l        \n",
    "    "
   ]
  },
  {
   "cell_type": "markdown",
   "id": "48945b44-3bf0-4663-8a09-99965c4ca4b8",
   "metadata": {},
   "source": [
    "test()"
   ]
  },
  {
   "cell_type": "markdown",
   "id": "cb2e22c3-116b-4e11-9ae0-49a69388e85c",
   "metadata": {},
   "source": [
    "## Q2. Why *args and **kwargs is used in some functions? Create a function each for *args and **kwargs to demonstrate their use."
   ]
  },
  {
   "cell_type": "markdown",
   "id": "9e7897a9-d01d-4faa-81b7-83db88d51a63",
   "metadata": {},
   "source": [
    "#### *args allows us to pass a variable number of non-keyword arguments to a Python function. In the function, we should use an asterisk (*) before the parameter name to pass a variable number of arguments."
   ]
  },
  {
   "cell_type": "code",
   "execution_count": 7,
   "id": "20d5eca7-afd5-4145-bda2-12fdb4d6bcb9",
   "metadata": {},
   "outputs": [],
   "source": [
    "def add(*args):\n",
    "    print(args, type(args))"
   ]
  },
  {
   "cell_type": "code",
   "execution_count": 8,
   "id": "d6e5fdd9-3b00-440d-80a5-b69f3c2b1cd0",
   "metadata": {},
   "outputs": [
    {
     "name": "stdout",
     "output_type": "stream",
     "text": [
      "(1, 'Pravesh') <class 'tuple'>\n"
     ]
    }
   ],
   "source": [
    "add(1,\"Pravesh\")"
   ]
  },
  {
   "cell_type": "markdown",
   "id": "4ce10b7c-d8ae-484a-bf6d-902dd574a35c",
   "metadata": {},
   "source": [
    "#### **kwargs allows us to pass a variable number of keyword arguments to a Python function. In the function, we use the double-asterisk (**) before the parameter name to denote this type of argument"
   ]
  },
  {
   "cell_type": "code",
   "execution_count": 2,
   "id": "baca5b9b-b7dc-41e5-9f9a-dc49079fceec",
   "metadata": {},
   "outputs": [],
   "source": [
    "def total_fruits(**kwargs):\n",
    "    print(kwargs, type(kwargs))"
   ]
  },
  {
   "cell_type": "code",
   "execution_count": 3,
   "id": "c7e6e92d-91fa-4f28-974e-225d22c0a04b",
   "metadata": {},
   "outputs": [
    {
     "name": "stdout",
     "output_type": "stream",
     "text": [
      "{'banana': 5, 'mango': 7, 'apple': 8} <class 'dict'>\n"
     ]
    }
   ],
   "source": [
    "total_fruits(banana=5, mango=7, apple=8)"
   ]
  },
  {
   "cell_type": "markdown",
   "id": "5614b965-9937-4b5c-9ef7-3d73c7d120c8",
   "metadata": {},
   "source": [
    "## What is an iterator in python? Name the method used to initialise the iterator object and the method used for iteration. Use these methods to print the first five elements of the given list [2, 4, 6, 8, 10, 12, 14, 16,18, 20]."
   ]
  },
  {
   "cell_type": "markdown",
   "id": "f808b772-eb41-4760-8d83-096a1d31cdc0",
   "metadata": {},
   "source": [
    "#### An iterator is an object that contains a countable number of values.An iterator isobject that can be iterated upon, meaning that you can traverse through all the values.\n",
    "#### Technically, in Python, an iterator is an object which implements the iterator protocol, which consist of the methods __iter__() and __next__()."
   ]
  },
  {
   "cell_type": "markdown",
   "id": "e9ce7467-bd5a-4aa5-b077-3a9964ae27b8",
   "metadata": {},
   "source": [
    "### iter() and next()"
   ]
  },
  {
   "cell_type": "code",
   "execution_count": 1,
   "id": "7e188ce3-f4f4-4cd0-9a9f-469269f77201",
   "metadata": {},
   "outputs": [
    {
     "name": "stdout",
     "output_type": "stream",
     "text": [
      "apple\n",
      "banana\n",
      "cherry\n"
     ]
    }
   ],
   "source": [
    "mytuple = (\"apple\", \"banana\", \"cherry\")\n",
    "myit = iter(mytuple)\n",
    "\n",
    "print(next(myit))\n",
    "print(next(myit))\n",
    "print(next(myit))"
   ]
  },
  {
   "cell_type": "code",
   "execution_count": 4,
   "id": "7519646d-9c55-456f-8f03-48747856acf1",
   "metadata": {},
   "outputs": [
    {
     "name": "stdout",
     "output_type": "stream",
     "text": [
      "2 4 6 8\n"
     ]
    }
   ],
   "source": [
    "l=[2, 4, 6, 8, 10, 12, 14, 16,18, 20]\n",
    "ite=iter(l)\n",
    "\n",
    "print(next(ite),end=\" \")\n",
    "print(next(ite),end=\" \")\n",
    "print(next(ite),end=\" \")\n",
    "print(next(ite))"
   ]
  },
  {
   "cell_type": "markdown",
   "id": "ffe6a042-e4fb-481f-b779-a10a938e13e3",
   "metadata": {},
   "source": [
    "## Q4. What is a generator function in python? Why yield keyword is used? Give an example of a generator function."
   ]
  },
  {
   "cell_type": "markdown",
   "id": "c2b37efc-948d-440b-bad3-509a5364ac46",
   "metadata": {},
   "source": [
    "#### In Python, a generator is a function that returns an iterator that produces a sequence of values when iterated over. Generators are useful when we want to produce a large sequence of values, but we don't want to store all of them in memory at once."
   ]
  },
  {
   "cell_type": "markdown",
   "id": "7f5d6943-97ac-4f5b-84f3-669324682025",
   "metadata": {},
   "source": [
    "#### Image result for what does yield do in python. The Yield keyword in Python is similar to a return statement used for returning values or objects in Python. However, there is a slight difference. The yield statement returns a generator object to the one who calls the function which contains yield, instead of simply returning a value"
   ]
  },
  {
   "cell_type": "code",
   "execution_count": 1,
   "id": "60f72a09-3658-469f-82de-d54af76f3645",
   "metadata": {},
   "outputs": [],
   "source": [
    "def test_fib(n):\n",
    "   ##  n=int(input(\"Enter the no of terms: \"))\n",
    "    a,b=0,1\n",
    "    for i in range(n):\n",
    "        yield a ### We should use yield when we want to iterate over a sequence, but don't want to store the entire sequence in memory.\n",
    "        a,b=b,a+b"
   ]
  },
  {
   "cell_type": "code",
   "execution_count": 2,
   "id": "ed8a3cb2-6210-4804-8f55-eb5bfda58695",
   "metadata": {},
   "outputs": [
    {
     "name": "stdout",
     "output_type": "stream",
     "text": [
      "0 1 1 2 3 5 8 13 21 34 "
     ]
    }
   ],
   "source": [
    "for i in test_fib(10):\n",
    "      print(i,end=\" \")"
   ]
  },
  {
   "cell_type": "markdown",
   "id": "7dd947cc-c1d1-4a26-9e83-892bcf636e53",
   "metadata": {},
   "source": [
    "## Q5. Create a generator function for prime numbers less than 1000. Use the next() method to print the first 20 prime numbers."
   ]
  },
  {
   "cell_type": "code",
   "execution_count": 1,
   "id": "3b1d2cc6-c9ce-433d-8ed4-4909ac6fe8f4",
   "metadata": {},
   "outputs": [],
   "source": [
    "def genprimes(limit): # derived from \n",
    "                      # Code by David Eppstein, UC Irvine, 28 Feb 2002\n",
    "    D = {}            # http://code.activestate.com/recipes/117119/\n",
    "    q = 2\n",
    "\n",
    "    while q <= limit:\n",
    "        if q not in D:\n",
    "            yield q\n",
    "            D[q * q] = [q]\n",
    "        else:\n",
    "            for p in D[q]:\n",
    "                D.setdefault(p + q, []).append(p)\n",
    "            del D[q]\n",
    "        q += 1"
   ]
  },
  {
   "cell_type": "code",
   "execution_count": 5,
   "id": "28fd20c2-416b-43af-8771-61f1bc85df88",
   "metadata": {},
   "outputs": [
    {
     "name": "stdout",
     "output_type": "stream",
     "text": [
      "[2, 3, 5, 7, 11, 13, 17, 19, 23, 29, 31, 37, 41, 43, 47, 53, 59, 61, 67, 71, 73, 79, 83, 89, 97]\n"
     ]
    }
   ],
   "source": [
    "\n",
    "p = genprimes(100)\n",
    "prms = [i for i in p]\n",
    "\n",
    "print(prms)"
   ]
  },
  {
   "cell_type": "code",
   "execution_count": null,
   "id": "5cd29b0c-6843-45c5-b22a-1a9f62497702",
   "metadata": {},
   "outputs": [],
   "source": []
  }
 ],
 "metadata": {
  "kernelspec": {
   "display_name": "Python 3 (ipykernel)",
   "language": "python",
   "name": "python3"
  },
  "language_info": {
   "codemirror_mode": {
    "name": "ipython",
    "version": 3
   },
   "file_extension": ".py",
   "mimetype": "text/x-python",
   "name": "python",
   "nbconvert_exporter": "python",
   "pygments_lexer": "ipython3",
   "version": "3.10.8"
  }
 },
 "nbformat": 4,
 "nbformat_minor": 5
}
