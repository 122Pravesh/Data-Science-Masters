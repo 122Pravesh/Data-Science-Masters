{
 "cells": [
  {
   "cell_type": "markdown",
   "id": "9819d79b-385b-4631-8351-11fae4631b5f",
   "metadata": {},
   "source": [
    "# OOPs"
   ]
  },
  {
   "cell_type": "code",
   "execution_count": 14,
   "id": "8b48daf2-0c64-481f-90bd-903bd04a60d5",
   "metadata": {},
   "outputs": [],
   "source": [
    "a=1    # variable of class int"
   ]
  },
  {
   "cell_type": "code",
   "execution_count": 15,
   "id": "4f926b66-092c-4c5f-9f81-4d5d01cc3553",
   "metadata": {},
   "outputs": [
    {
     "name": "stdout",
     "output_type": "stream",
     "text": [
      "<class 'int'>\n"
     ]
    }
   ],
   "source": [
    "print(type(a))"
   ]
  },
  {
   "cell_type": "code",
   "execution_count": 16,
   "id": "1b14813e-4509-42d6-ac6e-e59a72d5301c",
   "metadata": {},
   "outputs": [
    {
     "name": "stdout",
     "output_type": "stream",
     "text": [
      "<class 'int'>\n"
     ]
    }
   ],
   "source": [
    "a=int()\n",
    "print(type(a))"
   ]
  },
  {
   "cell_type": "code",
   "execution_count": 17,
   "id": "c127b1f4-a486-4205-a9be-4464a425a15d",
   "metadata": {},
   "outputs": [
    {
     "name": "stdout",
     "output_type": "stream",
     "text": [
      "<class 'str'>\n"
     ]
    }
   ],
   "source": [
    "print(type(\"Pwskills\")) "
   ]
  },
  {
   "cell_type": "code",
   "execution_count": 18,
   "id": "4e52ef2a-0d6b-4d02-8c53-42d8a06b5152",
   "metadata": {},
   "outputs": [
    {
     "ename": "SyntaxError",
     "evalue": "incomplete input (3527747674.py, line 1)",
     "output_type": "error",
     "traceback": [
      "\u001b[0;36m  Cell \u001b[0;32mIn[18], line 1\u001b[0;36m\u001b[0m\n\u001b[0;31m    class test:\u001b[0m\n\u001b[0m               ^\u001b[0m\n\u001b[0;31mSyntaxError\u001b[0m\u001b[0;31m:\u001b[0m incomplete input\n"
     ]
    }
   ],
   "source": [
    "class test:"
   ]
  },
  {
   "cell_type": "code",
   "execution_count": 19,
   "id": "1f635501-b59f-4a53-9d2f-2a05ab66030e",
   "metadata": {},
   "outputs": [],
   "source": [
    "class test:\n",
    "    pass"
   ]
  },
  {
   "cell_type": "code",
   "execution_count": 20,
   "id": "155758f5-35bb-4ee2-a785-f8d7ca4dd5ad",
   "metadata": {},
   "outputs": [],
   "source": [
    "a=test()   # object/variable/instance of class test./real world entity."
   ]
  },
  {
   "cell_type": "code",
   "execution_count": 21,
   "id": "be1af1e8-252d-4a10-bd8b-dcccac84a356",
   "metadata": {},
   "outputs": [
    {
     "name": "stdout",
     "output_type": "stream",
     "text": [
      "<class '__main__.test'>\n"
     ]
    }
   ],
   "source": [
    "print(type(a))"
   ]
  },
  {
   "cell_type": "code",
   "execution_count": 67,
   "id": "87dc47e8-36c8-46b1-adf3-3edb16ad2b6e",
   "metadata": {},
   "outputs": [],
   "source": [
    "class pwskills:\n",
    "    def welcm_msg(self): # self is a pointer/reference so that class will be able to bind this method/s that class will be able to understand that this method belongs to me.\n",
    "        print(\"Welcome to pw skills\")      ## Any no of methods a class can have ."
   ]
  },
  {
   "cell_type": "code",
   "execution_count": 68,
   "id": "a6951e2f-db5f-438f-a217-c3db7bbd0525",
   "metadata": {},
   "outputs": [],
   "source": [
    "Pravesh=pwskills()                         ## Any no of variables we can declare of a perticular class."
   ]
  },
  {
   "cell_type": "code",
   "execution_count": 69,
   "id": "5ae91e71-970c-4caf-9017-ef9633c71c8d",
   "metadata": {},
   "outputs": [
    {
     "name": "stdout",
     "output_type": "stream",
     "text": [
      "Welcome to pw skills\n"
     ]
    }
   ],
   "source": [
    "Pravesh.welcm_msg()"
   ]
  },
  {
   "cell_type": "code",
   "execution_count": 70,
   "id": "910ede9c-72db-47c1-864f-a97fd1c5e399",
   "metadata": {},
   "outputs": [],
   "source": [
    "vishal=pwskills()"
   ]
  },
  {
   "cell_type": "code",
   "execution_count": 71,
   "id": "64f0f4a3-88c8-46c3-9973-d78ecb219071",
   "metadata": {},
   "outputs": [
    {
     "name": "stdout",
     "output_type": "stream",
     "text": [
      "Welcome to pw skills\n"
     ]
    }
   ],
   "source": [
    "vishal.welcm_msg()"
   ]
  },
  {
   "cell_type": "code",
   "execution_count": 72,
   "id": "5d25f144-5230-4f97-90e9-a790007af2ef",
   "metadata": {},
   "outputs": [],
   "source": [
    "a=1\n",
    "b=2   ## both belongs to int class "
   ]
  },
  {
   "cell_type": "code",
   "execution_count": 73,
   "id": "1a6c16b9-0760-44ae-bd53-c63e7fd2f14c",
   "metadata": {},
   "outputs": [
    {
     "data": {
      "text/plain": [
       "2"
      ]
     },
     "execution_count": 73,
     "metadata": {},
     "output_type": "execute_result"
    }
   ],
   "source": [
    "b  # when i call a a will give the respective data similerly b."
   ]
  },
  {
   "cell_type": "code",
   "execution_count": 74,
   "id": "d9e09480-fb82-4be0-aae5-2de4d74195da",
   "metadata": {},
   "outputs": [
    {
     "data": {
      "text/plain": [
       "1"
      ]
     },
     "execution_count": 74,
     "metadata": {},
     "output_type": "execute_result"
    }
   ],
   "source": [
    "a"
   ]
  },
  {
   "cell_type": "code",
   "execution_count": 75,
   "id": "f0b3ddf7-101b-4e8e-9778-0d3bb7b92dbb",
   "metadata": {},
   "outputs": [],
   "source": [
    "class pwskills1: ## i want to create a class's variable which can take a data and can give me some outcome as per my need. \n",
    "                 ## that can be done with the help of constructor.it helps my class to take some data. \n",
    "    def __init__(self ,phone_number,email_id,student_id):\n",
    "            self.phone_number=phone_number\n",
    "            self.email_id=email_id\n",
    "            self.student_id=student_id\n",
    "            \n",
    "            \n",
    "    def return_student_details(self):\n",
    "            return self.phone_number,self.email_id,self.student_id\n",
    "            ## A method which is a internal method to the class if the method \n",
    "            # is supposed to access the value which i have passed for a perticular\n",
    "            # object is will be accessed using self dot data name."
   ]
  },
  {
   "cell_type": "code",
   "execution_count": 76,
   "id": "e3787c5e-3617-4214-ba5d-90e351cb43c9",
   "metadata": {},
   "outputs": [
    {
     "ename": "TypeError",
     "evalue": "pwskills1.__init__() missing 3 required positional arguments: 'phone_number', 'email_id', and 'student_id'",
     "output_type": "error",
     "traceback": [
      "\u001b[0;31m---------------------------------------------------------------------------\u001b[0m",
      "\u001b[0;31mTypeError\u001b[0m                                 Traceback (most recent call last)",
      "Cell \u001b[0;32mIn[76], line 1\u001b[0m\n\u001b[0;32m----> 1\u001b[0m rohan\u001b[38;5;241m=\u001b[39m\u001b[43mpwskills1\u001b[49m\u001b[43m(\u001b[49m\u001b[43m)\u001b[49m\n",
      "\u001b[0;31mTypeError\u001b[0m: pwskills1.__init__() missing 3 required positional arguments: 'phone_number', 'email_id', and 'student_id'"
     ]
    }
   ],
   "source": [
    "rohan=pwskills1()"
   ]
  },
  {
   "cell_type": "code",
   "execution_count": 77,
   "id": "ab3d2703-ea5d-4ed2-a713-db87e7f53e09",
   "metadata": {},
   "outputs": [],
   "source": [
    "rohan=pwskills1(9651511963,\"subh858@gmail.com\",101)# the way to pass the data to a class variable."
   ]
  },
  {
   "cell_type": "code",
   "execution_count": 78,
   "id": "e6636b5b-6e5b-4dde-90fd-ab0bc297ddd5",
   "metadata": {},
   "outputs": [
    {
     "data": {
      "text/plain": [
       "9651511963"
      ]
     },
     "execution_count": 78,
     "metadata": {},
     "output_type": "execute_result"
    }
   ],
   "source": [
    "rohan.phone_number ## we can access data outside the class with the help of \n",
    "                   ## variable name/object"
   ]
  },
  {
   "cell_type": "code",
   "execution_count": 79,
   "id": "e430e07e-9d72-4a1e-8095-9aaba193e341",
   "metadata": {},
   "outputs": [
    {
     "data": {
      "text/plain": [
       "'subh858@gmail.com'"
      ]
     },
     "execution_count": 79,
     "metadata": {},
     "output_type": "execute_result"
    }
   ],
   "source": [
    "rohan.email_id"
   ]
  },
  {
   "cell_type": "code",
   "execution_count": 80,
   "id": "751f4980-cba5-4a18-a92d-8774cc7bc52f",
   "metadata": {},
   "outputs": [
    {
     "data": {
      "text/plain": [
       "101"
      ]
     },
     "execution_count": 80,
     "metadata": {},
     "output_type": "execute_result"
    }
   ],
   "source": [
    "rohan.student_id"
   ]
  },
  {
   "cell_type": "code",
   "execution_count": 81,
   "id": "cb01eb64-df45-4857-8fcf-896a120f45c3",
   "metadata": {},
   "outputs": [
    {
     "data": {
      "text/plain": [
       "(9651511963, 'subh858@gmail.com', 101)"
      ]
     },
     "execution_count": 81,
     "metadata": {},
     "output_type": "execute_result"
    }
   ],
   "source": [
    "rohan.return_student_details()"
   ]
  },
  {
   "cell_type": "code",
   "execution_count": 82,
   "id": "ca621ad9-dc1d-4117-93ac-5be9b3efb108",
   "metadata": {},
   "outputs": [],
   "source": [
    "pravesh=pwskills1(7523918293,\"@gmail.com\",112)"
   ]
  },
  {
   "cell_type": "code",
   "execution_count": 83,
   "id": "07e686b7-d022-4061-bced-36452ec85af3",
   "metadata": {},
   "outputs": [
    {
     "data": {
      "text/plain": [
       "7523918293"
      ]
     },
     "execution_count": 83,
     "metadata": {},
     "output_type": "execute_result"
    }
   ],
   "source": [
    "pravesh.phone_number"
   ]
  },
  {
   "cell_type": "code",
   "execution_count": 84,
   "id": "bd1df649-f7c3-47c1-afa6-c64259330ca7",
   "metadata": {},
   "outputs": [
    {
     "data": {
      "text/plain": [
       "'@gmail.com'"
      ]
     },
     "execution_count": 84,
     "metadata": {},
     "output_type": "execute_result"
    }
   ],
   "source": [
    "pravesh.email_id"
   ]
  },
  {
   "cell_type": "code",
   "execution_count": 85,
   "id": "15d75f33-87f8-40c8-8387-c233040991d2",
   "metadata": {},
   "outputs": [],
   "source": [
    "class pwskills2:\n",
    "    def __init__(pravesh,phone_no,email_id,student_id):\n",
    "        pravesh.phone_no=phone_no\n",
    "        pravesh.email_id=email_id\n",
    "        pravesh.student_id=student_id\n",
    "    def return_details(pravesh):\n",
    "        return pravesh.phone_no,pravesh.email_id,pravesh.student_id"
   ]
  },
  {
   "cell_type": "code",
   "execution_count": 86,
   "id": "bf547156-d4fe-4452-85fb-a442cd9ed4dc",
   "metadata": {},
   "outputs": [],
   "source": [
    "vishal=pwskills2(75231,\"@gmail\",123)"
   ]
  },
  {
   "cell_type": "code",
   "execution_count": 87,
   "id": "80b3fa72-ce4e-45a5-9a67-a410ba3eaac9",
   "metadata": {},
   "outputs": [
    {
     "data": {
      "text/plain": [
       "75231"
      ]
     },
     "execution_count": 87,
     "metadata": {},
     "output_type": "execute_result"
    }
   ],
   "source": [
    "vishal.phone_no"
   ]
  },
  {
   "cell_type": "code",
   "execution_count": 88,
   "id": "ce56cc04-cb6d-4700-b5a4-9cda4b6250a4",
   "metadata": {},
   "outputs": [
    {
     "data": {
      "text/plain": [
       "'@gmail'"
      ]
     },
     "execution_count": 88,
     "metadata": {},
     "output_type": "execute_result"
    }
   ],
   "source": [
    "vishal.email_id"
   ]
  },
  {
   "cell_type": "code",
   "execution_count": 89,
   "id": "523592d7-05dd-43bb-9747-72e0cef8ade2",
   "metadata": {},
   "outputs": [
    {
     "data": {
      "text/plain": [
       "123"
      ]
     },
     "execution_count": 89,
     "metadata": {},
     "output_type": "execute_result"
    }
   ],
   "source": [
    "vishal.student_id"
   ]
  },
  {
   "cell_type": "code",
   "execution_count": 90,
   "id": "cfbdb056-7210-4ee2-969e-64b72165a78f",
   "metadata": {},
   "outputs": [
    {
     "data": {
      "text/plain": [
       "(75231, '@gmail', 123)"
      ]
     },
     "execution_count": 90,
     "metadata": {},
     "output_type": "execute_result"
    }
   ],
   "source": [
    "vishal.return_details()"
   ]
  },
  {
   "cell_type": "code",
   "execution_count": 91,
   "id": "5534829c-c83d-4f11-830d-62ef8d6f3264",
   "metadata": {},
   "outputs": [],
   "source": [
    "### Conclusion---> self is not a keyword so you can use anything in place of \n",
    "## self which will refer to the class so that my class will be able to \n",
    "### understand all the variables,methods/function."
   ]
  },
  {
   "cell_type": "code",
   "execution_count": 92,
   "id": "0dc868c3-df8e-4c52-a5a9-c3dc9c224893",
   "metadata": {},
   "outputs": [],
   "source": [
    "self=\"Pw\""
   ]
  },
  {
   "cell_type": "code",
   "execution_count": 93,
   "id": "fab795b2-2ab5-46f5-8f0f-2fbe9d69f428",
   "metadata": {},
   "outputs": [
    {
     "data": {
      "text/plain": [
       "'Pw'"
      ]
     },
     "execution_count": 93,
     "metadata": {},
     "output_type": "execute_result"
    }
   ],
   "source": [
    "self"
   ]
  },
  {
   "cell_type": "code",
   "execution_count": 100,
   "id": "0273d563-d49a-4c0c-9f2f-9c40f53a623f",
   "metadata": {},
   "outputs": [],
   "source": [
    "class pwskills2:\n",
    "    def __init__(pravesh,phone_no,email_id,student_id):\n",
    "        pravesh.phone_no1=phone_no    # phone_no1 is a class variable\n",
    "        pravesh.email_id2=email_id\n",
    "        pravesh.student_id3=student_id\n",
    "    def return_details(pravesh):\n",
    "        return pravesh.phone_no,pravesh.email_id,pravesh.student_id"
   ]
  },
  {
   "cell_type": "code",
   "execution_count": 101,
   "id": "1ecea9bd-7ffc-49eb-a148-906d67fd3da4",
   "metadata": {},
   "outputs": [],
   "source": [
    "vish=pwskills2(75231,\"@gmail\",123)"
   ]
  },
  {
   "cell_type": "code",
   "execution_count": 102,
   "id": "af17b9a8-280e-4682-b2af-9994b885e2c7",
   "metadata": {},
   "outputs": [
    {
     "ename": "AttributeError",
     "evalue": "'pwskills2' object has no attribute 'phone_no'",
     "output_type": "error",
     "traceback": [
      "\u001b[0;31m---------------------------------------------------------------------------\u001b[0m",
      "\u001b[0;31mAttributeError\u001b[0m                            Traceback (most recent call last)",
      "Cell \u001b[0;32mIn[102], line 1\u001b[0m\n\u001b[0;32m----> 1\u001b[0m \u001b[43mvish\u001b[49m\u001b[38;5;241;43m.\u001b[39;49m\u001b[43mphone_no\u001b[49m\n",
      "\u001b[0;31mAttributeError\u001b[0m: 'pwskills2' object has no attribute 'phone_no'"
     ]
    }
   ],
   "source": [
    "vish.phone_no"
   ]
  },
  {
   "cell_type": "code",
   "execution_count": 103,
   "id": "4709000e-8846-4610-a611-4523c254c925",
   "metadata": {},
   "outputs": [
    {
     "data": {
      "text/plain": [
       "75231"
      ]
     },
     "execution_count": 103,
     "metadata": {},
     "output_type": "execute_result"
    }
   ],
   "source": [
    "vish.phone_no1"
   ]
  },
  {
   "cell_type": "code",
   "execution_count": 104,
   "id": "634f5ba8-62ec-4d7a-b620-277309351d06",
   "metadata": {},
   "outputs": [
    {
     "ename": "AttributeError",
     "evalue": "'pwskills2' object has no attribute 'phone_no'",
     "output_type": "error",
     "traceback": [
      "\u001b[0;31m---------------------------------------------------------------------------\u001b[0m",
      "\u001b[0;31mAttributeError\u001b[0m                            Traceback (most recent call last)",
      "Cell \u001b[0;32mIn[104], line 1\u001b[0m\n\u001b[0;32m----> 1\u001b[0m \u001b[43mvish\u001b[49m\u001b[38;5;241;43m.\u001b[39;49m\u001b[43mreturn_details\u001b[49m\u001b[43m(\u001b[49m\u001b[43m)\u001b[49m\n",
      "Cell \u001b[0;32mIn[100], line 7\u001b[0m, in \u001b[0;36mpwskills2.return_details\u001b[0;34m(pravesh)\u001b[0m\n\u001b[1;32m      6\u001b[0m \u001b[38;5;28;01mdef\u001b[39;00m \u001b[38;5;21mreturn_details\u001b[39m(pravesh):\n\u001b[0;32m----> 7\u001b[0m     \u001b[38;5;28;01mreturn\u001b[39;00m \u001b[43mpravesh\u001b[49m\u001b[38;5;241;43m.\u001b[39;49m\u001b[43mphone_no\u001b[49m,pravesh\u001b[38;5;241m.\u001b[39memail_id,pravesh\u001b[38;5;241m.\u001b[39mstudent_id\n",
      "\u001b[0;31mAttributeError\u001b[0m: 'pwskills2' object has no attribute 'phone_no'"
     ]
    }
   ],
   "source": [
    "vish.return_details() ## error b/c instead of phone_no1 you are giving phone_no"
   ]
  },
  {
   "cell_type": "code",
   "execution_count": null,
   "id": "2e2b73a7-f2ae-4511-bf04-5bfcce955c54",
   "metadata": {},
   "outputs": [],
   "source": []
  }
 ],
 "metadata": {
  "kernelspec": {
   "display_name": "Python 3 (ipykernel)",
   "language": "python",
   "name": "python3"
  },
  "language_info": {
   "codemirror_mode": {
    "name": "ipython",
    "version": 3
   },
   "file_extension": ".py",
   "mimetype": "text/x-python",
   "name": "python",
   "nbconvert_exporter": "python",
   "pygments_lexer": "ipython3",
   "version": "3.10.8"
  }
 },
 "nbformat": 4,
 "nbformat_minor": 5
}
