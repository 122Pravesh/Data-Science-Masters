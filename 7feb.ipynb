{
 "cells": [
  {
   "cell_type": "markdown",
   "id": "dbb431d2-cdb4-4ec2-a1a6-968dacbaeabc",
   "metadata": {},
   "source": [
    "### Q1. You are writing code for a company. The requirement of the company is that you create a python function that will check whether the password entered by the user is correct or not. The function should take the password as input and return the string “Valid Password” if the entered password follows the below-given password guidelines else it should return “Invalid Password”.\n",
    "### Note: 1. The Password should contain at least two uppercase letters and at least two lowercase letters.\n",
    "### 2. The Password should contain at least a number and three special characters.\n",
    "### 3. The length of the password should be 10 characters long."
   ]
  },
  {
   "cell_type": "code",
   "execution_count": null,
   "id": "a8a40935-1d93-42dc-98d3-2c1d4cd16356",
   "metadata": {},
   "outputs": [],
   "source": [
    "#import re \n",
    "passw = input(\"Enter Password ::>\")\n",
    "fl = 0\n",
    "while True:   \n",
    "    if (len(passw)<=10):\n",
    "        fl= -1\n",
    "        break\n",
    "    elif not re.search(\"[a-z]\", passw): \n",
    "        fl = -3\n",
    "        break\n",
    "    elif not re.search(\"[A-Z]\", passw): \n",
    "        fl = -2\n",
    "        break\n",
    "    elif not re.search(\"[0-9]\", passw): \n",
    "        fl = -1\n",
    "        break\n",
    "    elif not re.search(\"[_@$]\", passw): \n",
    "        fl = -3\n",
    "        break\n",
    "    elif re.search(\"\\s\", passw): \n",
    "        fl = -1\n",
    "        break\n",
    "    else: \n",
    "        fl = 0\n",
    "        print(\" This Is Valid Password\") \n",
    "        break\n",
    "if fl ==-1: \n",
    "    print(\"Not a Valid Password\")"
   ]
  },
  {
   "cell_type": "code",
   "execution_count": 2,
   "id": "a1ac8434-c808-460f-a9c4-666b3e38b6ff",
   "metadata": {},
   "outputs": [
    {
     "data": {
      "text/plain": [
       "False"
      ]
     },
     "execution_count": 2,
     "metadata": {},
     "output_type": "execute_result"
    }
   ],
   "source": [
    "st=\"Pravesh\"\n",
    "st.islower()"
   ]
  },
  {
   "cell_type": "code",
   "execution_count": 9,
   "id": "e1ef4034-544c-455b-86fd-11ab9f228922",
   "metadata": {},
   "outputs": [],
   "source": [
    "\n",
    "def password(pasw):\n",
    "    l,u,p,d=0,0,0,0\n",
    "    if(len(pasw)>=10):\n",
    "        for i in pasw:\n",
    "            if(i.islower()):\n",
    "                l+=1\n",
    "            if(i.isupper()):\n",
    "                u+=1\n",
    "            if(i.isdigit()):\n",
    "                d+=1\n",
    "            if(i=='@' or i=='$' or i=='_' ):\n",
    "                p+=1\n",
    "    if (l>=2 and u>=2 and d>=1 and p>=3): \n",
    "        print(\"Valid Password\")\n",
    "    else:\n",
    "        print(\"invalid password\")"
   ]
  },
  {
   "cell_type": "code",
   "execution_count": 10,
   "id": "81cbac95-184d-4e32-854f-bd490eef1716",
   "metadata": {},
   "outputs": [
    {
     "name": "stdout",
     "output_type": "stream",
     "text": [
      "invalid password\n"
     ]
    }
   ],
   "source": [
    "password(\"Pravesh@123\")"
   ]
  },
  {
   "cell_type": "code",
   "execution_count": 11,
   "id": "d629fc34-a42e-4952-b1ca-d37b80cad2a0",
   "metadata": {},
   "outputs": [
    {
     "name": "stdout",
     "output_type": "stream",
     "text": [
      "Valid Password\n"
     ]
    }
   ],
   "source": [
    "password(\"PRavesh@123$_\")"
   ]
  },
  {
   "cell_type": "markdown",
   "id": "38909edd-ce3b-495c-9cf8-2e8e541ee163",
   "metadata": {},
   "source": [
    "### Q2. Solve the below-given questions using at least one of the following:\n",
    "1. Lambda functioJ\n",
    "2. Filter functioJ\n",
    "3. Zap functioJ\n",
    "4. List ComprehensioI\n",
    "* Check if the string starts with a particular letterY\n",
    "* Check if the string is numericY\n",
    "* Sort a list of tuples having fruit names and their quantity. [(\"mango\",99),(\"orange\",80), (\"grapes\", 1000)]\n",
    "* Find the squares of numbers from 1 to 10Y\n",
    "* Find the cube root of numbers from 1 to 10Y\n",
    "* Check if a given number is evenY\n",
    "* Filter odd numbers from the given list.\n",
    "[1,2,3,4,5,6,7,8,9,10]\n",
    "* Sort a list of integers into positive and negative integers lists.\n",
    "[1,2,3,4,5,6,-1,-2,-3,-4,-5,0]"
   ]
  },
  {
   "cell_type": "code",
   "execution_count": 15,
   "id": "c5d34189-40f9-4107-a43c-0f43cfb4c61c",
   "metadata": {},
   "outputs": [],
   "source": [
    "# Check if the string starts with a particular letter\n",
    "a=lambda s:True if s[0]==\"$\" else False"
   ]
  },
  {
   "cell_type": "code",
   "execution_count": 16,
   "id": "96a401ef-ef21-4bab-a266-d2f1eddff4b7",
   "metadata": {},
   "outputs": [
    {
     "data": {
      "text/plain": [
       "True"
      ]
     },
     "execution_count": 16,
     "metadata": {},
     "output_type": "execute_result"
    }
   ],
   "source": [
    "a(\"$pravesh\")"
   ]
  },
  {
   "cell_type": "code",
   "execution_count": 18,
   "id": "4abaf1cc-79a0-4794-bf44-f353bbadf236",
   "metadata": {},
   "outputs": [
    {
     "data": {
      "text/plain": [
       "False"
      ]
     },
     "execution_count": 18,
     "metadata": {},
     "output_type": "execute_result"
    }
   ],
   "source": [
    "a(\"pravesh\")"
   ]
  },
  {
   "cell_type": "code",
   "execution_count": 19,
   "id": "0195acf9-ebfb-4eb3-ad48-047d4b9050fb",
   "metadata": {},
   "outputs": [],
   "source": [
    "# Check if the string is numeric\n",
    "b=lambda s:True if s.isnumeric()==True else False"
   ]
  },
  {
   "cell_type": "code",
   "execution_count": 20,
   "id": "0b1af42f-50a5-4fab-bad1-d82942d5d519",
   "metadata": {},
   "outputs": [
    {
     "data": {
      "text/plain": [
       "True"
      ]
     },
     "execution_count": 20,
     "metadata": {},
     "output_type": "execute_result"
    }
   ],
   "source": [
    "b(\"1234\")"
   ]
  },
  {
   "cell_type": "code",
   "execution_count": 23,
   "id": "e7579fca-7948-45ff-8a14-de878b6e2c8e",
   "metadata": {},
   "outputs": [
    {
     "data": {
      "text/plain": [
       "False"
      ]
     },
     "execution_count": 23,
     "metadata": {},
     "output_type": "execute_result"
    }
   ],
   "source": [
    "b(\"10lm\")"
   ]
  },
  {
   "cell_type": "code",
   "execution_count": 33,
   "id": "4d2866da-55f1-48ad-87fc-7c53d5cabf7d",
   "metadata": {},
   "outputs": [],
   "source": [
    "# Sort a list of tuples having fruit names and their quantity. [(\"mango\",99),(\"orange\",80), (\"grapes\", 1000)]\n",
    "def Sort_Tuple(tup):\n",
    " \n",
    "    # getting length of list of tuples\n",
    "    lst = len(tup)\n",
    "    for i in range(0, lst):\n",
    " \n",
    "        for j in range(0, lst-i-1):\n",
    "            if (tup[j][1] > tup[j + 1][1]):\n",
    "                temp = tup[j]\n",
    "                tup[j] = tup[j + 1]\n",
    "                tup[j + 1] = temp\n",
    "    return tup\n",
    " "
   ]
  },
  {
   "cell_type": "code",
   "execution_count": 34,
   "id": "5e5109ee-ea44-447e-b733-6de3c8f5f0f4",
   "metadata": {},
   "outputs": [
    {
     "data": {
      "text/plain": [
       "[('orange', 80), ('mango', 99), ('grapes', 1000)]"
      ]
     },
     "execution_count": 34,
     "metadata": {},
     "output_type": "execute_result"
    }
   ],
   "source": [
    "Sort_Tuple([(\"mango\",99),(\"orange\",80), (\"grapes\", 1000)])"
   ]
  },
  {
   "cell_type": "code",
   "execution_count": 41,
   "id": "4af11d7d-ea0a-4276-aae0-bf37e30908f0",
   "metadata": {},
   "outputs": [
    {
     "data": {
      "text/plain": [
       "[1, 4, 9, 16, 25, 36, 49, 64, 81, 100]"
      ]
     },
     "execution_count": 41,
     "metadata": {},
     "output_type": "execute_result"
    }
   ],
   "source": [
    "# Find the squares of numbers from 1 to 10\n",
    "l=[i for i in range(1,11)]\n",
    "list(map(lambda s:s**2,l))"
   ]
  },
  {
   "cell_type": "code",
   "execution_count": 43,
   "id": "a2156b99-6678-4d40-8859-0deb0795b23b",
   "metadata": {},
   "outputs": [
    {
     "data": {
      "text/plain": [
       "[1.0,\n",
       " 1.4142135623730951,\n",
       " 1.7320508075688772,\n",
       " 2.0,\n",
       " 2.23606797749979,\n",
       " 2.449489742783178,\n",
       " 2.6457513110645907,\n",
       " 2.8284271247461903,\n",
       " 3.0,\n",
       " 3.1622776601683795]"
      ]
     },
     "execution_count": 43,
     "metadata": {},
     "output_type": "execute_result"
    }
   ],
   "source": [
    "# Find the cube root of numbers from 1 to 10\n",
    "l=[i for i in range(1,11)]\n",
    "list(map(lambda s:s**(1/2),l))"
   ]
  },
  {
   "cell_type": "code",
   "execution_count": 44,
   "id": "e3ba2555-6f22-4d3f-8706-12291e4f5f34",
   "metadata": {},
   "outputs": [
    {
     "data": {
      "text/plain": [
       "[1.0,\n",
       " 1.2599210498948732,\n",
       " 1.4422495703074083,\n",
       " 1.5874010519681994,\n",
       " 1.7099759466766968,\n",
       " 1.8171205928321397,\n",
       " 1.912931182772389,\n",
       " 2.0,\n",
       " 2.080083823051904,\n",
       " 2.154434690031884]"
      ]
     },
     "execution_count": 44,
     "metadata": {},
     "output_type": "execute_result"
    }
   ],
   "source": [
    "# Find the cube root of numbers from 1 to 10\n",
    "l=[i for i in range(1,11)]\n",
    "list(map(lambda s:s**(1/3),l))"
   ]
  },
  {
   "cell_type": "code",
   "execution_count": 47,
   "id": "db3dfba0-d773-4124-8ee9-a379b9cdb05c",
   "metadata": {},
   "outputs": [],
   "source": [
    "# Check if a given number is even\n",
    "a=lambda n: \"even\" if n%2==0 else \"odd\""
   ]
  },
  {
   "cell_type": "code",
   "execution_count": 48,
   "id": "29b8b6c6-3b6f-44e3-b099-1033cba84569",
   "metadata": {},
   "outputs": [
    {
     "data": {
      "text/plain": [
       "'even'"
      ]
     },
     "execution_count": 48,
     "metadata": {},
     "output_type": "execute_result"
    }
   ],
   "source": [
    "a(120)"
   ]
  },
  {
   "cell_type": "code",
   "execution_count": 49,
   "id": "92403706-fb27-4139-b944-0e8320703b00",
   "metadata": {},
   "outputs": [
    {
     "data": {
      "text/plain": [
       "'odd'"
      ]
     },
     "execution_count": 49,
     "metadata": {},
     "output_type": "execute_result"
    }
   ],
   "source": [
    "a(121)"
   ]
  },
  {
   "cell_type": "code",
   "execution_count": 54,
   "id": "2fcfe75c-4705-4932-8b98-12735514eb9a",
   "metadata": {},
   "outputs": [
    {
     "data": {
      "text/plain": [
       "[1, 3, 5, 7, 9]"
      ]
     },
     "execution_count": 54,
     "metadata": {},
     "output_type": "execute_result"
    }
   ],
   "source": [
    "## Filter odd numbers from the given list. [1,2,3,4,5,6,7,8,9,10]\n",
    "l=[1,2,3,4,5,6,7,8,9,10]\n",
    "list(filter(lambda x:x%2!=0,l))"
   ]
  },
  {
   "cell_type": "code",
   "execution_count": 75,
   "id": "ceba7737-b8c0-4ed2-9c5d-9c0b47ca7e0e",
   "metadata": {},
   "outputs": [],
   "source": [
    "# Sort a list of integers into positive and negative integers lists. [1,2,3,4,5,6,-1,-2,-3,-4,-5,0]\n",
    "l= [1,2,3,4,5,6,-1,-2,-3,-4,-5,0]\n",
    "list1=list(filter(lambda x:x<0,l))\n",
    "list1.sort(reverse=True)"
   ]
  },
  {
   "cell_type": "code",
   "execution_count": 76,
   "id": "363ef9f3-436f-41cd-8b46-dd41af3df822",
   "metadata": {},
   "outputs": [
    {
     "data": {
      "text/plain": [
       "[-1, -2, -3, -4, -5]"
      ]
     },
     "execution_count": 76,
     "metadata": {},
     "output_type": "execute_result"
    }
   ],
   "source": [
    "list1"
   ]
  },
  {
   "cell_type": "code",
   "execution_count": 78,
   "id": "7729ed67-4d2f-4508-851a-94c65d21418d",
   "metadata": {},
   "outputs": [],
   "source": [
    "list2=list(filter(lambda x:x>=0,l))\n",
    "list2.sort()"
   ]
  },
  {
   "cell_type": "code",
   "execution_count": 80,
   "id": "434d46dd-6778-4ffd-aab0-40d4597c8f83",
   "metadata": {},
   "outputs": [],
   "source": [
    "list2"
   ]
  },
  {
   "cell_type": "code",
   "execution_count": null,
   "id": "e080a402-a663-4226-baa1-bcd5cadbbf75",
   "metadata": {},
   "outputs": [],
   "source": []
  }
 ],
 "metadata": {
  "kernelspec": {
   "display_name": "Python 3 (ipykernel)",
   "language": "python",
   "name": "python3"
  },
  "language_info": {
   "codemirror_mode": {
    "name": "ipython",
    "version": 3
   },
   "file_extension": ".py",
   "mimetype": "text/x-python",
   "name": "python",
   "nbconvert_exporter": "python",
   "pygments_lexer": "ipython3",
   "version": "3.10.8"
  }
 },
 "nbformat": 4,
 "nbformat_minor": 5
}
