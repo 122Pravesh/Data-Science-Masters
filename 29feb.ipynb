{
 "cells": [
  {
   "cell_type": "markdown",
   "id": "05096931-0f07-443c-983c-f75030cfaccd",
   "metadata": {},
   "source": [
    "# 1: Who devoloped python programming language?"
   ]
  },
  {
   "cell_type": "markdown",
   "id": "ccbb6ca3-98e0-4a81-ae2c-bc9e9f9ef339",
   "metadata": {},
   "source": [
    "### Ans: Guido van Rossum"
   ]
  },
  {
   "cell_type": "markdown",
   "id": "9b7baba3-f416-43c0-8f6b-a39c921bec53",
   "metadata": {},
   "source": [
    "# 2: Which type of programming does python support."
   ]
  },
  {
   "cell_type": "markdown",
   "id": "6e7ba881-4c19-44c0-a55a-74889a1b06e3",
   "metadata": {},
   "source": [
    "### Object-oriented programming and structured programming "
   ]
  },
  {
   "cell_type": "markdown",
   "id": "e8387390-8288-49ea-96ab-1753e78eb78d",
   "metadata": {},
   "source": [
    "# 3: Is python case sensitive when dealing with integers?"
   ]
  },
  {
   "cell_type": "markdown",
   "id": "1afc9476-e149-415b-9a7a-ee6b9b32bd27",
   "metadata": {},
   "source": [
    "### yes"
   ]
  },
  {
   "cell_type": "markdown",
   "id": "2225cbd3-5fbe-4234-addc-dda7ef3cfa41",
   "metadata": {},
   "source": [
    "# 4: What is the correct extension of python file?"
   ]
  },
  {
   "cell_type": "markdown",
   "id": "9b73261a-771c-416d-afe1-73e08eb2a81f",
   "metadata": {},
   "source": [
    "### .py"
   ]
  },
  {
   "cell_type": "markdown",
   "id": "4e5a8a56-94c9-4bc2-bf91-0956c944b867",
   "metadata": {},
   "source": [
    "# 5: Is python code is compiled or interpreted"
   ]
  },
  {
   "cell_type": "markdown",
   "id": "f40057b7-2067-4c62-88ff-89b3491ae3ed",
   "metadata": {},
   "source": [
    "### interpreted language"
   ]
  },
  {
   "cell_type": "markdown",
   "id": "c0a3f593-0e5f-4d4c-afb8-9d38f2ee6aca",
   "metadata": {},
   "source": [
    "# 6: Name a few blocks of code used to define in python language."
   ]
  },
  {
   "cell_type": "markdown",
   "id": "e3467d71-cb17-40d8-89f9-40c7124f9ea9",
   "metadata": {},
   "source": [
    "### A Python program is constructed from code blocks. A block is a piece of Python program text that is executed as a unit. The following are blocks: a module, a function body, and a class definition. Each command typed interactively is a block."
   ]
  },
  {
   "cell_type": "markdown",
   "id": "cc2ba19e-aaea-4e73-b35d-be437f63eb9f",
   "metadata": {},
   "source": [
    "# 7: State a character used to give single line comments in python."
   ]
  },
  {
   "cell_type": "markdown",
   "id": "8f59779b-fadb-4058-92a5-092e93c3de43",
   "metadata": {},
   "source": [
    "### # character"
   ]
  },
  {
   "cell_type": "markdown",
   "id": "0722e8b8-f3d4-4a16-9176-adc27c3b27dd",
   "metadata": {},
   "source": [
    "# 8: Mention functions which can help us to find the version that currently we are working on ."
   ]
  },
  {
   "cell_type": "markdown",
   "id": "74b90ffe-aefb-432a-b4bd-4b1e48f71436",
   "metadata": {},
   "source": [
    "### sys.version"
   ]
  },
  {
   "cell_type": "markdown",
   "id": "04327f0d-ade6-41ff-8d48-7550cd58aaaa",
   "metadata": {},
   "source": [
    "# 9: Python supports the creation of anonymous function at runtime using a construct called__"
   ]
  },
  {
   "cell_type": "markdown",
   "id": "50cb4ae1-4b07-4499-b0b9-c7ce3b584271",
   "metadata": {},
   "source": [
    "### lambda"
   ]
  },
  {
   "cell_type": "markdown",
   "id": "8cd16ed1-d002-4136-8fce-2a42b1feb54d",
   "metadata": {},
   "source": [
    "# 10: What does pip stands for in python?"
   ]
  },
  {
   "cell_type": "markdown",
   "id": "c27a8552-9a62-4fa8-a89a-722c7a63da5f",
   "metadata": {},
   "source": [
    "### \"preferred installer program\"."
   ]
  },
  {
   "cell_type": "markdown",
   "id": "08734da3-d984-4c88-954c-7f273f1c60e1",
   "metadata": {},
   "source": [
    "# 11; Mention a few builtin function in python"
   ]
  },
  {
   "cell_type": "markdown",
   "id": "bc593cfa-fabe-4898-9016-df82ffb64993",
   "metadata": {},
   "source": [
    "### print( ) ,type( ) ,input( ) ,abs( ) ,pow( ) ,dir( ) ,sorted( ) ,max( ) .\n"
   ]
  },
  {
   "cell_type": "markdown",
   "id": "f00872e2-fac2-4944-b421-e10fd5ee04bc",
   "metadata": {},
   "source": [
    "# 12: What is the max possible length of a identifier in python"
   ]
  },
  {
   "cell_type": "markdown",
   "id": "5c7173bc-0567-4b77-914e-ea1cd4bc6ece",
   "metadata": {},
   "source": [
    "### 79 Characters"
   ]
  },
  {
   "cell_type": "markdown",
   "id": "96df0a2d-26b9-482a-8eb8-abd2b92b427a",
   "metadata": {},
   "source": [
    "# 13: What are the benefits of using python?"
   ]
  },
  {
   "cell_type": "markdown",
   "id": "f92898ed-351b-49ef-a918-c4ad6f4ebd70",
   "metadata": {},
   "source": [
    "### Advantages of Python: simple, clean, and fast to write\n",
    "### used in Data science web devolopment"
   ]
  },
  {
   "cell_type": "markdown",
   "id": "9fb90c07-40bd-48ab-8f34-4a8e38c74866",
   "metadata": {},
   "source": [
    "# 14: How is memory managed in python"
   ]
  },
  {
   "cell_type": "markdown",
   "id": "dc9b94e4-18d3-4c59-af99-194fb03fafe5",
   "metadata": {},
   "source": [
    "### Memory management in Python involves a private heap containing all Python objects and data structures. The management of this private heap is ensured internally by the Python memory manager."
   ]
  },
  {
   "cell_type": "markdown",
   "id": "17d93296-5018-42b1-9e43-2cc136878805",
   "metadata": {},
   "source": [
    "# 15: How to install python in windows and set the path variables"
   ]
  },
  {
   "cell_type": "markdown",
   "id": "f8f25a29-0d55-4172-9472-c6245b553b2c",
   "metadata": {},
   "source": [
    "### Right-clicking This PC and going to Properties.\n",
    "\n",
    "### Clicking on the Advanced system settings in the menu on the left.\n",
    "\n",
    "### Clicking on the Environment Variables button o​n the bottom right.\n",
    "\n",
    "### In the System variables section, selecting the Path variable and clicking on Edit. The next screen will show all the directories that are currently a part of the PATH variable.\n",
    "\n",
    "### Clicking on New and entering Python’s install directory."
   ]
  },
  {
   "cell_type": "markdown",
   "id": "ae856e34-2778-408e-bfc2-498b6f6176ea",
   "metadata": {},
   "source": [
    "# 16: Is indentation is required in python?"
   ]
  },
  {
   "cell_type": "code",
   "execution_count": null,
   "id": "f7cb2c3d-3241-4259-a1f1-54b9410b5e41",
   "metadata": {},
   "outputs": [],
   "source": []
  }
 ],
 "metadata": {
  "kernelspec": {
   "display_name": "Python 3 (ipykernel)",
   "language": "python",
   "name": "python3"
  },
  "language_info": {
   "codemirror_mode": {
    "name": "ipython",
    "version": 3
   },
   "file_extension": ".py",
   "mimetype": "text/x-python",
   "name": "python",
   "nbconvert_exporter": "python",
   "pygments_lexer": "ipython3",
   "version": "3.10.8"
  }
 },
 "nbformat": 4,
 "nbformat_minor": 5
}
