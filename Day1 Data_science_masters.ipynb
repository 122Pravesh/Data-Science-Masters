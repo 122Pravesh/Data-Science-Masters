{
 "cells": [
  {
   "cell_type": "code",
   "execution_count": 18,
   "id": "d1009bf1-a4f5-48ca-abab-ae0c8a496cf2",
   "metadata": {},
   "outputs": [
    {
     "data": {
      "text/plain": [
       "2"
      ]
     },
     "execution_count": 18,
     "metadata": {},
     "output_type": "execute_result"
    }
   ],
   "source": [
    "1+1"
   ]
  },
  {
   "cell_type": "code",
   "execution_count": 18,
   "id": "c9553808-5123-4010-8c6f-a2bab602ada6",
   "metadata": {},
   "outputs": [
    {
     "data": {
      "text/plain": [
       "2"
      ]
     },
     "execution_count": 18,
     "metadata": {},
     "output_type": "execute_result"
    }
   ],
   "source": [
    "1+1"
   ]
  },
  {
   "cell_type": "code",
   "execution_count": 19,
   "id": "c9b5cbac-08b7-45a2-9509-d053420f2124",
   "metadata": {
    "tags": []
   },
   "outputs": [
    {
     "data": {
      "text/plain": [
       "1"
      ]
     },
     "execution_count": 19,
     "metadata": {},
     "output_type": "execute_result"
    }
   ],
   "source": [
    "## comments\n",
    "#comments\n",
    "## My first program\n",
    "a=1\n",
    "a"
   ]
  },
  {
   "cell_type": "code",
   "execution_count": 24,
   "id": "cae6c091-5b09-4ed4-943d-2b165971bf50",
   "metadata": {},
   "outputs": [
    {
     "data": {
      "text/plain": [
       "1"
      ]
     },
     "execution_count": 24,
     "metadata": {},
     "output_type": "execute_result"
    }
   ],
   "source": [
    "\"\"\" multiline comments\n",
    "This is my  code \n",
    "in python\n",
    "\"\"\"\n",
    "a=1\n",
    "a"
   ]
  },
  {
   "cell_type": "code",
   "execution_count": 1,
   "id": "e9b30927-6b7e-481d-b474-b9085680c45c",
   "metadata": {},
   "outputs": [
    {
     "data": {
      "text/plain": [
       "2"
      ]
     },
     "execution_count": 1,
     "metadata": {},
     "output_type": "execute_result"
    }
   ],
   "source": [
    "1+1"
   ]
  },
  {
   "cell_type": "code",
   "execution_count": 2,
   "id": "8f7aac89-e046-4c98-b654-0ea35b908964",
   "metadata": {},
   "outputs": [
    {
     "name": "stdout",
     "output_type": "stream",
     "text": [
      "2\n"
     ]
    }
   ],
   "source": [
    "print(1+1)"
   ]
  },
  {
   "cell_type": "code",
   "execution_count": 3,
   "id": "79639880-b1e0-403e-9d7f-97ea7d34bbea",
   "metadata": {},
   "outputs": [
    {
     "name": "stdout",
     "output_type": "stream",
     "text": [
      "2\n"
     ]
    }
   ],
   "source": [
    "a=1+1\n",
    "print(a)"
   ]
  },
  {
   "cell_type": "code",
   "execution_count": 4,
   "id": "13d13ab1-bf40-4263-9e64-2c5189cf8912",
   "metadata": {},
   "outputs": [
    {
     "data": {
      "text/plain": [
       "2"
      ]
     },
     "execution_count": 4,
     "metadata": {},
     "output_type": "execute_result"
    }
   ],
   "source": [
    "1+1"
   ]
  },
  {
   "cell_type": "code",
   "execution_count": 5,
   "id": "d3a1e2bb-3ec6-4f85-90d9-f9e89c209f4b",
   "metadata": {},
   "outputs": [
    {
     "ename": "SyntaxError",
     "evalue": "unterminated string literal (detected at line 1) (354110014.py, line 1)",
     "output_type": "error",
     "traceback": [
      "\u001b[0;36m  Cell \u001b[0;32mIn[5], line 1\u001b[0;36m\u001b[0m\n\u001b[0;31m    print(\"im pravesh\u001b[0m\n\u001b[0m          ^\u001b[0m\n\u001b[0;31mSyntaxError\u001b[0m\u001b[0;31m:\u001b[0m unterminated string literal (detected at line 1)\n"
     ]
    }
   ],
   "source": [
    "print(\"im pravesh \n",
    "      from ayodhya\")"
   ]
  },
  {
   "cell_type": "code",
   "execution_count": 7,
   "id": "18097c6b-278b-4822-b5ca-a294c68a438e",
   "metadata": {},
   "outputs": [
    {
     "name": "stdout",
     "output_type": "stream",
     "text": [
      "im pravesh \n",
      "from ayodhya\n"
     ]
    }
   ],
   "source": [
    "print(\"im pravesh \\nfrom ayodhya\")"
   ]
  },
  {
   "cell_type": "markdown",
   "id": "8dfe1a34-b56b-419e-9c9c-67a997c1bad9",
   "metadata": {},
   "source": [
    "# Variable assignment"
   ]
  },
  {
   "cell_type": "code",
   "execution_count": 15,
   "id": "8122154f-c05f-4950-939f-8c84cc59e3e9",
   "metadata": {},
   "outputs": [],
   "source": [
    "name = \"krish\"\n",
    "company =\"pw skills\""
   ]
  },
  {
   "cell_type": "code",
   "execution_count": 9,
   "id": "c2ab93d8-2ade-4e77-a53e-f17b3eef88f2",
   "metadata": {},
   "outputs": [
    {
     "data": {
      "text/plain": [
       "'krish'"
      ]
     },
     "execution_count": 9,
     "metadata": {},
     "output_type": "execute_result"
    }
   ],
   "source": [
    "name"
   ]
  },
  {
   "cell_type": "code",
   "execution_count": 10,
   "id": "dd2cccfd-349f-45fd-9850-eaac283bdf79",
   "metadata": {},
   "outputs": [
    {
     "data": {
      "text/plain": [
       "'pw skills'"
      ]
     },
     "execution_count": 10,
     "metadata": {},
     "output_type": "execute_result"
    }
   ],
   "source": [
    "company"
   ]
  },
  {
   "cell_type": "code",
   "execution_count": 11,
   "id": "d7917018-788f-48c9-8178-974feaf4bf41",
   "metadata": {},
   "outputs": [],
   "source": [
    "number=10"
   ]
  },
  {
   "cell_type": "code",
   "execution_count": 12,
   "id": "749a7bd0-e36a-40a3-b79f-c750824d8efd",
   "metadata": {},
   "outputs": [
    {
     "data": {
      "text/plain": [
       "10"
      ]
     },
     "execution_count": 12,
     "metadata": {},
     "output_type": "execute_result"
    }
   ],
   "source": [
    "number"
   ]
  },
  {
   "cell_type": "code",
   "execution_count": 2,
   "id": "f5f7807f-696f-4f98-9c9f-42296f5ed639",
   "metadata": {},
   "outputs": [],
   "source": [
    "name=\"bala\""
   ]
  },
  {
   "cell_type": "code",
   "execution_count": 14,
   "id": "1e90b2f2-6a22-4587-84f5-012feefe0dd8",
   "metadata": {},
   "outputs": [
    {
     "data": {
      "text/plain": [
       "'bala'"
      ]
     },
     "execution_count": 14,
     "metadata": {},
     "output_type": "execute_result"
    }
   ],
   "source": [
    "name"
   ]
  },
  {
   "cell_type": "code",
   "execution_count": 16,
   "id": "d9f690e5-21b5-4f35-ab9d-97d0cc1b04cd",
   "metadata": {},
   "outputs": [
    {
     "data": {
      "text/plain": [
       "'krish'"
      ]
     },
     "execution_count": 16,
     "metadata": {},
     "output_type": "execute_result"
    }
   ],
   "source": [
    "name"
   ]
  },
  {
   "cell_type": "code",
   "execution_count": 2,
   "id": "0e7ab93f-36b7-4919-8897-ec48f52f8afd",
   "metadata": {},
   "outputs": [
    {
     "data": {
      "text/plain": [
       "20"
      ]
     },
     "execution_count": 2,
     "metadata": {},
     "output_type": "execute_result"
    }
   ],
   "source": [
    "number=20\n",
    "number"
   ]
  },
  {
   "cell_type": "code",
   "execution_count": 18,
   "id": "f84927f1-2684-467a-ba09-8e27b6593679",
   "metadata": {},
   "outputs": [
    {
     "data": {
      "text/plain": [
       "str"
      ]
     },
     "execution_count": 18,
     "metadata": {},
     "output_type": "execute_result"
    }
   ],
   "source": [
    "type(\"\")"
   ]
  },
  {
   "cell_type": "code",
   "execution_count": 19,
   "id": "7e766da8-fad0-4ce6-bcb1-37f6ee4a4ca2",
   "metadata": {},
   "outputs": [
    {
     "data": {
      "text/plain": [
       "str"
      ]
     },
     "execution_count": 19,
     "metadata": {},
     "output_type": "execute_result"
    }
   ],
   "source": [
    "type('')"
   ]
  },
  {
   "cell_type": "code",
   "execution_count": 3,
   "id": "05488e05-e51b-4347-b2b3-650007c3cb49",
   "metadata": {},
   "outputs": [
    {
     "data": {
      "text/plain": [
       "str"
      ]
     },
     "execution_count": 3,
     "metadata": {},
     "output_type": "execute_result"
    }
   ],
   "source": [
    "type(name)"
   ]
  },
  {
   "cell_type": "code",
   "execution_count": 3,
   "id": "5c3cc78d-f541-41fa-9f74-d4854c686469",
   "metadata": {},
   "outputs": [
    {
     "data": {
      "text/plain": [
       "int"
      ]
     },
     "execution_count": 3,
     "metadata": {},
     "output_type": "execute_result"
    }
   ],
   "source": [
    "type(number)"
   ]
  },
  {
   "cell_type": "code",
   "execution_count": 4,
   "id": "a37cc283-5b96-4532-a912-a484aa5273d4",
   "metadata": {},
   "outputs": [
    {
     "data": {
      "text/plain": [
       "2.5"
      ]
     },
     "execution_count": 4,
     "metadata": {},
     "output_type": "execute_result"
    }
   ],
   "source": [
    "decimal_num=2.5\n",
    "decimal_num"
   ]
  },
  {
   "cell_type": "code",
   "execution_count": 5,
   "id": "6a3b5b42-90b2-42a8-9a03-9b77adfb6821",
   "metadata": {},
   "outputs": [
    {
     "data": {
      "text/plain": [
       "float"
      ]
     },
     "execution_count": 5,
     "metadata": {},
     "output_type": "execute_result"
    }
   ],
   "source": [
    "type(decimal_num)"
   ]
  },
  {
   "cell_type": "code",
   "execution_count": 1,
   "id": "86651d0b-d351-4ada-a5fa-8c1aaa01a339",
   "metadata": {},
   "outputs": [
    {
     "data": {
      "text/plain": [
       "str"
      ]
     },
     "execution_count": 1,
     "metadata": {},
     "output_type": "execute_result"
    }
   ],
   "source": [
    "type(\"hello\")"
   ]
  },
  {
   "cell_type": "code",
   "execution_count": 3,
   "id": "dc359565-5b2a-4cb1-a54f-c9e55ee46c8c",
   "metadata": {},
   "outputs": [
    {
     "data": {
      "text/plain": [
       "complex"
      ]
     },
     "execution_count": 3,
     "metadata": {},
     "output_type": "execute_result"
    }
   ],
   "source": [
    "type(1+2j)"
   ]
  },
  {
   "cell_type": "code",
   "execution_count": 5,
   "id": "400c1663-9259-4e6c-b281-114a8023f319",
   "metadata": {},
   "outputs": [
    {
     "ename": "SyntaxError",
     "evalue": "invalid decimal literal (1468700022.py, line 2)",
     "output_type": "error",
     "traceback": [
      "\u001b[0;36m  Cell \u001b[0;32mIn[5], line 2\u001b[0;36m\u001b[0m\n\u001b[0;31m    1a\u001b[0m\n\u001b[0m    ^\u001b[0m\n\u001b[0;31mSyntaxError\u001b[0m\u001b[0;31m:\u001b[0m invalid decimal literal\n"
     ]
    }
   ],
   "source": [
    "# bad way \n",
    "# Dont start the variable name with numbers\n",
    "1a\n",
    "3answe"
   ]
  },
  {
   "cell_type": "code",
   "execution_count": 3,
   "id": "d2ee0e18-60d5-4728-b99f-376f9e228b75",
   "metadata": {},
   "outputs": [
    {
     "name": "stdout",
     "output_type": "stream",
     "text": [
      "ineuron\n",
      "PW SKILLS\n"
     ]
    }
   ],
   "source": [
    "# variables are case sensitive \n",
    "company=\"ineuron\"\n",
    "Company=\"PW SKILLS\"\n",
    "print(company)\n",
    "print(Company)"
   ]
  },
  {
   "cell_type": "code",
   "execution_count": null,
   "id": "4a852f2e-d053-4e94-a5c8-662ba207f1df",
   "metadata": {},
   "outputs": [],
   "source": [
    "# Reserved keywords\n",
    "''' int float len complex str bool return yeild '''\n"
   ]
  },
  {
   "cell_type": "code",
   "execution_count": 4,
   "id": "d838e0bb-6bf4-4ed9-bbce-a0f745d0d65d",
   "metadata": {},
   "outputs": [
    {
     "data": {
      "text/plain": [
       "True"
      ]
     },
     "execution_count": 4,
     "metadata": {},
     "output_type": "execute_result"
    }
   ],
   "source": [
    "#boolean\n",
    "True"
   ]
  },
  {
   "cell_type": "code",
   "execution_count": 5,
   "id": "7129d0f1-3ce4-4c82-be5b-7a64c970c7ab",
   "metadata": {},
   "outputs": [
    {
     "data": {
      "text/plain": [
       "False"
      ]
     },
     "execution_count": 5,
     "metadata": {},
     "output_type": "execute_result"
    }
   ],
   "source": [
    "False"
   ]
  },
  {
   "cell_type": "code",
   "execution_count": 7,
   "id": "6461f25b-ba00-4792-b1db-080c8312d44a",
   "metadata": {},
   "outputs": [
    {
     "data": {
      "text/plain": [
       "False"
      ]
     },
     "execution_count": 7,
     "metadata": {},
     "output_type": "execute_result"
    }
   ],
   "source": [
    "True and False "
   ]
  },
  {
   "cell_type": "code",
   "execution_count": 8,
   "id": "dc252e1b-7927-4318-a1fc-72c9edf9f76b",
   "metadata": {},
   "outputs": [
    {
     "data": {
      "text/plain": [
       "True"
      ]
     },
     "execution_count": 8,
     "metadata": {},
     "output_type": "execute_result"
    }
   ],
   "source": [
    "True or False "
   ]
  },
  {
   "cell_type": "code",
   "execution_count": 10,
   "id": "85728f3e-3f96-4211-a5a2-50008d999722",
   "metadata": {},
   "outputs": [
    {
     "data": {
      "text/plain": [
       "False"
      ]
     },
     "execution_count": 10,
     "metadata": {},
     "output_type": "execute_result"
    }
   ],
   "source": [
    "not True\n"
   ]
  },
  {
   "cell_type": "code",
   "execution_count": 5,
   "id": "93ded46c-2b8e-4a88-9efc-62749f298f7e",
   "metadata": {},
   "outputs": [
    {
     "data": {
      "text/plain": [
       "bool"
      ]
     },
     "execution_count": 5,
     "metadata": {},
     "output_type": "execute_result"
    }
   ],
   "source": [
    "type(not False)"
   ]
  },
  {
   "cell_type": "code",
   "execution_count": 2,
   "id": "8f314c78-029a-426c-b209-5c410f606936",
   "metadata": {},
   "outputs": [
    {
     "data": {
      "text/plain": [
       "False"
      ]
     },
     "execution_count": 2,
     "metadata": {},
     "output_type": "execute_result"
    }
   ],
   "source": [
    "# Typecasting \n",
    "bool(0)"
   ]
  },
  {
   "cell_type": "code",
   "execution_count": 3,
   "id": "deb4b9e9-e12e-46a8-a9b5-78868e28cb5c",
   "metadata": {},
   "outputs": [
    {
     "data": {
      "text/plain": [
       "True"
      ]
     },
     "execution_count": 3,
     "metadata": {},
     "output_type": "execute_result"
    }
   ],
   "source": [
    "bool(1)"
   ]
  },
  {
   "cell_type": "code",
   "execution_count": 2,
   "id": "76c733e3-c4b1-4d7a-a57b-04bf83bb22d1",
   "metadata": {},
   "outputs": [
    {
     "name": "stdout",
     "output_type": "stream",
     "text": [
      "True\n"
     ]
    }
   ],
   "source": [
    "a=1\n",
    "if bool(a)==True:\n",
    "        print(\"True\")\n"
   ]
  },
  {
   "cell_type": "code",
   "execution_count": 8,
   "id": "bcd6f825-6950-4e0e-bbf6-878027ad1dc0",
   "metadata": {},
   "outputs": [
    {
     "data": {
      "text/plain": [
       "False"
      ]
     },
     "execution_count": 8,
     "metadata": {},
     "output_type": "execute_result"
    }
   ],
   "source": [
    "type(bool(a))==True"
   ]
  },
  {
   "cell_type": "code",
   "execution_count": 9,
   "id": "0e4e3bf8-2144-44f6-a599-28d5097147f6",
   "metadata": {},
   "outputs": [
    {
     "data": {
      "text/plain": [
       "'23'"
      ]
     },
     "execution_count": 9,
     "metadata": {},
     "output_type": "execute_result"
    }
   ],
   "source": [
    "str(23)"
   ]
  },
  {
   "cell_type": "code",
   "execution_count": 1,
   "id": "9b131440-6548-4897-9c50-e098bedc4613",
   "metadata": {},
   "outputs": [
    {
     "data": {
      "text/plain": [
       "23"
      ]
     },
     "execution_count": 1,
     "metadata": {},
     "output_type": "execute_result"
    }
   ],
   "source": [
    "int('23')\n",
    "int(\"23\")\n"
   ]
  },
  {
   "cell_type": "markdown",
   "id": "21fa6988-2360-44aa-b79c-eb32f2c5f625",
   "metadata": {},
   "source": [
    "### Dynamic Typing"
   ]
  },
  {
   "cell_type": "code",
   "execution_count": 5,
   "id": "bf23cc56-ad01-48b1-9878-4450004b44ac",
   "metadata": {},
   "outputs": [],
   "source": [
    "a=12\n",
    "str1=\"Krish\""
   ]
  },
  {
   "cell_type": "code",
   "execution_count": 6,
   "id": "88b74ce7-a639-446a-9cf3-8bafe1753072",
   "metadata": {},
   "outputs": [
    {
     "data": {
      "text/plain": [
       "str"
      ]
     },
     "execution_count": 6,
     "metadata": {},
     "output_type": "execute_result"
    }
   ],
   "source": [
    "type(str1)"
   ]
  },
  {
   "cell_type": "code",
   "execution_count": 7,
   "id": "d4adda1f-faa8-4fd7-9e1b-3e0f462b5f65",
   "metadata": {},
   "outputs": [
    {
     "name": "stdout",
     "output_type": "stream",
     "text": [
      "<class 'int'>\n"
     ]
    }
   ],
   "source": [
    "print(type(a))"
   ]
  },
  {
   "cell_type": "code",
   "execution_count": 4,
   "id": "1c8a33d4-f9f1-4710-acd4-85c29eec44d7",
   "metadata": {},
   "outputs": [
    {
     "data": {
      "text/plain": [
       "1"
      ]
     },
     "execution_count": 4,
     "metadata": {},
     "output_type": "execute_result"
    }
   ],
   "source": [
    "int(1.5)"
   ]
  },
  {
   "cell_type": "code",
   "execution_count": 8,
   "id": "db5db406-195c-4fbc-9709-b163611be568",
   "metadata": {},
   "outputs": [
    {
     "data": {
      "text/plain": [
       "'11'"
      ]
     },
     "execution_count": 8,
     "metadata": {},
     "output_type": "execute_result"
    }
   ],
   "source": [
    "### concatination between different types \n",
    "\"1\"+\"1\""
   ]
  },
  {
   "cell_type": "code",
   "execution_count": 9,
   "id": "b50a1cfe-af95-4220-a497-b7f5a81cd228",
   "metadata": {},
   "outputs": [
    {
     "data": {
      "text/plain": [
       "2"
      ]
     },
     "execution_count": 9,
     "metadata": {},
     "output_type": "execute_result"
    }
   ],
   "source": [
    "int(\"1\")+int(\"1\")"
   ]
  },
  {
   "cell_type": "code",
   "execution_count": 1,
   "id": "f495a60b-ba90-4ffb-aa14-4b1cb591741c",
   "metadata": {},
   "outputs": [
    {
     "ename": "TypeError",
     "evalue": "unsupported operand type(s) for +: 'int' and 'str'",
     "output_type": "error",
     "traceback": [
      "\u001b[0;31m---------------------------------------------------------------------------\u001b[0m",
      "\u001b[0;31mTypeError\u001b[0m                                 Traceback (most recent call last)",
      "Cell \u001b[0;32mIn[1], line 1\u001b[0m\n\u001b[0;32m----> 1\u001b[0m \u001b[38;5;28;43mint\u001b[39;49m\u001b[43m(\u001b[49m\u001b[38;5;124;43m\"\u001b[39;49m\u001b[38;5;124;43m1\u001b[39;49m\u001b[38;5;124;43m\"\u001b[39;49m\u001b[43m)\u001b[49m\u001b[38;5;241;43m+\u001b[39;49m\u001b[38;5;124;43m\"\u001b[39;49m\u001b[38;5;124;43m1\u001b[39;49m\u001b[38;5;124;43m\"\u001b[39;49m\n",
      "\u001b[0;31mTypeError\u001b[0m: unsupported operand type(s) for +: 'int' and 'str'"
     ]
    }
   ],
   "source": [
    "int(\"1\")+\"1\""
   ]
  },
  {
   "cell_type": "code",
   "execution_count": 2,
   "id": "a627aa57-df84-49bc-b35c-8def1d5dd980",
   "metadata": {},
   "outputs": [
    {
     "ename": "TypeError",
     "evalue": "can't multiply sequence by non-int of type 'str'",
     "output_type": "error",
     "traceback": [
      "\u001b[0;31m---------------------------------------------------------------------------\u001b[0m",
      "\u001b[0;31mTypeError\u001b[0m                                 Traceback (most recent call last)",
      "Cell \u001b[0;32mIn[2], line 1\u001b[0m\n\u001b[0;32m----> 1\u001b[0m \u001b[38;5;124;43m\"\u001b[39;49m\u001b[38;5;124;43m1\u001b[39;49m\u001b[38;5;124;43m\"\u001b[39;49m\u001b[38;5;241;43m*\u001b[39;49m\u001b[38;5;124;43m\"\u001b[39;49m\u001b[38;5;124;43m1\u001b[39;49m\u001b[38;5;124;43m\"\u001b[39;49m\n",
      "\u001b[0;31mTypeError\u001b[0m: can't multiply sequence by non-int of type 'str'"
     ]
    }
   ],
   "source": [
    "\"1\"*\"1\""
   ]
  },
  {
   "cell_type": "code",
   "execution_count": 3,
   "id": "bcf0b2b6-3134-4295-a9ca-35798bc70c4b",
   "metadata": {},
   "outputs": [
    {
     "data": {
      "text/plain": [
       "'1111111111111111111111111111111111111111111111111111111111111111111111111111111111111111111111111111'"
      ]
     },
     "execution_count": 3,
     "metadata": {},
     "output_type": "execute_result"
    }
   ],
   "source": [
    "\"1\"*100"
   ]
  },
  {
   "cell_type": "code",
   "execution_count": null,
   "id": "6767f027-d7c8-4d2d-9d2c-17cb5a8ca714",
   "metadata": {},
   "outputs": [],
   "source": []
  }
 ],
 "metadata": {
  "kernelspec": {
   "display_name": "Python 3 (ipykernel)",
   "language": "python",
   "name": "python3"
  },
  "language_info": {
   "codemirror_mode": {
    "name": "ipython",
    "version": 3
   },
   "file_extension": ".py",
   "mimetype": "text/x-python",
   "name": "python",
   "nbconvert_exporter": "python",
   "pygments_lexer": "ipython3",
   "version": "3.10.8"
  }
 },
 "nbformat": 4,
 "nbformat_minor": 5
}
