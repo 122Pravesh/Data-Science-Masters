{
 "cells": [
  {
   "cell_type": "markdown",
   "id": "7386596c-b9d6-49c0-b3e3-fc056777a27e",
   "metadata": {},
   "source": [
    "### Q1. Create a function which will take a list as an argument and return the product of all the numbers after creating a flat list.Use the below-given list as an argument for your function.list1 = [1,2,3,4, [44,55,66, True], False, (34,56,78,89,34), {1,2,3,3,2,1}, {1:34, \"key2\": [55, 67, 78, 89], 4: (45,22, 61, 34)}, [56, 'data science'], 'Machine Learning']"
   ]
  },
  {
   "cell_type": "code",
   "execution_count": 2,
   "id": "f0097449-a4c4-4dcc-8402-a3f558dcae23",
   "metadata": {},
   "outputs": [],
   "source": [
    "list1 = [1,2,3,4, [44,55,66, True], False, (34,56,78,89,34), {1,2,3,3,2,1}, {1:34, \"key2\": [55, 67, 78, 89], 4: (45,22, 61, 34)}, [56, 'data science'], 'Machine Learning']"
   ]
  },
  {
   "cell_type": "code",
   "execution_count": 3,
   "id": "5d01cdff-4f50-42fc-9485-37363e690b71",
   "metadata": {},
   "outputs": [
    {
     "data": {
      "text/plain": [
       "[1,\n",
       " 2,\n",
       " 3,\n",
       " 4,\n",
       " [44, 55, 66, True],\n",
       " False,\n",
       " (34, 56, 78, 89, 34),\n",
       " {1, 2, 3},\n",
       " {1: 34, 'key2': [55, 67, 78, 89], 4: (45, 22, 61, 34)},\n",
       " [56, 'data science'],\n",
       " 'Machine Learning']"
      ]
     },
     "execution_count": 3,
     "metadata": {},
     "output_type": "execute_result"
    }
   ],
   "source": [
    "list1"
   ]
  },
  {
   "cell_type": "code",
   "execution_count": 1,
   "id": "d0fb2af8-c9bd-4d32-b1b0-c9b87a5cc549",
   "metadata": {},
   "outputs": [],
   "source": [
    "list1 = [1,2,3,4, [44,55,66, True], False, (34,56,78,89,34), {1,2,3,3,2,1},{1:34, \"key2\": [55, 67, 78, 89], 4: (45,22, 61, 34)}, [56, 'data science'], 'Machine Learning']# phase 1\n",
    "def flatlist(list1):\n",
    "    flist=[]\n",
    "    for i in list1:\n",
    "        if type(i)==list or type(i)==tuple or type(i)==set:\n",
    "            for element in i:\n",
    "                flist.append(element)\n",
    "        elif type(i)==dict:\n",
    "            temp_list=list(i.items())\n",
    "            for i in temp_list: # [(1, 34), ('key2', [55, 67, 78, 89]), (4, (45, 22, 61, 34))\n",
    "                for element in i:\n",
    "                    if type(element)==list or type(element)==tuple:\n",
    "                        for j in element:\n",
    "                            flist.append(j)\n",
    "                    else:\n",
    "                        flist.append(element)\n",
    "        else:\n",
    "            flist.append(i)\n",
    "    return flist\n",
    "#list2=flatlist(list1)\n",
    "#print(list2)\n",
    "#a=1\n",
    "#for i in list2:\n",
    "#    if type(i)==int:\n",
    " #       a=a*i\n",
    "#print(a)\n"
   ]
  },
  {
   "cell_type": "code",
   "execution_count": 3,
   "id": "c0f51950-2349-4638-bb13-d3563ccffb21",
   "metadata": {},
   "outputs": [],
   "source": [
    "list2=flatlist(list1)"
   ]
  },
  {
   "cell_type": "code",
   "execution_count": 8,
   "id": "22d41738-0ede-43b2-b5cc-67f7a6584f5d",
   "metadata": {},
   "outputs": [
    {
     "name": "stdout",
     "output_type": "stream",
     "text": [
      "4134711838987085478833841242112000\n"
     ]
    }
   ],
   "source": [
    "a=1\n",
    "for i in list2:\n",
    "    if type(i)==int:\n",
    "        a=a*i\n",
    "print(a)    \n",
    "        "
   ]
  },
  {
   "cell_type": "markdown",
   "id": "4be29971-5fd4-4e00-a138-de56fc5ae799",
   "metadata": {},
   "source": [
    "### Q2. Write a python program for encrypting a message sent to you by your friend. The logic of encryption should be such that, for a the output should be z. For b, the output should be y. For c, the output should be x respectively. Also, the whitespace should be replaced with a dollar sign. Keep the punctuation marks unchanged.\n",
    "### Input Sentence: I want to become a Data Scientist. Encrypt the above input sentence using the program you just created.\n",
    "### Note: Convert the given input sentence into lowercase before encrypting. The final output should be lowercase."
   ]
  },
  {
   "cell_type": "code",
   "execution_count": 46,
   "id": "9c70df77-6e79-4358-b331-d1bb638b4d9c",
   "metadata": {},
   "outputs": [],
   "source": [
    "string=\"I want to become a Data Scientist. Encrypt the above input sentence using the program you just created\"\n",
    "#string1=string.lower()\n",
    "def encryption(n):\n",
    "    l1={\" \":\"$\",\"a\":\"z\",\"b\":\"y\",\"c\":\"x\",\"d\":\"w\",\"e\":\"v\",\"f\":\"u\",\"g\":\"t\",\"h\":\"s\",\"i\":\"r\",\"j\":\"q\",\"k\":\"p\",\"l\":\"o\",\"m\":\"n\",\"n\":\"m\",\"o\":\"l\",\"p\":\"k\",\"q\":\"j\",\"r\":\"i\",\"s\":\"h\",\"t\":\"g\",\"u\":\"f\",\"v\":\"e\",\"w\":\"d\",\"x\":\"c\",\"y\":\"b\",\"z\":\"a\"}\n",
    "    new=[]\n",
    "    for i in n:\n",
    "        for k,v in l1.items():\n",
    "            if i == k:             \n",
    "                new.append(v)    \n",
    "    result=''.join(new)\n",
    "    print(result)\n",
    "    #return new"
   ]
  },
  {
   "cell_type": "code",
   "execution_count": 47,
   "id": "3d1aa354-260e-47ac-8de2-e042ca136425",
   "metadata": {},
   "outputs": [
    {
     "name": "stdout",
     "output_type": "stream",
     "text": [
      "r$dzmg$gl$yvxlnv$z$wzgz$hxrvmgrhg$vmxibkg$gsv$zylev$rmkfg$hvmgvmxv$fhrmt$gsv$kiltizn$blf$qfhg$xivzgvw\n"
     ]
    }
   ],
   "source": [
    "encryption(list(string.lower()))"
   ]
  },
  {
   "cell_type": "code",
   "execution_count": null,
   "id": "5aa9fb4e-098b-4179-af4a-61464538f771",
   "metadata": {},
   "outputs": [],
   "source": []
  }
 ],
 "metadata": {
  "kernelspec": {
   "display_name": "Python 3 (ipykernel)",
   "language": "python",
   "name": "python3"
  },
  "language_info": {
   "codemirror_mode": {
    "name": "ipython",
    "version": 3
   },
   "file_extension": ".py",
   "mimetype": "text/x-python",
   "name": "python",
   "nbconvert_exporter": "python",
   "pygments_lexer": "ipython3",
   "version": "3.10.8"
  }
 },
 "nbformat": 4,
 "nbformat_minor": 5
}
