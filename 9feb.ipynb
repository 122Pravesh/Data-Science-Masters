{
 "cells": [
  {
   "cell_type": "markdown",
   "id": "392e2dd8-3276-48a6-8aef-98b7c1e01e57",
   "metadata": {},
   "source": [
    "### Q1, Create a vehicle class with an init method having instance variables as name_of_vehicle, max_speed and average_of_vehicle. "
   ]
  },
  {
   "cell_type": "code",
   "execution_count": 3,
   "id": "0d4b0327-4252-4fc7-9c1e-fe73c8886909",
   "metadata": {},
   "outputs": [],
   "source": [
    "class vehicle:\n",
    "    \n",
    "    def __init__(self,name_of_vehicle,max_speed,average_of_vehicle):\n",
    "        self.name_of_vehicle=name_of_vehicle\n",
    "        self.max_speed=max_speed\n",
    "        self.average_of_vehicle=average_of_vehicle"
   ]
  },
  {
   "cell_type": "code",
   "execution_count": 4,
   "id": "a62b131f-4345-48c4-a1a4-9fb3e2245f2d",
   "metadata": {},
   "outputs": [],
   "source": [
    "obj_vehicle=vehicle(\"Innova\",400,200)"
   ]
  },
  {
   "cell_type": "code",
   "execution_count": 5,
   "id": "cf8f9969-5f99-4277-8fb8-baa046c1211d",
   "metadata": {},
   "outputs": [
    {
     "data": {
      "text/plain": [
       "200"
      ]
     },
     "execution_count": 5,
     "metadata": {},
     "output_type": "execute_result"
    }
   ],
   "source": [
    "obj_vehicle.average_of_vehicle"
   ]
  },
  {
   "cell_type": "code",
   "execution_count": 6,
   "id": "9232b829-45dd-4970-bed7-1da13ae066aa",
   "metadata": {},
   "outputs": [
    {
     "data": {
      "text/plain": [
       "400"
      ]
     },
     "execution_count": 6,
     "metadata": {},
     "output_type": "execute_result"
    }
   ],
   "source": [
    "obj_vehicle.max_speed"
   ]
  },
  {
   "cell_type": "code",
   "execution_count": 7,
   "id": "255f6043-8eeb-4166-b7a0-3d300add7a82",
   "metadata": {},
   "outputs": [
    {
     "data": {
      "text/plain": [
       "'Innova'"
      ]
     },
     "execution_count": 7,
     "metadata": {},
     "output_type": "execute_result"
    }
   ],
   "source": [
    "obj_vehicle.name_of_vehicle"
   ]
  },
  {
   "cell_type": "markdown",
   "id": "385851be-0149-4a99-8166-67085bee8e1a",
   "metadata": {},
   "source": [
    "### Q2.  Create a child class car from the vehicle class created in Que 1, which will inherit the vehicle class.Create a method named seating_capacity which takes capacity as an argument and returns the name of the vehicle and its seating capacity."
   ]
  },
  {
   "cell_type": "code",
   "execution_count": 11,
   "id": "ebe28098-fdf9-442a-bb44-4d29c4de31b1",
   "metadata": {},
   "outputs": [],
   "source": [
    "class Vehicle:\n",
    "    def _init_(self, name_of_vehicle, max_speed, average_of_vehicle):\n",
    "        self.name_of_vehicle = name_of_vehicle\n",
    "        self.max_speed = max_speed\n",
    "        self.average_of_vehicle = average_of_vehicle\n",
    "\n",
    "class Car(Vehicle):\n",
    "    def seating_capacity(self, capacity):\n",
    "        return f\"Name of the vehicle: {self.name_of_vehicle}, Seating capacity: {capacity}\" "
   ]
  },
  {
   "cell_type": "code",
   "execution_count": 13,
   "id": "22e424df-a7b5-4854-aa1c-e6a191838e86",
   "metadata": {},
   "outputs": [],
   "source": [
    "obj=car(\"Toyota\",400,120)"
   ]
  },
  {
   "cell_type": "code",
   "execution_count": 15,
   "id": "dd71413b-0c6f-4ac1-87e9-c3510407eae4",
   "metadata": {},
   "outputs": [
    {
     "data": {
      "text/plain": [
       "('Toyota',\n",
       " <bound method car.seating_capacity of <__main__.car object at 0x7fd4925c9ba0>>)"
      ]
     },
     "execution_count": 15,
     "metadata": {},
     "output_type": "execute_result"
    }
   ],
   "source": [
    "obj.seating_capacity(50)"
   ]
  },
  {
   "cell_type": "code",
   "execution_count": 16,
   "id": "b771d2c9-9bbb-4be2-bb1c-d9ee261d5e17",
   "metadata": {},
   "outputs": [
    {
     "data": {
      "text/plain": [
       "400"
      ]
     },
     "execution_count": 16,
     "metadata": {},
     "output_type": "execute_result"
    }
   ],
   "source": [
    "obj.max_speed"
   ]
  },
  {
   "cell_type": "code",
   "execution_count": null,
   "id": "8792eff0-c02f-44d2-8d6a-aeca759eb051",
   "metadata": {},
   "outputs": [],
   "source": []
  }
 ],
 "metadata": {
  "kernelspec": {
   "display_name": "Python 3 (ipykernel)",
   "language": "python",
   "name": "python3"
  },
  "language_info": {
   "codemirror_mode": {
    "name": "ipython",
    "version": 3
   },
   "file_extension": ".py",
   "mimetype": "text/x-python",
   "name": "python",
   "nbconvert_exporter": "python",
   "pygments_lexer": "ipython3",
   "version": "3.10.8"
  }
 },
 "nbformat": 4,
 "nbformat_minor": 5
}
